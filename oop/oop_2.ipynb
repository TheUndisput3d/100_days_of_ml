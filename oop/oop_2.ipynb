{
  "nbformat": 4,
  "nbformat_minor": 0,
  "metadata": {
    "colab": {
      "provenance": []
    },
    "kernelspec": {
      "name": "python3",
      "display_name": "Python 3"
    },
    "language_info": {
      "name": "python"
    }
  },
  "cells": [
    {
      "cell_type": "code",
      "execution_count": null,
      "metadata": {
        "id": "zmgzHbl1jlmV"
      },
      "outputs": [],
      "source": [
        "class User:\n",
        "  def __init__(self, name, account_number, balance):\n",
        "    self.name = name\n",
        "    self.account_number = account_number\n",
        "    self.balance = balance\n",
        "    self.pin = None\n",
        "\n",
        "\n",
        "class AtmMachine(User):\n",
        "  def __init__(self, name, account_number, money=15000) -> None:\n",
        "    super().__init__(name, account_number, money)\n",
        "\n",
        "  def __str__(self):\n",
        "    return self.name\n",
        "  def set_pin(self):\n",
        "    run = True\n",
        "    while run:\n",
        "      try:\n",
        "        self.pin = int(input('Enter a new pin(4 digits): ').strip())\n",
        "      except Exception as e:\n",
        "        print('Invalid pin. Please try again')\n",
        "      else:\n",
        "        if len(str(self.pin)) == 4:\n",
        "          run = False\n",
        "        else:\n",
        "          print('Enter a 4 digit number')\n",
        "    print('Your pin has been successfully set.')\n",
        "\n",
        "  def validate_pin(self):\n",
        "    stop = False\n",
        "    count = 0\n",
        "    while not stop:\n",
        "      try:\n",
        "        if count > 2:\n",
        "          return False\n",
        "        count += 1\n",
        "        pin = int(input('Enter your pin'))\n",
        "\n",
        "      except Exception as e:\n",
        "        print('Pin you entered was not numeric. Enter again')\n",
        "      else:\n",
        "        if pin == self.pin:\n",
        "          return True\n",
        "        print('Your pin was incorrect. Enter again.')\n",
        "\n",
        "  def withdraw_money(self, with_amount):\n",
        "    if not self.pin:\n",
        "      print('You haven\\'t set up a pin. Create a new pin.')\n",
        "      self.set_pin()\n",
        "\n",
        "    if self.validate_pin():\n",
        "      self.balance -= with_amount\n",
        "      self.get_receipt(with_amount)\n",
        "    else:\n",
        "      print('You\\'r account is temporarily suspended incorrect pins more than 3 times.\\nTry again later.')\n",
        "\n",
        "  def get_receipt(self, amount):\n",
        "    print(f'The amount withdrawn is {amount}')\n",
        "    print(f\"Amount left in your account ({self.account_number}), is {self.balance}\")\n",
        "    print(f\"Thanks for using the atm\")\n",
        "\n"
      ]
    },
    {
      "cell_type": "code",
      "source": [
        "user = AtmMachine(\n",
        "    **{'name':'aayush', 'account_number': 718895900, 'money': 50000}\n",
        "    )\n"
      ],
      "metadata": {
        "colab": {
          "base_uri": "https://localhost:8080/"
        },
        "id": "ytT-Mc-l0Jiw",
        "outputId": "509807c3-3d5b-48b4-80d0-b2e788e37742"
      },
      "execution_count": null,
      "outputs": [
        {
          "output_type": "stream",
          "name": "stdout",
          "text": [
            "<__main__.AtmMachine object at 0x7b0ccc7deb00>\n"
          ]
        }
      ]
    },
    {
      "cell_type": "code",
      "source": [
        "user2 = AtmMachine(\n",
        "    **{'name':'harry', 'account_number': 813475905, 'money': 100000}\n",
        "    )\n"
      ],
      "metadata": {
        "colab": {
          "base_uri": "https://localhost:8080/"
        },
        "id": "Iy-uu3MG0g9w",
        "outputId": "e67fa28e-bab5-4252-f650-956a081653d1"
      },
      "execution_count": null,
      "outputs": [
        {
          "output_type": "stream",
          "name": "stdout",
          "text": [
            "<__main__.AtmMachine object at 0x7b0ccc7dc0d0>\n"
          ]
        }
      ]
    },
    {
      "cell_type": "code",
      "source": [
        "user.name"
      ],
      "metadata": {
        "colab": {
          "base_uri": "https://localhost:8080/",
          "height": 36
        },
        "id": "idhnFIUHwcuz",
        "outputId": "e92bad39-827e-4aed-a2dd-7232662eb8d7"
      },
      "execution_count": null,
      "outputs": [
        {
          "output_type": "execute_result",
          "data": {
            "text/plain": [
              "'aayush'"
            ],
            "application/vnd.google.colaboratory.intrinsic+json": {
              "type": "string"
            }
          },
          "metadata": {},
          "execution_count": 98
        }
      ]
    },
    {
      "cell_type": "code",
      "source": [
        "user.balance"
      ],
      "metadata": {
        "colab": {
          "base_uri": "https://localhost:8080/"
        },
        "id": "c1S3AAO5wcsO",
        "outputId": "d903650e-1521-4f44-a11d-863e0b05c867"
      },
      "execution_count": null,
      "outputs": [
        {
          "output_type": "execute_result",
          "data": {
            "text/plain": [
              "50000"
            ]
          },
          "metadata": {},
          "execution_count": 99
        }
      ]
    },
    {
      "cell_type": "code",
      "source": [
        "user.account_number"
      ],
      "metadata": {
        "colab": {
          "base_uri": "https://localhost:8080/"
        },
        "id": "5BU3OP99nS8C",
        "outputId": "12233808-3bde-4ec9-d655-32b7f4f960f1"
      },
      "execution_count": null,
      "outputs": [
        {
          "output_type": "execute_result",
          "data": {
            "text/plain": [
              "718895900"
            ]
          },
          "metadata": {},
          "execution_count": 100
        }
      ]
    },
    {
      "cell_type": "code",
      "source": [
        "user.withdraw_money(with_amount=23000)"
      ],
      "metadata": {
        "colab": {
          "base_uri": "https://localhost:8080/"
        },
        "id": "5hBEZcwhnZ00",
        "outputId": "2805ac19-d8f7-4977-e523-f3e59c092375"
      },
      "execution_count": null,
      "outputs": [
        {
          "output_type": "stream",
          "name": "stdout",
          "text": [
            "Enter your pin4567\n",
            "The amount withdrawn is 23000\n",
            "Amount left in your account (718895900), is 27000\n",
            "Thanks for using the atm\n"
          ]
        }
      ]
    },
    {
      "cell_type": "code",
      "source": [
        " user.pin"
      ],
      "metadata": {
        "colab": {
          "base_uri": "https://localhost:8080/"
        },
        "id": "0rgBPy7Qz-Os",
        "outputId": "2cf844a2-1695-426e-877f-390312af6ad7"
      },
      "execution_count": null,
      "outputs": [
        {
          "output_type": "execute_result",
          "data": {
            "text/plain": [
              "4567"
            ]
          },
          "metadata": {},
          "execution_count": 89
        }
      ]
    },
    {
      "cell_type": "code",
      "source": [
        "user.balance"
      ],
      "metadata": {
        "colab": {
          "base_uri": "https://localhost:8080/"
        },
        "id": "SSjwur980AP5",
        "outputId": "9b325892-6436-4d99-b76d-d243a60e76b5"
      },
      "execution_count": null,
      "outputs": [
        {
          "output_type": "execute_result",
          "data": {
            "text/plain": [
              "27000"
            ]
          },
          "metadata": {},
          "execution_count": 90
        }
      ]
    },
    {
      "cell_type": "code",
      "source": [
        "user2.name"
      ],
      "metadata": {
        "colab": {
          "base_uri": "https://localhost:8080/",
          "height": 36
        },
        "id": "5hfmBnPB0vZL",
        "outputId": "bd4d3003-c952-4285-c320-214d0d9705ff"
      },
      "execution_count": null,
      "outputs": [
        {
          "output_type": "execute_result",
          "data": {
            "text/plain": [
              "'harry'"
            ],
            "application/vnd.google.colaboratory.intrinsic+json": {
              "type": "string"
            }
          },
          "metadata": {},
          "execution_count": 91
        }
      ]
    },
    {
      "cell_type": "code",
      "source": [
        "user2.set_pin()"
      ],
      "metadata": {
        "colab": {
          "base_uri": "https://localhost:8080/"
        },
        "id": "dicvvO7v0xt7",
        "outputId": "9745eb7a-0e5a-4832-bbda-adec27f8726f"
      },
      "execution_count": null,
      "outputs": [
        {
          "output_type": "stream",
          "name": "stdout",
          "text": [
            "Enter a new pin(4 digits): 5678\n",
            "Your pin has been successfully set.\n"
          ]
        }
      ]
    },
    {
      "cell_type": "code",
      "source": [
        "user2.withdraw_money(10000)"
      ],
      "metadata": {
        "colab": {
          "base_uri": "https://localhost:8080/"
        },
        "id": "-chWlI0P1ITs",
        "outputId": "1c1c0255-6ae5-427f-9ca5-7040b0889367"
      },
      "execution_count": null,
      "outputs": [
        {
          "output_type": "stream",
          "name": "stdout",
          "text": [
            "Enter your pin5678\n",
            "The amount withdrawn is 10000\n",
            "Amount left in your account (813475905), is 90000\n",
            "Thanks for using the atm\n"
          ]
        }
      ]
    },
    {
      "cell_type": "code",
      "source": [
        "user2.balance"
      ],
      "metadata": {
        "colab": {
          "base_uri": "https://localhost:8080/"
        },
        "id": "xgnnbTwL1WAV",
        "outputId": "587f2b9f-302b-4ffb-8817-703a67be1e91"
      },
      "execution_count": null,
      "outputs": [
        {
          "output_type": "execute_result",
          "data": {
            "text/plain": [
              "90000"
            ]
          },
          "metadata": {},
          "execution_count": 94
        }
      ]
    },
    {
      "cell_type": "code",
      "source": [
        "class Atm:\n",
        "  #constructor\n",
        "  def __init__(self):\n",
        "    self.pin = ''\n",
        "    self.balance = 0\n",
        "    self.menu()\n",
        "\n",
        "  def menu(self):\n",
        "    user_input = int(input(\"\"\"\n",
        "    Hi, how can I help you?\n",
        "    1. Press 1 to create pin\n",
        "    2. Press 2 to change pin\n",
        "    3. Press 3 to check balance\n",
        "    4. Press 4 to withdraw\n",
        "    5. Anything else to exit\n",
        "    \"\"\"))\n",
        "\n",
        "    if user_input == 1:\n",
        "      self.create_pin()\n",
        "\n",
        "    elif user_input == 2:\n",
        "      self.change_pin()\n",
        "\n",
        "    elif user_input == 3:\n",
        "      self.check_balance()\n",
        "\n",
        "    elif user_input == 4:\n",
        "      self.withdraw()\n",
        "\n",
        "  def create_pin(self):\n",
        "    user_pin = self.intake()\n",
        "    balance = self.intake(inp='balance')\n",
        "    self.pin = user_pin\n",
        "    self.balance = balance\n",
        "    print('Pin creation successfull.')\n",
        "    self.menu()\n",
        "\n",
        "  def intake(self, inp='pin'):\n",
        "    print(self.pin)\n",
        "    return int(input(f'Enter your {inp}: '))\n",
        "\n",
        "  def check_balance(self):\n",
        "    if self.intake() == self.pin:\n",
        "      print(f'Tero current paisa: {self.balance}')\n",
        "    else:\n",
        "      print('chor sala')\n",
        "    self.menu()\n",
        "\n",
        "  def change_pin(self):\n",
        "    exist_pin = self.intake()\n",
        "    if exist_pin == self.pin:\n",
        "      new_pin = self.intake()\n",
        "      self.pin = new_pin\n",
        "      print('Pin change successfull.')\n",
        "    else:\n",
        "      print('galat pin haalis mula.')\n",
        "    self.menu()\n",
        "\n",
        "  def withdraw(self):\n",
        "    if self.intake() == self.pin:\n",
        "      amount = int(input('Enter amount to withdraw'))\n",
        "      if amount <= self.balance:\n",
        "        self.balance -= amount\n",
        "        print(f'You have withdrawn Rs{amount}. Your balance is {self.balance}')\n",
        "      else:\n",
        "        print('Not enough balance')\n",
        "    else:\n",
        "      print('Wrong pin entered')\n",
        "    self.menu()"
      ],
      "metadata": {
        "id": "EjyzvxMs1i8F"
      },
      "execution_count": null,
      "outputs": []
    },
    {
      "cell_type": "code",
      "source": [
        "obj = Atm()"
      ],
      "metadata": {
        "colab": {
          "base_uri": "https://localhost:8080/"
        },
        "id": "fWtNwhfUjVL2",
        "outputId": "15dd6687-c363-4240-a94a-31cb87b0b626"
      },
      "execution_count": null,
      "outputs": [
        {
          "name": "stdout",
          "output_type": "stream",
          "text": [
            "\n",
            "    Hi, how can I help you?\n",
            "    1. Press 1 to create pin\n",
            "    2. Press 2 to change pin\n",
            "    3. Press 3 to check balance\n",
            "    4. Press 4 to withdraw\n",
            "    5. Anything else to exit\n",
            "    1\n",
            "\n",
            "Enter your pin: 1234\n",
            "\n",
            "Enter your balance: 5222\n",
            "Pin creation successfull.\n",
            "\n",
            "    Hi, how can I help you?\n",
            "    1. Press 1 to create pin\n",
            "    2. Press 2 to change pin\n",
            "    3. Press 3 to check balance\n",
            "    4. Press 4 to withdraw\n",
            "    5. Anything else to exit\n",
            "    4\n",
            "1234\n",
            "Enter your pin: 1234\n",
            "Enter amount to withdraw5000\n",
            "You have withdrawn Rs5000. Your balance is 222\n",
            "\n",
            "    Hi, how can I help you?\n",
            "    1. Press 1 to create pin\n",
            "    2. Press 2 to change pin\n",
            "    3. Press 3 to check balance\n",
            "    4. Press 4 to withdraw\n",
            "    5. Anything else to exit\n",
            "    6\n"
          ]
        }
      ]
    },
    {
      "cell_type": "code",
      "source": [
        "obj.pin"
      ],
      "metadata": {
        "colab": {
          "base_uri": "https://localhost:8080/",
          "height": 36
        },
        "id": "8AOF9cumofyL",
        "outputId": "3ac58ca7-c13f-416b-9c1f-b4862edb9343"
      },
      "execution_count": null,
      "outputs": [
        {
          "output_type": "execute_result",
          "data": {
            "text/plain": [
              "'1234'"
            ],
            "application/vnd.google.colaboratory.intrinsic+json": {
              "type": "string"
            }
          },
          "metadata": {},
          "execution_count": 26
        }
      ]
    },
    {
      "cell_type": "code",
      "source": [
        "obj.change_pin()"
      ],
      "metadata": {
        "colab": {
          "base_uri": "https://localhost:8080/"
        },
        "id": "VHSHs6QQoG-U",
        "outputId": "35552de6-11fd-46d7-e16b-15bd7746b2c9"
      },
      "execution_count": null,
      "outputs": [
        {
          "output_type": "stream",
          "name": "stdout",
          "text": [
            "Enter existing pin1234\n",
            "You entered the wrong pin.\n"
          ]
        }
      ]
    },
    {
      "cell_type": "code",
      "source": [
        "1 == '1'"
      ],
      "metadata": {
        "colab": {
          "base_uri": "https://localhost:8080/"
        },
        "id": "VbeknEIwloiN",
        "outputId": "3c58b705-df69-4f1b-e57f-9714b6893d00"
      },
      "execution_count": null,
      "outputs": [
        {
          "output_type": "execute_result",
          "data": {
            "text/plain": [
              "False"
            ]
          },
          "metadata": {},
          "execution_count": 28
        }
      ]
    },
    {
      "cell_type": "code",
      "source": [
        "1 == 1"
      ],
      "metadata": {
        "colab": {
          "base_uri": "https://localhost:8080/"
        },
        "id": "JzQ12kAKovZf",
        "outputId": "c3c63039-0bd0-4fee-e097-e45b32636c5d"
      },
      "execution_count": null,
      "outputs": [
        {
          "output_type": "execute_result",
          "data": {
            "text/plain": [
              "True"
            ]
          },
          "metadata": {},
          "execution_count": 29
        }
      ]
    },
    {
      "cell_type": "code",
      "source": [
        "class Fraction:\n",
        "  def __init__(self, x, y):\n",
        "    self.num = x\n",
        "    self.den = y\n",
        "  def __str__(self):\n",
        "    return f'{self.num}/{self.den}'\n",
        "\n",
        "  def __add__(self, other):\n",
        "    upp_half = self.num * other.den + other.num * self.den\n",
        "    deno = self.den * other.den\n",
        "    return f\"{upp_half}/{deno}\"\n",
        "\n",
        "  def __sub__(self, other):\n",
        "    new_num = self.num * other.den - other.num * self.den\n",
        "    new_deno = self.den * other.den\n",
        "    return '{}/{}'.format(new_num, new_deno)\n",
        "\n",
        "  def __mul__(self, other):\n",
        "    num = self.num * other.num\n",
        "    den = self.den * other.den\n",
        "    return f\"{num}/{den}\"\n",
        "\n",
        "  def __truediv__(self, other):\n",
        "    num = self.num * other.den\n",
        "    den = self.den * other.num\n",
        "    return \"{}/{}\".format(num, den)"
      ],
      "metadata": {
        "id": "RFZliOZQowVn"
      },
      "execution_count": 18,
      "outputs": []
    },
    {
      "cell_type": "code",
      "source": [
        "f1 = Fraction(3, 4)\n",
        "print(f1)"
      ],
      "metadata": {
        "colab": {
          "base_uri": "https://localhost:8080/"
        },
        "id": "eH6BNiYv1tOK",
        "outputId": "b451dfa7-dafb-4c40-e6ba-fb773ffef032"
      },
      "execution_count": 19,
      "outputs": [
        {
          "output_type": "stream",
          "name": "stdout",
          "text": [
            "3/4\n"
          ]
        }
      ]
    },
    {
      "cell_type": "code",
      "source": [
        "f3 = Fraction(2, 3)"
      ],
      "metadata": {
        "id": "EMey7rQz-Wun"
      },
      "execution_count": 20,
      "outputs": []
    },
    {
      "cell_type": "code",
      "source": [
        "f2 = Fraction(1, 2)\n",
        "f1 + f2"
      ],
      "metadata": {
        "colab": {
          "base_uri": "https://localhost:8080/",
          "height": 36
        },
        "id": "3swc1tTr13Vr",
        "outputId": "c6560356-84a1-4fc6-c0b5-7b66d0a3edc2"
      },
      "execution_count": 21,
      "outputs": [
        {
          "output_type": "execute_result",
          "data": {
            "text/plain": [
              "'10/8'"
            ],
            "application/vnd.google.colaboratory.intrinsic+json": {
              "type": "string"
            }
          },
          "metadata": {},
          "execution_count": 21
        }
      ]
    },
    {
      "cell_type": "code",
      "source": [
        "f1 / f2"
      ],
      "metadata": {
        "colab": {
          "base_uri": "https://localhost:8080/",
          "height": 36
        },
        "id": "sY20KDFSKe_K",
        "outputId": "e124ded3-92c8-4873-94a5-0014be867b07"
      },
      "execution_count": 22,
      "outputs": [
        {
          "output_type": "execute_result",
          "data": {
            "text/plain": [
              "'6/4'"
            ],
            "application/vnd.google.colaboratory.intrinsic+json": {
              "type": "string"
            }
          },
          "metadata": {},
          "execution_count": 22
        }
      ]
    },
    {
      "cell_type": "code",
      "source": [
        "f1-f2"
      ],
      "metadata": {
        "colab": {
          "base_uri": "https://localhost:8080/",
          "height": 36
        },
        "id": "uOhe_35z_Qig",
        "outputId": "11c7c524-0660-471c-ef2b-16ca19699576"
      },
      "execution_count": 5,
      "outputs": [
        {
          "output_type": "execute_result",
          "data": {
            "text/plain": [
              "'2/8'"
            ],
            "application/vnd.google.colaboratory.intrinsic+json": {
              "type": "string"
            }
          },
          "metadata": {},
          "execution_count": 5
        }
      ]
    },
    {
      "cell_type": "code",
      "source": [
        "[1, 2] + [2, 3]"
      ],
      "metadata": {
        "colab": {
          "base_uri": "https://localhost:8080/"
        },
        "id": "PerGTMlq9a9O",
        "outputId": "0b84dac5-39f9-45e2-983e-725cbb2868dc"
      },
      "execution_count": null,
      "outputs": [
        {
          "output_type": "execute_result",
          "data": {
            "text/plain": [
              "[1, 2, 2, 3]"
            ]
          },
          "metadata": {},
          "execution_count": 58
        }
      ]
    },
    {
      "cell_type": "code",
      "source": [
        "[1, 2, 3] + [2, 4, 5]+[2, 43, 5]"
      ],
      "metadata": {
        "colab": {
          "base_uri": "https://localhost:8080/"
        },
        "id": "3-gt9xJ2-fY0",
        "outputId": "af36b42d-f73b-4a21-9ba9-69db7b117bbe"
      },
      "execution_count": null,
      "outputs": [
        {
          "output_type": "execute_result",
          "data": {
            "text/plain": [
              "[1, 2, 3, 2, 4, 5, 2, 43, 5]"
            ]
          },
          "metadata": {},
          "execution_count": 59
        }
      ]
    },
    {
      "cell_type": "code",
      "source": [
        "'ab'+'cd'+'ef'"
      ],
      "metadata": {
        "colab": {
          "base_uri": "https://localhost:8080/",
          "height": 36
        },
        "id": "L1SKUeYw-jXs",
        "outputId": "2d26d0ef-5d67-415f-c44b-32f75fe14d11"
      },
      "execution_count": null,
      "outputs": [
        {
          "output_type": "execute_result",
          "data": {
            "text/plain": [
              "'abcdef'"
            ],
            "application/vnd.google.colaboratory.intrinsic+json": {
              "type": "string"
            }
          },
          "metadata": {},
          "execution_count": 67
        }
      ]
    },
    {
      "cell_type": "code",
      "source": [
        "import math"
      ],
      "metadata": {
        "id": "q1VJVaCiT1rn"
      },
      "execution_count": null,
      "outputs": []
    },
    {
      "cell_type": "code",
      "source": [
        "class Point:\n",
        "  def __init__(self, x, y):\n",
        "    self.x = x\n",
        "    self.y = y\n",
        "\n",
        "  def __str__(self):\n",
        "    return \"<{}, {}>\".format(self.x, self.y)\n",
        "\n",
        "  def __add__(self, other):\n",
        "    xsum = self.x + other.x\n",
        "    ysum = self.y + other.y\n",
        "    return \"<{}, {}>\".format(xsum, ysum)\n",
        "\n",
        "  def euclidean_distance(self, other):\n",
        "    return ((self.x-other.x)**2+(self.y-other.y)**2)**0.5\n",
        "\n",
        "  def dist_from_origin(self):\n",
        "    return self.euclidean_distance(Point(0, 0))\n",
        "\n",
        "  def is_on_line(self, line):\n",
        "    if line.a*self.x+line.b*self.y+line.c == 0:\n",
        "      print(f'point{self}lies on line')\n",
        "    else:\n",
        "      print(f'point {self} does not lie on line')\n",
        "\n",
        "  def shortest_distance(self, line):\n",
        "    return abs((line.a*self.x+line.a*self.y+line.c)/(line.a**2+line.b**2)**0.5)\n",
        "\n",
        "class Line:\n",
        "  def __init__(self, a, b, c):\n",
        "    self.a = a\n",
        "    self.b = b\n",
        "    self.c = c\n",
        "\n",
        "  def __str__(self):\n",
        "    return \"{}x {} {}y + {} = 0\".format(self.a, self.b, self.c)\n",
        "\n",
        "  def contains_point(self, other):\n",
        "    if self.a*other.x+self.b*other.y == 0:\n",
        "      print('point lies in line')\n",
        "    else:\n",
        "      print('point does not lies in line')\n",
        "\n",
        "\n",
        ""
      ],
      "metadata": {
        "id": "KLPYNxOV_ff7"
      },
      "execution_count": 13,
      "outputs": []
    },
    {
      "cell_type": "code",
      "source": [
        "l1 = Line(2, 3, 6)\n",
        "print(l1)"
      ],
      "metadata": {
        "colab": {
          "base_uri": "https://localhost:8080/"
        },
        "id": "OGqlAZ1UWD-x",
        "outputId": "6a271612-79d6-40ac-f968-60323951551a"
      },
      "execution_count": 6,
      "outputs": [
        {
          "output_type": "stream",
          "name": "stdout",
          "text": [
            "2x + 3y + 6 = 0\n"
          ]
        }
      ]
    },
    {
      "cell_type": "code",
      "source": [
        "l2 = Line(2, 3, -6)"
      ],
      "metadata": {
        "id": "rEUGPx75zuCH"
      },
      "execution_count": 10,
      "outputs": []
    },
    {
      "cell_type": "code",
      "source": [
        "print(l2)"
      ],
      "metadata": {
        "colab": {
          "base_uri": "https://localhost:8080/"
        },
        "id": "z3ndnwMuzwpE",
        "outputId": "5f43f51a-3efe-47b0-d0b8-c390a4f1c5f9"
      },
      "execution_count": 11,
      "outputs": [
        {
          "output_type": "stream",
          "name": "stdout",
          "text": [
            "2x + 3y + -6 = 0\n"
          ]
        }
      ]
    },
    {
      "cell_type": "code",
      "source": [
        "l1.contains_point(p1)"
      ],
      "metadata": {
        "colab": {
          "base_uri": "https://localhost:8080/"
        },
        "id": "FWx92zmNYVGi",
        "outputId": "84152547-c03f-4923-f0c7-ca50ba9646e6"
      },
      "execution_count": 7,
      "outputs": [
        {
          "output_type": "stream",
          "name": "stdout",
          "text": [
            "point lies in line\n"
          ]
        }
      ]
    },
    {
      "cell_type": "code",
      "source": [
        "p1 = Point(0, 0)\n",
        "print(p1)"
      ],
      "metadata": {
        "colab": {
          "base_uri": "https://localhost:8080/"
        },
        "id": "mTwGMx5QSutU",
        "outputId": "1c8a8145-f3d3-4455-84dd-0f5d8117dd35"
      },
      "execution_count": 15,
      "outputs": [
        {
          "output_type": "stream",
          "name": "stdout",
          "text": [
            "<0, 0>\n"
          ]
        }
      ]
    },
    {
      "cell_type": "code",
      "source": [
        "p1.is_on_line(l1)"
      ],
      "metadata": {
        "colab": {
          "base_uri": "https://localhost:8080/"
        },
        "id": "A_ool9ykzgDz",
        "outputId": "e1d8708a-0043-4c76-d022-8ce01be0247c"
      },
      "execution_count": 9,
      "outputs": [
        {
          "output_type": "stream",
          "name": "stdout",
          "text": [
            "point <0, 0> does not lie on line\n"
          ]
        }
      ]
    },
    {
      "cell_type": "code",
      "source": [
        "p2 = Point(1, 1)\n",
        "print(p2)"
      ],
      "metadata": {
        "colab": {
          "base_uri": "https://localhost:8080/"
        },
        "id": "2CDDPNh4Sx2U",
        "outputId": "da809c64-e96c-4ced-8087-4c1b0698ce97"
      },
      "execution_count": 75,
      "outputs": [
        {
          "output_type": "stream",
          "name": "stdout",
          "text": [
            "<1, 1>\n"
          ]
        }
      ]
    },
    {
      "cell_type": "code",
      "source": [
        "p1.shortest_distance(l1)"
      ],
      "metadata": {
        "colab": {
          "base_uri": "https://localhost:8080/"
        },
        "id": "oDY7hdLj3f4X",
        "outputId": "e3da93f3-cbbe-4c1f-d791-f3bd64f1a79a"
      },
      "execution_count": 16,
      "outputs": [
        {
          "output_type": "execute_result",
          "data": {
            "text/plain": [
              "1.6641005886756874"
            ]
          },
          "metadata": {},
          "execution_count": 16
        }
      ]
    },
    {
      "cell_type": "code",
      "source": [
        "p1 + p2"
      ],
      "metadata": {
        "colab": {
          "base_uri": "https://localhost:8080/",
          "height": 36
        },
        "id": "8N9JhEQ_TOkO",
        "outputId": "021769ac-212e-4b74-9d8b-a400ae9f945e"
      },
      "execution_count": 76,
      "outputs": [
        {
          "output_type": "execute_result",
          "data": {
            "text/plain": [
              "'<1, 1>'"
            ],
            "application/vnd.google.colaboratory.intrinsic+json": {
              "type": "string"
            }
          },
          "metadata": {},
          "execution_count": 76
        }
      ]
    },
    {
      "cell_type": "code",
      "source": [
        "p1.euclidean_distance(p2)"
      ],
      "metadata": {
        "colab": {
          "base_uri": "https://localhost:8080/"
        },
        "id": "kKg96w2CTPt_",
        "outputId": "c3670a30-b37f-46ed-a9fe-87ce58ef8340"
      },
      "execution_count": 77,
      "outputs": [
        {
          "output_type": "execute_result",
          "data": {
            "text/plain": [
              "1.4142135623730951"
            ]
          },
          "metadata": {},
          "execution_count": 77
        }
      ]
    },
    {
      "cell_type": "code",
      "source": [
        "p2.dist_from_origin()"
      ],
      "metadata": {
        "colab": {
          "base_uri": "https://localhost:8080/"
        },
        "id": "Op0IQI0CUnp_",
        "outputId": "480cc4e6-a5d5-4776-e99e-3d8d8974acc2"
      },
      "execution_count": 78,
      "outputs": [
        {
          "output_type": "execute_result",
          "data": {
            "text/plain": [
              "1.4142135623730951"
            ]
          },
          "metadata": {},
          "execution_count": 78
        }
      ]
    },
    {
      "cell_type": "code",
      "source": [
        "class Person:\n",
        "  def __init__(self, name, country):\n",
        "    self.name = name\n",
        "    self.country = country\n",
        "    self.greet()\n",
        "\n",
        "  def greet(self):\n",
        "    print('Hello, {} from {}'.format(self.name, self.country))\n",
        ""
      ],
      "metadata": {
        "id": "zeCP84aYU2mB"
      },
      "execution_count": 17,
      "outputs": []
    },
    {
      "cell_type": "markdown",
      "source": [
        "objects mutability"
      ],
      "metadata": {
        "id": "oX9M_QKEAiwF"
      }
    },
    {
      "cell_type": "code",
      "source": [],
      "metadata": {
        "id": "5OYyzrRfAvJ9"
      },
      "execution_count": null,
      "outputs": []
    },
    {
      "cell_type": "code",
      "source": [
        "p = Person()"
      ],
      "metadata": {
        "id": "ZUNqLRoUAlf9"
      },
      "execution_count": null,
      "outputs": []
    },
    {
      "cell_type": "code",
      "source": [
        "p1 = Person('aayush', 'Nepal')"
      ],
      "metadata": {
        "colab": {
          "base_uri": "https://localhost:8080/"
        },
        "id": "EIFblP9k6pev",
        "outputId": "12be7c96-7eb0-4768-a601-549b4b5c3d6d"
      },
      "execution_count": 18,
      "outputs": [
        {
          "output_type": "stream",
          "name": "stdout",
          "text": [
            "Hello, aayush from Nepal\n"
          ]
        }
      ]
    },
    {
      "cell_type": "code",
      "source": [
        "p1.name"
      ],
      "metadata": {
        "colab": {
          "base_uri": "https://localhost:8080/",
          "height": 36
        },
        "id": "wzg7bkEf6r8I",
        "outputId": "226fe5cd-401e-4956-c075-1422219f22ed"
      },
      "execution_count": 19,
      "outputs": [
        {
          "output_type": "execute_result",
          "data": {
            "text/plain": [
              "'aayush'"
            ],
            "application/vnd.google.colaboratory.intrinsic+json": {
              "type": "string"
            }
          },
          "metadata": {},
          "execution_count": 19
        }
      ]
    },
    {
      "cell_type": "code",
      "source": [
        "p1.country"
      ],
      "metadata": {
        "colab": {
          "base_uri": "https://localhost:8080/",
          "height": 36
        },
        "id": "Dk4lnZaw6t7f",
        "outputId": "a0e358e0-86ae-4691-ce71-7a1b21eb25b1"
      },
      "execution_count": 20,
      "outputs": [
        {
          "output_type": "execute_result",
          "data": {
            "text/plain": [
              "'Nepal'"
            ],
            "application/vnd.google.colaboratory.intrinsic+json": {
              "type": "string"
            }
          },
          "metadata": {},
          "execution_count": 20
        }
      ]
    },
    {
      "cell_type": "code",
      "source": [
        "p1.greet()"
      ],
      "metadata": {
        "colab": {
          "base_uri": "https://localhost:8080/"
        },
        "id": "4u5dySaZ6vOv",
        "outputId": "01402722-d63f-4395-c71f-b6ee6664661b"
      },
      "execution_count": 21,
      "outputs": [
        {
          "output_type": "stream",
          "name": "stdout",
          "text": [
            "Hello, aayush from Nepal\n"
          ]
        }
      ]
    },
    {
      "cell_type": "markdown",
      "source": [
        "### Attributes from outside the class"
      ],
      "metadata": {
        "id": "qBTqUeDcA5z2"
      }
    },
    {
      "cell_type": "code",
      "source": [
        "p1.gender = 'male'"
      ],
      "metadata": {
        "id": "R2PVE00M6weX"
      },
      "execution_count": 22,
      "outputs": []
    },
    {
      "cell_type": "code",
      "source": [
        "p1.gender"
      ],
      "metadata": {
        "colab": {
          "base_uri": "https://localhost:8080/",
          "height": 36
        },
        "id": "4CWOPuzq6-b8",
        "outputId": "3e2e1b7b-b6d6-4b1b-9ebd-7a283cda8603"
      },
      "execution_count": 25,
      "outputs": [
        {
          "output_type": "execute_result",
          "data": {
            "text/plain": [
              "'male'"
            ],
            "application/vnd.google.colaboratory.intrinsic+json": {
              "type": "string"
            }
          },
          "metadata": {},
          "execution_count": 25
        }
      ]
    },
    {
      "cell_type": "markdown",
      "source": [
        "### Refrence variables"
      ],
      "metadata": {
        "id": "KOr7trVfA-C3"
      }
    },
    {
      "cell_type": "code",
      "source": [
        "class Person:\n",
        "  def __init__(self):\n",
        "    self.name = 'aayush'\n",
        "    self.country = 'nepal'\n",
        "\n",
        "Person()"
      ],
      "metadata": {
        "colab": {
          "base_uri": "https://localhost:8080/"
        },
        "id": "7a6M7pwJBG2V",
        "outputId": "0227122c-cc4b-4653-b5ba-65209430d193"
      },
      "execution_count": 50,
      "outputs": [
        {
          "output_type": "execute_result",
          "data": {
            "text/plain": [
              "<__main__.Person at 0x780005e53d90>"
            ]
          },
          "metadata": {},
          "execution_count": 50
        }
      ]
    },
    {
      "cell_type": "code",
      "source": [
        "\n",
        "p = Person()\n",
        "q = p"
      ],
      "metadata": {
        "id": "CNss_M0ABo3R"
      },
      "execution_count": 61,
      "outputs": []
    },
    {
      "cell_type": "code",
      "source": [
        "# Multiple ref\n",
        "print(id(p))\n",
        "id(q)"
      ],
      "metadata": {
        "colab": {
          "base_uri": "https://localhost:8080/"
        },
        "id": "J96QcxMgBH3E",
        "outputId": "9673655c-87b3-455e-958c-dc89bd996d68"
      },
      "execution_count": 51,
      "outputs": [
        {
          "output_type": "stream",
          "name": "stdout",
          "text": [
            "131941494228208\n"
          ]
        },
        {
          "output_type": "execute_result",
          "data": {
            "text/plain": [
              "131941494228208"
            ]
          },
          "metadata": {},
          "execution_count": 51
        }
      ]
    },
    {
      "cell_type": "code",
      "source": [
        "# change attribute value with the help of 2nd object"
      ],
      "metadata": {
        "id": "yYXONH5HBGy5"
      },
      "execution_count": 52,
      "outputs": []
    },
    {
      "cell_type": "code",
      "source": [
        "print(p.name)\n",
        "print(q.name)\n",
        "p.name = 'marshall'\n",
        "print(p.name)\n",
        "print(q.name)"
      ],
      "metadata": {
        "colab": {
          "base_uri": "https://localhost:8080/"
        },
        "id": "BVTRAzPlBGwi",
        "outputId": "4abcc4a2-739d-4d33-b1dd-326c69ae3464"
      },
      "execution_count": 63,
      "outputs": [
        {
          "output_type": "stream",
          "name": "stdout",
          "text": [
            "aayush\n",
            "aayush\n",
            "marshall\n",
            "marshall\n"
          ]
        }
      ]
    },
    {
      "cell_type": "code",
      "source": [
        "r = Person()\n",
        "r.name"
      ],
      "metadata": {
        "colab": {
          "base_uri": "https://localhost:8080/",
          "height": 36
        },
        "id": "e-j7tGw0BGsP",
        "outputId": "9b230fc7-8df9-4ed9-ac30-d264e73f16ae"
      },
      "execution_count": 57,
      "outputs": [
        {
          "output_type": "execute_result",
          "data": {
            "text/plain": [
              "'aayush'"
            ],
            "application/vnd.google.colaboratory.intrinsic+json": {
              "type": "string"
            }
          },
          "metadata": {},
          "execution_count": 57
        }
      ]
    },
    {
      "cell_type": "code",
      "source": [],
      "metadata": {
        "id": "Gk9nba9HCM2J"
      },
      "execution_count": null,
      "outputs": []
    },
    {
      "cell_type": "markdown",
      "source": [
        "### Pass by refrence"
      ],
      "metadata": {
        "id": "JLcpoqOjCHoP"
      }
    },
    {
      "cell_type": "code",
      "source": [
        "class Person:\n",
        "  def __init__(self):\n",
        "    self.name = 'aayush'\n",
        "    self.gender = 'male'\n",
        "\n",
        "\n",
        "# outside the class -> function\n",
        "# def greet(person):\n",
        "#   print(f\"Hello, {person.name}, who is a {person.gender}\")\n",
        "\n",
        "def greet(person):\n",
        "  print(f\"Hello, {person.name}, who is a {person.gender}\")\n",
        "  return person\n",
        "\n",
        "ob = greet(Person())\n",
        "ob.name"
      ],
      "metadata": {
        "colab": {
          "base_uri": "https://localhost:8080/",
          "height": 53
        },
        "id": "R25H-IL5CJo0",
        "outputId": "07d2356a-7a14-4214-eb04-413b99d88483"
      },
      "execution_count": 65,
      "outputs": [
        {
          "output_type": "stream",
          "name": "stdout",
          "text": [
            "Hello, aayush, who is a male\n"
          ]
        },
        {
          "output_type": "execute_result",
          "data": {
            "text/plain": [
              "'aayush'"
            ],
            "application/vnd.google.colaboratory.intrinsic+json": {
              "type": "string"
            }
          },
          "metadata": {},
          "execution_count": 65
        }
      ]
    },
    {
      "cell_type": "markdown",
      "source": [
        "### Encapsulation"
      ],
      "metadata": {
        "id": "S6wSYQd1CJj9"
      }
    },
    {
      "cell_type": "code",
      "source": [],
      "metadata": {
        "id": "rWTv5kIqCJgg"
      },
      "execution_count": null,
      "outputs": []
    },
    {
      "cell_type": "code",
      "source": [
        "p2 = Person('harry', 'India')"
      ],
      "metadata": {
        "colab": {
          "base_uri": "https://localhost:8080/"
        },
        "id": "lebOVIQB65iZ",
        "outputId": "15750b14-6a23-48f2-e538-b098cd5254c8"
      },
      "execution_count": 23,
      "outputs": [
        {
          "output_type": "stream",
          "name": "stdout",
          "text": [
            "Hello, harry from India\n"
          ]
        }
      ]
    },
    {
      "cell_type": "code",
      "source": [
        "p3 = p2"
      ],
      "metadata": {
        "id": "9fDHSwUH7vcg"
      },
      "execution_count": 26,
      "outputs": []
    },
    {
      "cell_type": "code",
      "source": [
        "p3.name"
      ],
      "metadata": {
        "colab": {
          "base_uri": "https://localhost:8080/",
          "height": 36
        },
        "id": "lJUIJBEl7xD5",
        "outputId": "cab607c4-e465-44d0-c371-41a6f7ab5800"
      },
      "execution_count": 27,
      "outputs": [
        {
          "output_type": "execute_result",
          "data": {
            "text/plain": [
              "'harry'"
            ],
            "application/vnd.google.colaboratory.intrinsic+json": {
              "type": "string"
            }
          },
          "metadata": {},
          "execution_count": 27
        }
      ]
    },
    {
      "cell_type": "code",
      "source": [
        "p3.name = 'wallah'"
      ],
      "metadata": {
        "id": "XBDCwKNi7zgp"
      },
      "execution_count": 28,
      "outputs": []
    },
    {
      "cell_type": "code",
      "source": [
        "print(p2.name)\n",
        "print(p3.name)"
      ],
      "metadata": {
        "colab": {
          "base_uri": "https://localhost:8080/"
        },
        "id": "3XJl1YR772sz",
        "outputId": "12fda851-7d6c-4864-fbe1-7d510bd4ee47"
      },
      "execution_count": 29,
      "outputs": [
        {
          "output_type": "stream",
          "name": "stdout",
          "text": [
            "wallah\n",
            "wallah\n"
          ]
        }
      ]
    },
    {
      "cell_type": "code",
      "source": [],
      "metadata": {
        "id": "YW5mhLrX_csS"
      },
      "execution_count": null,
      "outputs": []
    },
    {
      "cell_type": "code",
      "source": [
        "\n",
        "\n",
        "def fnc(par):\n",
        "  print(id(par))\n",
        "  par=3\n",
        "  return par\n",
        "\n",
        "a = 3\n",
        "print(id(a))\n",
        "n1 = fnc(a)\n",
        "print(id(n1))"
      ],
      "metadata": {
        "colab": {
          "base_uri": "https://localhost:8080/"
        },
        "id": "oCGRy_Um9e5h",
        "outputId": "78937ff3-324a-4051-f382-5d9f4ce63437"
      },
      "execution_count": 34,
      "outputs": [
        {
          "output_type": "stream",
          "name": "stdout",
          "text": [
            "131942817464624\n",
            "131942817464624\n",
            "131942817464656\n"
          ]
        }
      ]
    },
    {
      "cell_type": "code",
      "source": [
        "a = 3"
      ],
      "metadata": {
        "id": "d6RGU-9W-P6u"
      },
      "execution_count": 35,
      "outputs": []
    },
    {
      "cell_type": "code",
      "source": [
        "id(a)"
      ],
      "metadata": {
        "colab": {
          "base_uri": "https://localhost:8080/"
        },
        "id": "txuVEazw-qGB",
        "outputId": "a88b236a-656c-46e2-9308-df861de27195"
      },
      "execution_count": 36,
      "outputs": [
        {
          "output_type": "execute_result",
          "data": {
            "text/plain": [
              "131942817464624"
            ]
          },
          "metadata": {},
          "execution_count": 36
        }
      ]
    },
    {
      "cell_type": "code",
      "source": [
        "id(a)"
      ],
      "metadata": {
        "colab": {
          "base_uri": "https://localhost:8080/"
        },
        "id": "ppeMZwJ6-rwp",
        "outputId": "295dac4d-d356-4844-bd0e-c3e66c9630b4"
      },
      "execution_count": 38,
      "outputs": [
        {
          "output_type": "execute_result",
          "data": {
            "text/plain": [
              "131942817464624"
            ]
          },
          "metadata": {},
          "execution_count": 38
        }
      ]
    },
    {
      "cell_type": "code",
      "source": [
        "a=3\n",
        "b=3\n",
        "print(id(a))\n",
        "print(id(b))"
      ],
      "metadata": {
        "colab": {
          "base_uri": "https://localhost:8080/"
        },
        "id": "Gtni6Uvh-sYR",
        "outputId": "4595be9c-dc02-4deb-f637-b158ee3f2378"
      },
      "execution_count": 40,
      "outputs": [
        {
          "output_type": "stream",
          "name": "stdout",
          "text": [
            "131942817464624\n",
            "131942817464624\n"
          ]
        }
      ]
    },
    {
      "cell_type": "code",
      "source": [
        "c = list('123')"
      ],
      "metadata": {
        "id": "3OuCNrjn_DZs"
      },
      "execution_count": 42,
      "outputs": []
    },
    {
      "cell_type": "code",
      "source": [
        "d = list('123')"
      ],
      "metadata": {
        "id": "gX4Bo8Zm_LrN"
      },
      "execution_count": 43,
      "outputs": []
    },
    {
      "cell_type": "code",
      "source": [
        "print(id(c))\n",
        "print(id(d))"
      ],
      "metadata": {
        "colab": {
          "base_uri": "https://localhost:8080/"
        },
        "id": "jO2E1Mlu_T9V",
        "outputId": "35765fdd-861f-448a-e404-49be9eb688e7"
      },
      "execution_count": 44,
      "outputs": [
        {
          "output_type": "stream",
          "name": "stdout",
          "text": [
            "131941903474880\n",
            "131941493692032\n"
          ]
        }
      ]
    },
    {
      "cell_type": "code",
      "source": [
        "class Atm:\n",
        "  #constructor\n",
        "  def __init__(self):\n",
        "    self.pin = ''\n",
        "    self.__balance = 0\n",
        "    #self.__menu()\n",
        "\n",
        "  def __menu(self):\n",
        "    user_input = int(input(\"\"\"\n",
        "    Hi, how can I help you?\n",
        "    1. Press 1 to create pin\n",
        "    2. Press 2 to change pin\n",
        "    3. Press 3 to check balance\n",
        "    4. Press 4 to withdraw\n",
        "    5. Anything else to exit\n",
        "    \"\"\"))\n",
        "\n",
        "    if user_input == 1:\n",
        "      self.create_pin()\n",
        "\n",
        "    elif user_input == 2:\n",
        "      self.change_pin()\n",
        "\n",
        "    elif user_input == 3:\n",
        "      self.check_balance()\n",
        "\n",
        "    elif user_input == 4:\n",
        "      self.withdraw()\n",
        "\n",
        "  def create_pin(self):\n",
        "    user_pin = self.intake()\n",
        "    __balance = self.intake(inp='balance')\n",
        "    self.pin = user_pin\n",
        "    self.__balance = __balance\n",
        "    print('Pin creation successfull.')\n",
        "    self.__menu()\n",
        "\n",
        "  def get_balance(self):\n",
        "    return self.__balance\n",
        "\n",
        "  def set_balance(self, amount):\n",
        "    # if isinstance(amount, int):\n",
        "    if type(amount) == int:\n",
        "      self.__balance = amount\n",
        "    else:\n",
        "      print('not allowed')\n",
        "\n",
        "  def intake(self, inp='pin'):\n",
        "    if inp=='pin':\n",
        "      return input(f'Enter your {inp}: ')\n",
        "    return int(input(f'Enter your {inp}: '))\n",
        "\n",
        "  def check_balance(self):\n",
        "    if self.intake() == self.pin:\n",
        "      print(f'Tero current paisa: {self.__balance}')\n",
        "    else:\n",
        "      print('chor sala')\n",
        "    self.__menu()\n",
        "\n",
        "  def change_pin(self):\n",
        "    exist_pin = self.intake()\n",
        "    if exist_pin == self.pin:\n",
        "      new_pin = self.intake()\n",
        "      self.pin = new_pin\n",
        "      print('Pin change successfull.')\n",
        "    else:\n",
        "      print('galat pin haalis mula.')\n",
        "    self.__menu()\n",
        "\n",
        "  def withdraw(self):\n",
        "    if self.intake() == self.pin:\n",
        "      amount = int(input('Enter amount to withdraw'))\n",
        "      if amount <= self.__balance:\n",
        "        self.__balance -= amount\n",
        "        print(f'You have withdrawn Rs{amount}. Your balance is {self.__balance}')\n",
        "      else:\n",
        "        print('Not enough balance')\n",
        "    else:\n",
        "      print('Wrong pin entered')\n",
        "    self.__menu()"
      ],
      "metadata": {
        "id": "qcWvxN_tXhyo"
      },
      "execution_count": 119,
      "outputs": []
    },
    {
      "cell_type": "code",
      "source": [
        "o1 = Atm()"
      ],
      "metadata": {
        "id": "PyzsKiSi_W6W"
      },
      "execution_count": 120,
      "outputs": []
    },
    {
      "cell_type": "code",
      "source": [
        "o1.get_balance()"
      ],
      "metadata": {
        "colab": {
          "base_uri": "https://localhost:8080/"
        },
        "id": "wqwZF_4WectC",
        "outputId": "446a2e0f-ea5a-4dc6-e95a-959b3a6f2f00"
      },
      "execution_count": 121,
      "outputs": [
        {
          "output_type": "execute_result",
          "data": {
            "text/plain": [
              "0"
            ]
          },
          "metadata": {},
          "execution_count": 121
        }
      ]
    },
    {
      "cell_type": "code",
      "source": [
        "type(5)"
      ],
      "metadata": {
        "colab": {
          "base_uri": "https://localhost:8080/"
        },
        "id": "0uXkX9H9ft1a",
        "outputId": "86803341-8ffd-4bf9-bd9b-f56c09be47ab"
      },
      "execution_count": 124,
      "outputs": [
        {
          "output_type": "execute_result",
          "data": {
            "text/plain": [
              "int"
            ]
          },
          "metadata": {},
          "execution_count": 124
        }
      ]
    },
    {
      "cell_type": "code",
      "source": [
        "type(5) == 'int'"
      ],
      "metadata": {
        "colab": {
          "base_uri": "https://localhost:8080/"
        },
        "id": "9uS84g1FfvEs",
        "outputId": "e44b650b-2488-46e2-db24-9b62927e4c49"
      },
      "execution_count": 126,
      "outputs": [
        {
          "output_type": "execute_result",
          "data": {
            "text/plain": [
              "False"
            ]
          },
          "metadata": {},
          "execution_count": 126
        }
      ]
    },
    {
      "cell_type": "code",
      "source": [
        "o1.set_balance(5000)"
      ],
      "metadata": {
        "id": "U16dB3Ike_W4"
      },
      "execution_count": 122,
      "outputs": []
    },
    {
      "cell_type": "code",
      "source": [
        "o1.set_balance('hehehe')"
      ],
      "metadata": {
        "colab": {
          "base_uri": "https://localhost:8080/"
        },
        "id": "BmAE6gF2fHDX",
        "outputId": "b97af65b-ab34-44bb-b4a8-d0943f970433"
      },
      "execution_count": 123,
      "outputs": [
        {
          "output_type": "stream",
          "name": "stdout",
          "text": [
            "not allowed\n"
          ]
        }
      ]
    },
    {
      "cell_type": "code",
      "source": [
        "o1.create_pin()"
      ],
      "metadata": {
        "colab": {
          "base_uri": "https://localhost:8080/"
        },
        "id": "ji5gb_oQar9Y",
        "outputId": "16fd5ab1-37ef-472c-9c8e-655d6c889b09"
      },
      "execution_count": 107,
      "outputs": [
        {
          "name": "stdout",
          "output_type": "stream",
          "text": [
            "Enter your pin: \n",
            "Enter your balance: 5000\n",
            "Pin creation successfull.\n",
            "\n",
            "    Hi, how can I help you?\n",
            "    1. Press 1 to create pin\n",
            "    2. Press 2 to change pin\n",
            "    3. Press 3 to check balance\n",
            "    4. Press 4 to withdraw\n",
            "    5. Anything else to exit\n",
            "    5\n"
          ]
        }
      ]
    },
    {
      "cell_type": "code",
      "source": [
        "o1.create_pin()\n",
        "o1.__balance = 'abcd'"
      ],
      "metadata": {
        "colab": {
          "base_uri": "https://localhost:8080/"
        },
        "id": "6nAzL8UdXfXL",
        "outputId": "677f956e-b5d4-4201-dbed-b75f97cd8e83"
      },
      "execution_count": 97,
      "outputs": [
        {
          "name": "stdout",
          "output_type": "stream",
          "text": [
            "Enter your pin: 45657\n",
            "Enter your balance: 4564\n",
            "Pin creation successfull.\n",
            "\n",
            "    Hi, how can I help you?\n",
            "    1. Press 1 to create pin\n",
            "    2. Press 2 to change pin\n",
            "    3. Press 3 to check balance\n",
            "    4. Press 4 to withdraw\n",
            "    5. Anything else to exit\n",
            "    5\n"
          ]
        }
      ]
    },
    {
      "cell_type": "code",
      "source": [
        "o1.withdraw()"
      ],
      "metadata": {
        "colab": {
          "base_uri": "https://localhost:8080/",
          "height": 297
        },
        "id": "VpieT_P8X0n9",
        "outputId": "e3fe8e79-0c21-4f75-8e92-837f9328da6a"
      },
      "execution_count": 118,
      "outputs": [
        {
          "name": "stdout",
          "output_type": "stream",
          "text": [
            "Enter your pin: \n",
            "Enter amount to withdraw5000\n"
          ]
        },
        {
          "output_type": "error",
          "ename": "TypeError",
          "evalue": "'<=' not supported between instances of 'int' and 'str'",
          "traceback": [
            "\u001b[0;31m---------------------------------------------------------------------------\u001b[0m",
            "\u001b[0;31mTypeError\u001b[0m                                 Traceback (most recent call last)",
            "\u001b[0;32m<ipython-input-118-3e44ba0d1487>\u001b[0m in \u001b[0;36m<cell line: 1>\u001b[0;34m()\u001b[0m\n\u001b[0;32m----> 1\u001b[0;31m \u001b[0mo1\u001b[0m\u001b[0;34m.\u001b[0m\u001b[0mwithdraw\u001b[0m\u001b[0;34m(\u001b[0m\u001b[0;34m)\u001b[0m\u001b[0;34m\u001b[0m\u001b[0;34m\u001b[0m\u001b[0m\n\u001b[0m",
            "\u001b[0;32m<ipython-input-111-048fd1a9b2d7>\u001b[0m in \u001b[0;36mwithdraw\u001b[0;34m(self)\u001b[0m\n\u001b[1;32m     67\u001b[0m     \u001b[0;32mif\u001b[0m \u001b[0mself\u001b[0m\u001b[0;34m.\u001b[0m\u001b[0mintake\u001b[0m\u001b[0;34m(\u001b[0m\u001b[0;34m)\u001b[0m \u001b[0;34m==\u001b[0m \u001b[0mself\u001b[0m\u001b[0;34m.\u001b[0m\u001b[0mpin\u001b[0m\u001b[0;34m:\u001b[0m\u001b[0;34m\u001b[0m\u001b[0;34m\u001b[0m\u001b[0m\n\u001b[1;32m     68\u001b[0m       \u001b[0mamount\u001b[0m \u001b[0;34m=\u001b[0m \u001b[0mint\u001b[0m\u001b[0;34m(\u001b[0m\u001b[0minput\u001b[0m\u001b[0;34m(\u001b[0m\u001b[0;34m'Enter amount to withdraw'\u001b[0m\u001b[0;34m)\u001b[0m\u001b[0;34m)\u001b[0m\u001b[0;34m\u001b[0m\u001b[0;34m\u001b[0m\u001b[0m\n\u001b[0;32m---> 69\u001b[0;31m       \u001b[0;32mif\u001b[0m \u001b[0mamount\u001b[0m \u001b[0;34m<=\u001b[0m \u001b[0mself\u001b[0m\u001b[0;34m.\u001b[0m\u001b[0m__balance\u001b[0m\u001b[0;34m:\u001b[0m\u001b[0;34m\u001b[0m\u001b[0;34m\u001b[0m\u001b[0m\n\u001b[0m\u001b[1;32m     70\u001b[0m         \u001b[0mself\u001b[0m\u001b[0;34m.\u001b[0m\u001b[0m__balance\u001b[0m \u001b[0;34m-=\u001b[0m \u001b[0mamount\u001b[0m\u001b[0;34m\u001b[0m\u001b[0;34m\u001b[0m\u001b[0m\n\u001b[1;32m     71\u001b[0m         \u001b[0mprint\u001b[0m\u001b[0;34m(\u001b[0m\u001b[0;34mf'You have withdrawn Rs{amount}. Your balance is {self.__balance}'\u001b[0m\u001b[0;34m)\u001b[0m\u001b[0;34m\u001b[0m\u001b[0;34m\u001b[0m\u001b[0m\n",
            "\u001b[0;31mTypeError\u001b[0m: '<=' not supported between instances of 'int' and 'str'"
          ]
        }
      ]
    },
    {
      "cell_type": "code",
      "source": [
        "o1._Atm__balance"
      ],
      "metadata": {
        "colab": {
          "base_uri": "https://localhost:8080/"
        },
        "id": "18ghgLVdaKwc",
        "outputId": "d85736fa-ebb4-4ec3-8f8d-02ff7b6d8e73"
      },
      "execution_count": 242,
      "outputs": [
        {
          "output_type": "execute_result",
          "data": {
            "text/plain": [
              "5000"
            ]
          },
          "metadata": {},
          "execution_count": 242
        }
      ]
    },
    {
      "cell_type": "code",
      "source": [
        "o1.__balance"
      ],
      "metadata": {
        "colab": {
          "base_uri": "https://localhost:8080/",
          "height": 36
        },
        "id": "z_bjJCKDcQEX",
        "outputId": "1f2f5612-bfda-4722-9084-5f3ab8a3a8b2"
      },
      "execution_count": 100,
      "outputs": [
        {
          "output_type": "execute_result",
          "data": {
            "text/plain": [
              "'abcd'"
            ],
            "application/vnd.google.colaboratory.intrinsic+json": {
              "type": "string"
            }
          },
          "metadata": {},
          "execution_count": 100
        }
      ]
    },
    {
      "cell_type": "markdown",
      "source": [
        "### when a variable is changed to private with `__` its  name actually becomes `_class_name__variable_name`"
      ],
      "metadata": {
        "id": "KL2u2LM9cS5I"
      }
    },
    {
      "cell_type": "code",
      "source": [
        "o1._Atm__balance = 'hehehe'\n",
        "o1.withdraw()"
      ],
      "metadata": {
        "colab": {
          "base_uri": "https://localhost:8080/",
          "height": 315
        },
        "id": "E2WsSWZacf-h",
        "outputId": "3c1fa910-deaf-4d9d-a380-08d7467d1d14"
      },
      "execution_count": 102,
      "outputs": [
        {
          "name": "stdout",
          "output_type": "stream",
          "text": [
            "Enter your pin: 45657\n",
            "Enter amount to withdraw564\n"
          ]
        },
        {
          "output_type": "error",
          "ename": "TypeError",
          "evalue": "'<=' not supported between instances of 'int' and 'str'",
          "traceback": [
            "\u001b[0;31m---------------------------------------------------------------------------\u001b[0m",
            "\u001b[0;31mTypeError\u001b[0m                                 Traceback (most recent call last)",
            "\u001b[0;32m<ipython-input-102-320e5f707a4c>\u001b[0m in \u001b[0;36m<cell line: 2>\u001b[0;34m()\u001b[0m\n\u001b[1;32m      1\u001b[0m \u001b[0mo1\u001b[0m\u001b[0;34m.\u001b[0m\u001b[0m_Atm__balance\u001b[0m \u001b[0;34m=\u001b[0m \u001b[0;34m'hehehe'\u001b[0m\u001b[0;34m\u001b[0m\u001b[0;34m\u001b[0m\u001b[0m\n\u001b[0;32m----> 2\u001b[0;31m \u001b[0mo1\u001b[0m\u001b[0;34m.\u001b[0m\u001b[0mwithdraw\u001b[0m\u001b[0;34m(\u001b[0m\u001b[0;34m)\u001b[0m\u001b[0;34m\u001b[0m\u001b[0;34m\u001b[0m\u001b[0m\n\u001b[0m",
            "\u001b[0;32m<ipython-input-94-ffdf6ab652a0>\u001b[0m in \u001b[0;36mwithdraw\u001b[0;34m(self)\u001b[0m\n\u001b[1;32m     59\u001b[0m     \u001b[0;32mif\u001b[0m \u001b[0mself\u001b[0m\u001b[0;34m.\u001b[0m\u001b[0mintake\u001b[0m\u001b[0;34m(\u001b[0m\u001b[0;34m)\u001b[0m \u001b[0;34m==\u001b[0m \u001b[0mself\u001b[0m\u001b[0;34m.\u001b[0m\u001b[0mpin\u001b[0m\u001b[0;34m:\u001b[0m\u001b[0;34m\u001b[0m\u001b[0;34m\u001b[0m\u001b[0m\n\u001b[1;32m     60\u001b[0m       \u001b[0mamount\u001b[0m \u001b[0;34m=\u001b[0m \u001b[0mint\u001b[0m\u001b[0;34m(\u001b[0m\u001b[0minput\u001b[0m\u001b[0;34m(\u001b[0m\u001b[0;34m'Enter amount to withdraw'\u001b[0m\u001b[0;34m)\u001b[0m\u001b[0;34m)\u001b[0m\u001b[0;34m\u001b[0m\u001b[0;34m\u001b[0m\u001b[0m\n\u001b[0;32m---> 61\u001b[0;31m       \u001b[0;32mif\u001b[0m \u001b[0mamount\u001b[0m \u001b[0;34m<=\u001b[0m \u001b[0mself\u001b[0m\u001b[0;34m.\u001b[0m\u001b[0m__balance\u001b[0m\u001b[0;34m:\u001b[0m\u001b[0;34m\u001b[0m\u001b[0;34m\u001b[0m\u001b[0m\n\u001b[0m\u001b[1;32m     62\u001b[0m         \u001b[0mself\u001b[0m\u001b[0;34m.\u001b[0m\u001b[0m__balance\u001b[0m \u001b[0;34m-=\u001b[0m \u001b[0mamount\u001b[0m\u001b[0;34m\u001b[0m\u001b[0;34m\u001b[0m\u001b[0m\n\u001b[1;32m     63\u001b[0m         \u001b[0mprint\u001b[0m\u001b[0;34m(\u001b[0m\u001b[0;34mf'You have withdrawn Rs{amount}. Your balance is {self.__balance}'\u001b[0m\u001b[0;34m)\u001b[0m\u001b[0;34m\u001b[0m\u001b[0;34m\u001b[0m\u001b[0m\n",
            "\u001b[0;31mTypeError\u001b[0m: '<=' not supported between instances of 'int' and 'str'"
          ]
        }
      ]
    },
    {
      "cell_type": "markdown",
      "source": [
        "### collection of objects"
      ],
      "metadata": {
        "id": "T0qDUmJXc-qU"
      }
    },
    {
      "cell_type": "code",
      "source": [
        "class Person:\n",
        "  def __init__(self, name, gender):\n",
        "    self.name = name\n",
        "    self.gender = gender\n",
        "\n"
      ],
      "metadata": {
        "id": "kCrY2pEMgHcv"
      },
      "execution_count": 128,
      "outputs": []
    },
    {
      "cell_type": "code",
      "source": [
        "p1 = Person('aayush', 'male')\n",
        "p2 = Person('ankita', 'female')\n",
        "p3 = Person('purshottam', 'male')"
      ],
      "metadata": {
        "id": "Y60rQIxFgQjS"
      },
      "execution_count": 129,
      "outputs": []
    },
    {
      "cell_type": "code",
      "source": [
        "lst = [p1, p2, p3]\n",
        "lst"
      ],
      "metadata": {
        "colab": {
          "base_uri": "https://localhost:8080/"
        },
        "id": "_nBDYBwTge7D",
        "outputId": "8a8dba40-3b61-42e5-e4d2-fca2a82154b4"
      },
      "execution_count": 130,
      "outputs": [
        {
          "output_type": "execute_result",
          "data": {
            "text/plain": [
              "[<__main__.Person at 0x780005cbda50>,\n",
              " <__main__.Person at 0x780005cbf2b0>,\n",
              " <__main__.Person at 0x780005cbe7d0>]"
            ]
          },
          "metadata": {},
          "execution_count": 130
        }
      ]
    },
    {
      "cell_type": "code",
      "source": [
        "for i in lst:\n",
        "  print(i.name, i.gender)"
      ],
      "metadata": {
        "colab": {
          "base_uri": "https://localhost:8080/"
        },
        "id": "KjIcKWNQgiu7",
        "outputId": "db14102a-1661-4a69-ae7a-72bd78260d71"
      },
      "execution_count": 132,
      "outputs": [
        {
          "output_type": "stream",
          "name": "stdout",
          "text": [
            "aayush male\n",
            "ankita female\n",
            "purshottam male\n"
          ]
        }
      ]
    },
    {
      "cell_type": "markdown",
      "source": [
        "### static variables vs instance variables"
      ],
      "metadata": {
        "id": "rOO-8lD1glvT"
      }
    },
    {
      "cell_type": "code",
      "source": [
        "class Atm:\n",
        "  #constructor\n",
        "  __counter = 1\n",
        "  def __init__(self):\n",
        "    self.pin = ''\n",
        "    self.__balance = 0\n",
        "    self.cid = Atm.__counter\n",
        "    Atm.__counter += 1\n",
        "    #self.__menu()\n",
        "\n",
        "  @staticmethod\n",
        "  def get_counter():\n",
        "    return Atm.__counter\n",
        "\n",
        "  @staticmethod\n",
        "  def set_counter(value):\n",
        "    if type(value) == int:\n",
        "      Atm.__counter = value\n",
        "\n",
        "  def __menu(self):\n",
        "    user_input = int(input(\"\"\"\n",
        "    Hi, how can I help you?\n",
        "    1. Press 1 to create pin\n",
        "    2. Press 2 to change pin\n",
        "    3. Press 3 to check balance\n",
        "    4. Press 4 to withdraw\n",
        "    5. Anything else to exit\n",
        "    \"\"\"))\n",
        "\n",
        "    if user_input == 1:\n",
        "      self.create_pin()\n",
        "\n",
        "    elif user_input == 2:\n",
        "      self.change_pin()\n",
        "\n",
        "    elif user_input == 3:\n",
        "      self.check_balance()\n",
        "\n",
        "    elif user_input == 4:\n",
        "      self.withdraw()\n",
        "\n",
        "  def create_pin(self):\n",
        "    user_pin = self.intake()\n",
        "    __balance = self.intake(inp='balance')\n",
        "    self.pin = user_pin\n",
        "    self.__balance = __balance\n",
        "    print('Pin creation successfull.')\n",
        "    self.__menu()\n",
        "\n",
        "  def get_balance(self):\n",
        "    return self.__balance\n",
        "\n",
        "  def set_balance(self, amount):\n",
        "    # if isinstance(amount, int):\n",
        "    if type(amount) == int:\n",
        "      self.__balance = amount\n",
        "    else:\n",
        "      print('not allowed')\n",
        "\n",
        "  def intake(self, inp='pin'):\n",
        "    if inp=='pin':\n",
        "      return input(f'Enter your {inp}: ')\n",
        "    return int(input(f'Enter your {inp}: '))\n",
        "\n",
        "  def check_balance(self):\n",
        "    if self.intake() == self.pin:\n",
        "      print(f'Tero current paisa: {self.__balance}')\n",
        "    else:\n",
        "      print('chor sala')\n",
        "    self.__menu()\n",
        "\n",
        "  def change_pin(self):\n",
        "    exist_pin = self.intake()\n",
        "    if exist_pin == self.pin:\n",
        "      new_pin = self.intake()\n",
        "      self.pin = new_pin\n",
        "      print('Pin change successfull.')\n",
        "    else:\n",
        "      print('galat pin haalis mula.')\n",
        "    self.__menu()\n",
        "\n",
        "  def withdraw(self):\n",
        "    if self.intake() == self.pin:\n",
        "      amount = int(input('Enter amount to withdraw'))\n",
        "      if amount <= self.__balance:\n",
        "        self.__balance -= amount\n",
        "        print(f'You have withdrawn Rs{amount}. Your balance is {self.__balance}')\n",
        "      else:\n",
        "        print('Not enough balance')\n",
        "    else:\n",
        "      print('Wrong pin entered')\n",
        "    self.__menu()"
      ],
      "metadata": {
        "id": "fXm0JIj3hG7G"
      },
      "execution_count": 237,
      "outputs": []
    },
    {
      "cell_type": "code",
      "source": [
        "Atm._Atm__counter"
      ],
      "metadata": {
        "colab": {
          "base_uri": "https://localhost:8080/"
        },
        "id": "of2bponJqOkd",
        "outputId": "12ffa330-8f58-47fc-86bb-0569064a5073"
      },
      "execution_count": 216,
      "outputs": [
        {
          "output_type": "execute_result",
          "data": {
            "text/plain": [
              "1"
            ]
          },
          "metadata": {},
          "execution_count": 216
        }
      ]
    },
    {
      "cell_type": "code",
      "source": [
        "Atm.counter = 'hehehe'"
      ],
      "metadata": {
        "id": "U7fG9WjVpf1b"
      },
      "execution_count": 217,
      "outputs": []
    },
    {
      "cell_type": "code",
      "source": [
        "c1 = Atm()"
      ],
      "metadata": {
        "id": "ixItnQtWhLlP"
      },
      "execution_count": 233,
      "outputs": []
    },
    {
      "cell_type": "code",
      "source": [
        "c1.cid"
      ],
      "metadata": {
        "colab": {
          "base_uri": "https://localhost:8080/"
        },
        "id": "E0tSDxRkjZda",
        "outputId": "ab7d8265-f6ab-468c-a1fd-56c089c0f052"
      },
      "execution_count": 219,
      "outputs": [
        {
          "output_type": "execute_result",
          "data": {
            "text/plain": [
              "1"
            ]
          },
          "metadata": {},
          "execution_count": 219
        }
      ]
    },
    {
      "cell_type": "code",
      "source": [
        "c2 = Atm()\n"
      ],
      "metadata": {
        "id": "n8sPLek1hPtf"
      },
      "execution_count": 220,
      "outputs": []
    },
    {
      "cell_type": "code",
      "source": [
        "c2.cid"
      ],
      "metadata": {
        "colab": {
          "base_uri": "https://localhost:8080/"
        },
        "id": "QC5Adsfhjdwk",
        "outputId": "f27f0bcb-204c-4575-e66f-7ea17544132e"
      },
      "execution_count": 221,
      "outputs": [
        {
          "output_type": "execute_result",
          "data": {
            "text/plain": [
              "2"
            ]
          },
          "metadata": {},
          "execution_count": 221
        }
      ]
    },
    {
      "cell_type": "code",
      "source": [
        "c3 = Atm()"
      ],
      "metadata": {
        "id": "GKKaqVyYjo_Y"
      },
      "execution_count": 234,
      "outputs": []
    },
    {
      "cell_type": "code",
      "source": [
        "c1.get_counter()"
      ],
      "metadata": {
        "colab": {
          "base_uri": "https://localhost:8080/"
        },
        "id": "0rH-yLucqVkZ",
        "outputId": "60a4ab74-9eef-4810-96fe-3d73da9e9b88"
      },
      "execution_count": 240,
      "outputs": [
        {
          "output_type": "execute_result",
          "data": {
            "text/plain": [
              "5"
            ]
          },
          "metadata": {},
          "execution_count": 240
        }
      ]
    },
    {
      "cell_type": "code",
      "source": [
        "Atm.get_counter()"
      ],
      "metadata": {
        "colab": {
          "base_uri": "https://localhost:8080/"
        },
        "id": "F6WWPG1tq14p",
        "outputId": "13d766bd-cc80-464b-b99a-ae42c98d3e80"
      },
      "execution_count": 241,
      "outputs": [
        {
          "output_type": "execute_result",
          "data": {
            "text/plain": [
              "5"
            ]
          },
          "metadata": {},
          "execution_count": 241
        }
      ]
    },
    {
      "cell_type": "code",
      "source": [
        "Atm.set_counter(5)"
      ],
      "metadata": {
        "id": "b4uRngSUq3uk"
      },
      "execution_count": 239,
      "outputs": []
    },
    {
      "cell_type": "code",
      "source": [
        "c1.set_counter(10)"
      ],
      "metadata": {
        "id": "WBDysUn5sh9D"
      },
      "execution_count": null,
      "outputs": []
    },
    {
      "cell_type": "code",
      "source": [
        "c3.cid"
      ],
      "metadata": {
        "colab": {
          "base_uri": "https://localhost:8080/"
        },
        "id": "HhcGPtfRjr9_",
        "outputId": "7c74b87c-4c62-4504-a3c8-8f4dce80bb18"
      },
      "execution_count": 189,
      "outputs": [
        {
          "output_type": "execute_result",
          "data": {
            "text/plain": [
              "3"
            ]
          },
          "metadata": {},
          "execution_count": 189
        }
      ]
    },
    {
      "cell_type": "code",
      "source": [
        "Atm.counter"
      ],
      "metadata": {
        "colab": {
          "base_uri": "https://localhost:8080/",
          "height": 141
        },
        "id": "pYZZcCE0iPRj",
        "outputId": "ce19a278-48bd-477d-d753-7a38c0caf0c6"
      },
      "execution_count": 209,
      "outputs": [
        {
          "output_type": "error",
          "ename": "AttributeError",
          "evalue": "type object 'Atm' has no attribute 'counter'",
          "traceback": [
            "\u001b[0;31m---------------------------------------------------------------------------\u001b[0m",
            "\u001b[0;31mAttributeError\u001b[0m                            Traceback (most recent call last)",
            "\u001b[0;32m<ipython-input-209-bc2e44b41fb4>\u001b[0m in \u001b[0;36m<cell line: 1>\u001b[0;34m()\u001b[0m\n\u001b[0;32m----> 1\u001b[0;31m \u001b[0mAtm\u001b[0m\u001b[0;34m.\u001b[0m\u001b[0mcounter\u001b[0m\u001b[0;34m\u001b[0m\u001b[0;34m\u001b[0m\u001b[0m\n\u001b[0m",
            "\u001b[0;31mAttributeError\u001b[0m: type object 'Atm' has no attribute 'counter'"
          ]
        }
      ]
    },
    {
      "cell_type": "code",
      "source": [
        "a = 'abcd'\n",
        "i=0\n",
        "count = 1\n",
        "while i < len(a):\n",
        "  print(count, a[i])\n",
        "  i += 1\n",
        "  count += 1"
      ],
      "metadata": {
        "colab": {
          "base_uri": "https://localhost:8080/"
        },
        "id": "4gRuLeXuiCJV",
        "outputId": "2400ebf2-4b5a-4a70-a6e5-8625afa39c23"
      },
      "execution_count": 179,
      "outputs": [
        {
          "output_type": "stream",
          "name": "stdout",
          "text": [
            "1 a\n",
            "2 b\n",
            "3 c\n",
            "4 d\n"
          ]
        }
      ]
    },
    {
      "cell_type": "code",
      "source": [],
      "metadata": {
        "id": "qi6JD7HNkAt6"
      },
      "execution_count": null,
      "outputs": []
    }
  ]
}