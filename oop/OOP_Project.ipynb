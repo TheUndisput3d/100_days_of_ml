{
  "nbformat": 4,
  "nbformat_minor": 0,
  "metadata": {
    "colab": {
      "provenance": []
    },
    "kernelspec": {
      "name": "python3",
      "display_name": "Python 3"
    },
    "language_info": {
      "name": "python"
    }
  },
  "cells": [
    {
      "cell_type": "code",
      "execution_count": 30,
      "metadata": {
        "colab": {
          "base_uri": "https://localhost:8080/"
        },
        "id": "2Dan6T6k7Sxg",
        "outputId": "ba01964d-47b4-46c9-929b-63a36f595d77"
      },
      "outputs": [
        {
          "output_type": "execute_result",
          "data": {
            "text/plain": [
              "{'entities': [{'start': 26,\n",
              "   'end': 36,\n",
              "   'type': 'programming languages',\n",
              "   'text': 'Javascript'},\n",
              "  {'start': 102,\n",
              "   'end': 108,\n",
              "   'type': 'programming languages',\n",
              "   'text': 'Python'},\n",
              "  {'start': 165, 'end': 167, 'type': 'programming languages', 'text': 'Go'}]}"
            ]
          },
          "metadata": {},
          "execution_count": 30
        }
      ],
      "source": [
        "import nlpcloud\n",
        "\n",
        "client = nlpcloud.Client(\"finetuned-llama-3-70b\", \"0e497b6ca5d6c0e1f6fdef6c0639540a99eced29\", gpu=True)\n",
        "client.entities(\n",
        "    \"\"\"John Doe started learning Javascript when he was 15 years old. After a couple of years he switched to Python and starter learning low level programming. He is now a Go expert at Google.\"\"\",\n",
        "    searched_entity=\"programming languages\"\n",
        ")"
      ]
    },
    {
      "cell_type": "code",
      "source": [
        "import nlpcloud\n",
        "\n",
        "client = nlpcloud.Client(\"finetuned-llama-3-70b\", \"4fefce68ee6e9b68844d76a9b6aa89f51fa4d379\", gpu=True)\n",
        "r = client.sentiment(\n",
        "\"\"\"I can’t believe this is happening! First, they completely messed up my order again, and it’s so frustrating I just want to scream. But then, out of nowhere, my best friend showed up with my favorite coffee, and for a moment, I felt so happy and loved. Still, deep down, I feel this lingering sadness, like I’m stuck in a cycle that I can’t break free from. And honestly, the thought of facing tomorrow fills me with fear. Life is such a chaotic mix of highs and lows—it’s overwhelming, but somehow, there’s a strange beauty in it all.\"\"\")"
      ],
      "metadata": {
        "id": "USVsDzC6txcq"
      },
      "execution_count": 95,
      "outputs": []
    },
    {
      "cell_type": "code",
      "source": [
        "r"
      ],
      "metadata": {
        "colab": {
          "base_uri": "https://localhost:8080/"
        },
        "id": "rWZMLVH0tzHY",
        "outputId": "bc84e6c0-36b8-4968-ead5-a246e8915e49"
      },
      "execution_count": 96,
      "outputs": [
        {
          "output_type": "execute_result",
          "data": {
            "text/plain": [
              "{'scored_labels': [{'label': 'NEGATIVE', 'score': 1},\n",
              "  {'label': 'frustration', 'score': 1}]}"
            ]
          },
          "metadata": {},
          "execution_count": 96
        }
      ]
    },
    {
      "cell_type": "code",
      "source": [
        "sorted(r['scored_labels'], key=lambda x: x['score'], reverse=True)[0]['label']"
      ],
      "metadata": {
        "colab": {
          "base_uri": "https://localhost:8080/",
          "height": 36
        },
        "id": "84RVeIu6tzD_",
        "outputId": "61403e7c-74bf-4e36-f5b8-24d2a2cb57f8"
      },
      "execution_count": 98,
      "outputs": [
        {
          "output_type": "execute_result",
          "data": {
            "text/plain": [
              "'NEGATIVE'"
            ],
            "application/vnd.google.colaboratory.intrinsic+json": {
              "type": "string"
            }
          },
          "metadata": {},
          "execution_count": 98
        }
      ]
    },
    {
      "cell_type": "code",
      "source": [
        "!pip install emoji"
      ],
      "metadata": {
        "colab": {
          "base_uri": "https://localhost:8080/"
        },
        "id": "q47ihydAty9w",
        "outputId": "4f9faf20-a197-4544-800c-107dda69f228"
      },
      "execution_count": 100,
      "outputs": [
        {
          "output_type": "stream",
          "name": "stdout",
          "text": [
            "Collecting emoji\n",
            "  Downloading emoji-2.14.0-py3-none-any.whl.metadata (5.7 kB)\n",
            "Downloading emoji-2.14.0-py3-none-any.whl (586 kB)\n",
            "\u001b[2K   \u001b[90m━━━━━━━━━━━━━━━━━━━━━━━━━━━━━━━━━━━━━━━━\u001b[0m \u001b[32m586.9/586.9 kB\u001b[0m \u001b[31m8.3 MB/s\u001b[0m eta \u001b[36m0:00:00\u001b[0m\n",
            "\u001b[?25hInstalling collected packages: emoji\n",
            "Successfully installed emoji-2.14.0\n"
          ]
        }
      ]
    },
    {
      "cell_type": "code",
      "source": [
        "import pandas as pd"
      ],
      "metadata": {
        "id": "NoJH3wqqfzHa"
      },
      "execution_count": 101,
      "outputs": []
    },
    {
      "cell_type": "code",
      "source": [
        "import emoji\n",
        "class NlpApp:\n",
        "\n",
        "  def __init__(self):\n",
        "    self.__database = {}\n",
        "    self.__first_menu()\n",
        "\n",
        "  def __first_menu(self):\n",
        "    user_inp = input(\"\"\"\n",
        "    Hi! How would you like to proceed?\n",
        "    1. Not a member? Register\n",
        "    2. Already a member? Login\n",
        "    3. Landed by mistake? Exit\n",
        "    \"\"\")\n",
        "\n",
        "    if user_inp == '1':\n",
        "      self.__register()\n",
        "\n",
        "    elif user_inp == '2':\n",
        "      self.__login()\n",
        "    else:\n",
        "      self.__exit()\n",
        "\n",
        "  def __sec_menu(self):\n",
        "    pass\n",
        "\n",
        "  def __register(self):\n",
        "    name = input('Enter your name: ')\n",
        "    email = input('Enter your email: ')\n",
        "    password = input('Enter your password: ')\n",
        "\n",
        "    # self.__database[f'user'] = {\n",
        "    #     'name': name,\n",
        "    #     'email': email,\n",
        "    #     'password': password\n",
        "    # }\n",
        "\n",
        "    if email in self.__database:\n",
        "      print('You are already registered. Just Login.')\n",
        "      self.__login()\n",
        "    else:\n",
        "      self.__database[email] = [name, password]\n",
        "      print('You have successfully registered. Now Login.')\n",
        "      # self.__login()\n",
        "      self.__first_menu()\n",
        "\n",
        "  def __login(self):\n",
        "    email = input('Enter your email: ')\n",
        "    password = input('Enter your password: ')\n",
        "    if email in self.__database:\n",
        "      for key in self.__database:\n",
        "        if self.__database[key][1] == password:\n",
        "          print('you are logged in')\n",
        "          return self.__second_menu()\n",
        "      print('Wrong password')\n",
        "    else:\n",
        "      print('You are not registered. Register now.')\n",
        "    self.__first_menu()\n",
        "\n",
        "  def __second_menu(self):\n",
        "    user_inp = input(\"\"\"\n",
        "    Hi! How would you like to proceed?\n",
        "    1. NER\n",
        "    2. Language Detection\n",
        "    3. Sentiment Analysis\n",
        "    \"\"\")\n",
        "\n",
        "    if user_inp == '1':\n",
        "      self.__ner()\n",
        "\n",
        "    elif user_inp == '2':\n",
        "      self.__lang()\n",
        "    elif user_inp == '3':\n",
        "      self.__sent()\n",
        "\n",
        "  def __ner(self):\n",
        "    para = input('Input a paragraph you want to search in: ')\n",
        "    text = input('Input a text you want to search: ')\n",
        "\n",
        "    client = nlpcloud.Client(\"finetuned-llama-3-70b\", \"4fefce68ee6e9b68844d76a9b6aa89f51fa4d379\", gpu=True)\n",
        "    response = client.entities(para, searched_entity=text)\n",
        "    print('All the {} are: '.format(text))\n",
        "    for elem in response['entities']:\n",
        "      print('\\t\\t', elem['text'], sep=\"\", )\n",
        "    self.__second_menu()\n",
        "\n",
        "  def __sent(self):\n",
        "    smilies = {'anger': ':angry_face:', 'joy': ':grinning_face_with_smiling_eyes:', 'sadness': ':disappointed_face:', 'fear':':scream:', 'surprise': ':open_mouth:', 'love': ':smiling_face_with_3_hearts:'}\n",
        "    para = input('Input a paragraph you want to the sentiment of: ')\n",
        "    import nlpcloud\n",
        "\n",
        "    client = nlpcloud.Client(\"distilbert-base-uncased-emotion\", \"4fefce68ee6e9b68844d76a9b6aa89f51fa4d379\", gpu=False)\n",
        "    response = client.sentiment(\n",
        "        para,\n",
        "        target=\"NLP Cloud\"\n",
        "    )\n",
        "    # d = {'label':[], 'score': []}\n",
        "    # for i in response['scored_labels']:\n",
        "    #   d['label'].append(i['label'])\n",
        "    #   d['score'].append(i['score'])\n",
        "    # print(pd.DataFrame(data=d))\n",
        "\n",
        "    label = sorted(response['scored_labels'], key=lambda x: x['score'], reverse=True)[0]['label']\n",
        "    print(f\"The sentiment of this text is {label}, {emoji.emojize(smilies[label])}\")\n",
        "    self.__second_menu()\n",
        "\n",
        "  def __lang(self):\n",
        "    para = input('Input a paragraph you want to the language of: ')\n",
        "    client = nlpcloud.Client(\"python-langdetect\", \"18d3ebf5cbfe66afe4e17d4cc72cbb3626e460c2\", gpu=False)\n",
        "    response = client.langdetection(para)\n",
        "    d = {'lang':[], 'score': []}\n",
        "    for l in response['languages']:\n",
        "      d['lang'].append(list(l.keys())[0])\n",
        "      d['score'].append(list(l.values())[0])\n",
        "    print(pd.DataFrame(data=d))\n",
        "    self.__second_menu()\n",
        "\n",
        "  def __exit(self):\n",
        "    print('exit')\n",
        "\n",
        "o = NlpApp()"
      ],
      "metadata": {
        "colab": {
          "base_uri": "https://localhost:8080/"
        },
        "id": "xBjXB90L9JR4",
        "outputId": "838b684e-655d-432e-edd8-eac1fb7e2d54"
      },
      "execution_count": 106,
      "outputs": [
        {
          "name": "stdout",
          "output_type": "stream",
          "text": [
            "Input a paragraph you want to the sentiment of: \"Even though I was overjoyed to see everyone smiling and laughing together, it frustrated me slightly that no one noticed how deeply I was hurting inside.\"\n",
            "The sentiment of this text is sadness, 😞\n",
            "\n",
            "    Hi! How would you like to proceed?\n",
            "    1. NER\n",
            "    2. Language Detection\n",
            "    3. Sentiment Analysis\n",
            "    6\n"
          ]
        }
      ]
    },
    {
      "cell_type": "code",
      "source": [
        "r = {'entities': [{'start': 26, 'end': 36, 'type': 'progamming languages', 'text': 'Javascript'},\n",
        " {'start': 102, 'end': 108, 'type': 'progamming languages', 'text': 'Python'},\n",
        "  {'start': 165, 'end': 167, 'type': 'progamming languages', 'text': 'Go'}]}"
      ],
      "metadata": {
        "id": "IuBhbn6FBvX3"
      },
      "execution_count": 10,
      "outputs": []
    },
    {
      "cell_type": "code",
      "source": [],
      "metadata": {
        "id": "cuyn8zQlpVFa"
      },
      "execution_count": null,
      "outputs": []
    }
  ]
}