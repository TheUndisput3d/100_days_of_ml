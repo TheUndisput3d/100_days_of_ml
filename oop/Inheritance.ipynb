{
  "nbformat": 4,
  "nbformat_minor": 0,
  "metadata": {
    "colab": {
      "provenance": []
    },
    "kernelspec": {
      "name": "python3",
      "display_name": "Python 3"
    },
    "language_info": {
      "name": "python"
    }
  },
  "cells": [
    {
      "cell_type": "code",
      "execution_count": null,
      "metadata": {
        "id": "t90Jfih_mNE1"
      },
      "outputs": [],
      "source": [
        "class Vehicle():\n",
        "  def __init__(self, cap):\n",
        "    self.seat_cap = cap\n",
        "\n",
        "  def calc_fare(self, seat_cap):\n",
        "    return seat_cap * 100\n",
        "\n",
        "class Bus(Vehicle):\n",
        "  def __init__(self):\n",
        "    self.seat_cap = self.seating_capacity()\n",
        "\n",
        "  def seating_capacity(self, capacity=50):\n",
        "    self.seat_cap = capacity\n",
        "\n",
        "  def calc_fare(self):\n",
        "    b_p = super().calc_fare(50)\n",
        "    t_p = b_p + 0.1 * b_p\n",
        "    return t_p"
      ]
    },
    {
      "cell_type": "code",
      "source": [
        "b1 = Bus()\n",
        "b1.seat_cap\n",
        "b1.seating_capacity()\n",
        "b1.seat_cap"
      ],
      "metadata": {
        "colab": {
          "base_uri": "https://localhost:8080/"
        },
        "id": "KV6VtElOvRI5",
        "outputId": "f0884cd4-3f6f-479e-ba8e-69490217e881"
      },
      "execution_count": null,
      "outputs": [
        {
          "output_type": "execute_result",
          "data": {
            "text/plain": [
              "50"
            ]
          },
          "metadata": {},
          "execution_count": 31
        }
      ]
    },
    {
      "cell_type": "code",
      "source": [
        "b = Bus()\n",
        "b.calc_fare()"
      ],
      "metadata": {
        "colab": {
          "base_uri": "https://localhost:8080/"
        },
        "id": "dtCgxED_n-XV",
        "outputId": "baaf0ccb-15f4-4839-a04f-c80f801ea944"
      },
      "execution_count": null,
      "outputs": [
        {
          "output_type": "execute_result",
          "data": {
            "text/plain": [
              "5500.0"
            ]
          },
          "metadata": {},
          "execution_count": 33
        }
      ]
    },
    {
      "cell_type": "code",
      "source": [
        "class Point:\n",
        "  def __init__(self, x, y):\n",
        "    self.x = x\n",
        "    self.y = y\n"
      ],
      "metadata": {
        "id": "huZH5iIQoCq1"
      },
      "execution_count": 57,
      "outputs": []
    },
    {
      "cell_type": "code",
      "source": [
        "class Location:\n",
        "  def __init__(self, loc, des):\n",
        "    self.loc = loc\n",
        "    self.des = des\n",
        "  def reflect_destination(self):\n",
        "    return f'<{self.des.x}, -{self.des.y}>'"
      ],
      "metadata": {
        "id": "FOd2khqvssdv"
      },
      "execution_count": 58,
      "outputs": []
    },
    {
      "cell_type": "code",
      "source": [
        "class Location:\n",
        "  def __init__(self, x1, y1, x2, y2):\n",
        "    self.location = Point(x1, y1)\n",
        "    self.destination = Point(x2, y2)\n",
        "  def reflect_destination(self):\n",
        "    return f'<{self.destination.x}, -{self.destination.y}>'"
      ],
      "metadata": {
        "id": "kyw-GPLBAwjb"
      },
      "execution_count": 60,
      "outputs": []
    },
    {
      "cell_type": "code",
      "source": [
        "l1 = Location(2, 3, 3, 4)\n",
        "l1.reflect_destination()"
      ],
      "metadata": {
        "colab": {
          "base_uri": "https://localhost:8080/",
          "height": 36
        },
        "id": "D0UaUkeRAzNA",
        "outputId": "33dba13f-122d-4cd5-b6c2-4f949fc631a9"
      },
      "execution_count": 61,
      "outputs": [
        {
          "output_type": "execute_result",
          "data": {
            "text/plain": [
              "'<3, -4>'"
            ],
            "application/vnd.google.colaboratory.intrinsic+json": {
              "type": "string"
            }
          },
          "metadata": {},
          "execution_count": 61
        }
      ]
    },
    {
      "cell_type": "code",
      "source": [
        "location = Point(2, 3)\n",
        "destination = Point(3, 4)"
      ],
      "metadata": {
        "id": "N77fO9DEtnX5"
      },
      "execution_count": null,
      "outputs": []
    },
    {
      "cell_type": "code",
      "source": [
        "l1 = Location(location, destination)\n",
        "l1.reflect_destination()"
      ],
      "metadata": {
        "colab": {
          "base_uri": "https://localhost:8080/",
          "height": 36
        },
        "id": "NteEwY-gtjXQ",
        "outputId": "d889fca3-e5b9-4e53-e493-0dcad40cfbca"
      },
      "execution_count": null,
      "outputs": [
        {
          "output_type": "execute_result",
          "data": {
            "text/plain": [
              "'<3, -4>'"
            ],
            "application/vnd.google.colaboratory.intrinsic+json": {
              "type": "string"
            }
          },
          "metadata": {},
          "execution_count": 11
        }
      ]
    },
    {
      "cell_type": "code",
      "source": [
        "from abc import ABC, abstractmethod\n"
      ],
      "metadata": {
        "id": "vcDzQYx_t4Pp"
      },
      "execution_count": 1,
      "outputs": []
    },
    {
      "cell_type": "code",
      "source": [
        "class Polygon(ABC):\n",
        "  def __init__(self):\n",
        "    a, b = input('Enter dimensions separated by space eg. (2 3): ').split(' ')\n",
        "    self.__l = int(a)\n",
        "    self.__b = int(b)\n",
        "\n",
        "  def get_l(self):\n",
        "    return self.__l\n",
        "\n",
        "  def get_b(self):\n",
        "    return self.__b\n",
        "\n",
        "  @abstractmethod\n",
        "  def do_nothing(self):\n",
        "    pass\n",
        "\n",
        "class Rectangle(Polygon):\n",
        "\n",
        "  def get_area(self):\n",
        "    return super().get_l() * super().get_b()\n",
        "\n",
        "  def do_nothing(self):\n",
        "    pass\n",
        "\n",
        "\n",
        "\n",
        "class Triangle(Polygon):\n",
        "  def get_area(self):\n",
        "    return 0.5 * super().get_l() * super().get_b()\n",
        "\n",
        "  def do_nothing(self):\n",
        "    pass\n",
        "\n",
        "\n"
      ],
      "metadata": {
        "id": "r4UrIe5yjLV9"
      },
      "execution_count": 9,
      "outputs": []
    },
    {
      "cell_type": "code",
      "source": [
        "class Polygon(ABC):\n",
        "\n",
        "  @abstractmethod\n",
        "  def get_data():\n",
        "    pass\n",
        "\n",
        "  @abstractmethod\n",
        "  def area():\n",
        "    pass\n",
        "\n",
        "class Rectangle(Polygon):\n",
        "\n",
        "  def get_data(self, l, b):\n",
        "    self.l = l\n",
        "    self.b = b\n",
        "\n",
        "  def area(self):\n",
        "    return self.l*self.b\n",
        "\n",
        "class Triangle(Polygon):\n",
        "\n",
        "  def get_data(self, l, b):\n",
        "    self.l = l\n",
        "    self.b = b\n",
        "\n",
        "  def area(self):\n",
        "    return 0.5*self.l*self.b\n",
        "\n",
        "t = Triangle()\n",
        "r = Rectangle()\n",
        "t.get_data(20, 30)\n",
        "r.get_data(20, 30)\n",
        "print(r.area())\n",
        "print(t.area())"
      ],
      "metadata": {
        "colab": {
          "base_uri": "https://localhost:8080/"
        },
        "id": "6G3SpkQnBu_6",
        "outputId": "8955bf7f-3080-4d78-a4aa-df967cdafb49"
      },
      "execution_count": 64,
      "outputs": [
        {
          "output_type": "stream",
          "name": "stdout",
          "text": [
            "600\n",
            "300.0\n"
          ]
        }
      ]
    },
    {
      "cell_type": "code",
      "source": [
        "r = Rectangle()"
      ],
      "metadata": {
        "colab": {
          "base_uri": "https://localhost:8080/"
        },
        "id": "NhssdeMllx-t",
        "outputId": "74ad1e8e-c2e5-4859-a2d7-17060dea1f46"
      },
      "execution_count": 10,
      "outputs": [
        {
          "name": "stdout",
          "output_type": "stream",
          "text": [
            "Enter dimensions separated by space (2 3): 20 30\n"
          ]
        }
      ]
    },
    {
      "cell_type": "code",
      "source": [
        "r.get_l()"
      ],
      "metadata": {
        "colab": {
          "base_uri": "https://localhost:8080/"
        },
        "id": "C3gneqI9l6yM",
        "outputId": "0103ad18-4b26-42bd-f0b3-de5c9799685e"
      },
      "execution_count": 11,
      "outputs": [
        {
          "output_type": "execute_result",
          "data": {
            "text/plain": [
              "20"
            ]
          },
          "metadata": {},
          "execution_count": 11
        }
      ]
    },
    {
      "cell_type": "code",
      "source": [
        "r.do_nothing()"
      ],
      "metadata": {
        "id": "cZ3bosIfmhHR"
      },
      "execution_count": 12,
      "outputs": []
    },
    {
      "cell_type": "code",
      "source": [
        "r.get_area()"
      ],
      "metadata": {
        "colab": {
          "base_uri": "https://localhost:8080/"
        },
        "id": "-p3uW_xkmkFR",
        "outputId": "db154e10-d3e8-4dc1-d810-5366c366816b"
      },
      "execution_count": 13,
      "outputs": [
        {
          "output_type": "execute_result",
          "data": {
            "text/plain": [
              "600"
            ]
          },
          "metadata": {},
          "execution_count": 13
        }
      ]
    },
    {
      "cell_type": "code",
      "source": [
        "t = Triangle()\n",
        "t.get_area()"
      ],
      "metadata": {
        "colab": {
          "base_uri": "https://localhost:8080/"
        },
        "id": "q_sd9wS1mlnY",
        "outputId": "10b67900-e535-4670-d36b-a9f17be2d478"
      },
      "execution_count": 14,
      "outputs": [
        {
          "name": "stdout",
          "output_type": "stream",
          "text": [
            "Enter dimensions separated by space (2 3): 20 30\n"
          ]
        },
        {
          "output_type": "execute_result",
          "data": {
            "text/plain": [
              "300.0"
            ]
          },
          "metadata": {},
          "execution_count": 14
        }
      ]
    },
    {
      "cell_type": "code",
      "source": [
        "class Bill:\n",
        "  def __init__(self, items, price):\n",
        "\n",
        "    self.items = items\n",
        "    self.price = price\n",
        "    self.total_p = 0\n",
        "    for price in self.price:\n",
        "      self.total_p += price\n",
        "    self.display()\n",
        "  def display(self):\n",
        "\n",
        "    print('Items\\t\\t\\tPrice')\n",
        "    for i in range(len(self.items)):\n",
        "      print(f\"{self.items[i]}\\t\\t\\t{self.price[i]}\")\n",
        "    print(\"*\"*50)\n",
        "    print(f\"Total\\t\\t\\t{self.total_p}\")\n",
        "\n",
        "class cashPayment(Bill):\n",
        "\n",
        "  def __init__(self, items, price, deno, value):\n",
        "    self.deno = deno\n",
        "    self.value = value\n",
        "    super().__init__(items, price)\n",
        "\n",
        "  def display(self):\n",
        "\n",
        "    super().display()\n",
        "    print(f\"Payment Details\")\n",
        "    total_p_made = 0\n",
        "    for i in range(len(self.deno)):\n",
        "      curr_paym = self.deno[i]*self.value[i]\n",
        "      total_p_made += curr_paym\n",
        "      print(f\"{self.deno[i]} * {self.value[i]} = {curr_paym}\")\n",
        "    print(f\"Total Payment made:\\t\\t\\t{total_p_made}\")\n",
        "    print(f\"Returned amount:\\t\\t\\t{total_p_made-self.total_p}\")\n",
        "\n",
        "\n",
        "\n",
        "class chequePayment(Bill):\n",
        "  def __init__(self, items, price, ac, bank_name):\n",
        "    self.acno = ac\n",
        "    self.bank_name = bank_name\n",
        "    super().__init__(items, price)\n",
        "  def display(self):\n",
        "    super().display()\n",
        "    print('Check no', self.acno)\n",
        "    print('Bank Name:', self.bank_name)\n",
        "\n"
      ],
      "metadata": {
        "id": "utH6Kx4Q20Jh"
      },
      "execution_count": 53,
      "outputs": []
    },
    {
      "cell_type": "code",
      "source": [
        "items = ['hard-disk', 'cpu', 'laptop', 'mobile', 'glasses']\n",
        "prices = [1000, 2000, 4000, 6000, 7000]\n",
        "deno = [500, 100, 1000, 2000]\n",
        "value = [5, 10, 10, 5]\n",
        "c1 = cashPayment(items, prices, deno, value)"
      ],
      "metadata": {
        "colab": {
          "base_uri": "https://localhost:8080/"
        },
        "id": "HjnIiOX6_y3T",
        "outputId": "99b5b126-bbe0-4d27-bb6a-8e4ee72f541f"
      },
      "execution_count": 54,
      "outputs": [
        {
          "output_type": "stream",
          "name": "stdout",
          "text": [
            "Items\t\t\tPrice\n",
            "hard-disk\t\t\t1000\n",
            "cpu\t\t\t2000\n",
            "laptop\t\t\t4000\n",
            "mobile\t\t\t6000\n",
            "glasses\t\t\t7000\n",
            "**************************************************\n",
            "Total\t\t\t20000\n",
            "Payment Details\n",
            "500 * 5 = 2500\n",
            "100 * 10 = 1000\n",
            "1000 * 10 = 10000\n",
            "2000 * 5 = 10000\n",
            "Total Payment made:\t\t\t23500\n",
            "Returned amount:\t\t\t3500\n"
          ]
        }
      ]
    },
    {
      "cell_type": "code",
      "source": [
        "c2 = chequePayment(items, prices, 1234345, 'SBL')"
      ],
      "metadata": {
        "colab": {
          "base_uri": "https://localhost:8080/"
        },
        "id": "BsyuINjP_0dO",
        "outputId": "8131d3b8-7d48-4dd0-ed7b-e5e1a57aa3dd"
      },
      "execution_count": 56,
      "outputs": [
        {
          "output_type": "stream",
          "name": "stdout",
          "text": [
            "Items\t\t\tPrice\n",
            "hard-disk\t\t\t1000\n",
            "cpu\t\t\t2000\n",
            "laptop\t\t\t4000\n",
            "mobile\t\t\t6000\n",
            "glasses\t\t\t7000\n",
            "**************************************************\n",
            "Total\t\t\t20000\n",
            "Check no 1234345\n",
            "Bank Name: SBL\n"
          ]
        }
      ]
    },
    {
      "cell_type": "code",
      "source": [
        "class Bill:\n",
        "  def __init__(self, due):\n",
        "    self.due = due\n",
        "\n",
        "class Cheque:\n",
        "  def __init__(self, due, ac):\n",
        "    self.ac = ac\n",
        "    super().__init__(due)\n",
        ""
      ],
      "metadata": {
        "id": "KZrksMUPmo95"
      },
      "execution_count": null,
      "outputs": []
    },
    {
      "cell_type": "code",
      "source": [
        "class FlexibleDict(dict):\n",
        "\n",
        "  def __getitem__(self,k):\n",
        "    try:\n",
        "      k = int(k)\n",
        "    except:\n",
        "      k = k\n",
        "    return super().__getitem__(k)"
      ],
      "metadata": {
        "id": "39wsbGcsoytC"
      },
      "execution_count": 24,
      "outputs": []
    },
    {
      "cell_type": "code",
      "source": [
        "d = FlexibleDict({2: 'a', 3: 'bcd', 4: '3ft'})"
      ],
      "metadata": {
        "id": "ASFdHJlgsnEo"
      },
      "execution_count": 25,
      "outputs": []
    },
    {
      "cell_type": "code",
      "source": [
        "int('2')"
      ],
      "metadata": {
        "colab": {
          "base_uri": "https://localhost:8080/"
        },
        "id": "BqkRYWattUYC",
        "outputId": "531b01d0-adee-4418-e064-e952d364ec3f"
      },
      "execution_count": 26,
      "outputs": [
        {
          "output_type": "execute_result",
          "data": {
            "text/plain": [
              "2"
            ]
          },
          "metadata": {},
          "execution_count": 26
        }
      ]
    },
    {
      "cell_type": "code",
      "source": [
        "d['2']"
      ],
      "metadata": {
        "colab": {
          "base_uri": "https://localhost:8080/",
          "height": 36
        },
        "id": "6Vog_18ZtPEx",
        "outputId": "a3d83ef6-8a28-48f0-c293-91a34171f4a9"
      },
      "execution_count": 27,
      "outputs": [
        {
          "output_type": "execute_result",
          "data": {
            "text/plain": [
              "'a'"
            ],
            "application/vnd.google.colaboratory.intrinsic+json": {
              "type": "string"
            }
          },
          "metadata": {},
          "execution_count": 27
        }
      ]
    }
  ]
}