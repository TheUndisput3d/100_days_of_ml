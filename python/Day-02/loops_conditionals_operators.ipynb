{
  "nbformat": 4,
  "nbformat_minor": 0,
  "metadata": {
    "colab": {
      "provenance": []
    },
    "kernelspec": {
      "name": "python3",
      "display_name": "Python 3"
    },
    "language_info": {
      "name": "python"
    }
  },
  "cells": [
    {
      "cell_type": "markdown",
      "source": [
        "### `Problem 1`: Write a program that will give you in hand monthly salary after deduction on CTC - HRA(10%), DA(5%), PF(3%) and taxes deduction as below:\n",
        "\n",
        "> Salary(Lakhs) : Tax(%)\n",
        "\n",
        "*   Below 5 : 0%\n",
        "*   5-10 : 10%\n",
        "*   10-20 : 20%\n",
        "*   aboove 20 : 30%"
      ],
      "metadata": {
        "id": "w6RlOAXV2PWh"
      }
    },
    {
      "cell_type": "code",
      "source": [
        "# Write code here\n",
        "sal = int(input('Enter your salary: '))\n",
        "def sal_after_deduction(s):\n",
        "  ctc, da, pf = 10, 5, 3\n",
        "  if sal < 500000:\n",
        "    tax = 0\n",
        "  elif sal >= 500000 and sal < 1000000:\n",
        "    tax = 10\n",
        "  elif sal >= 1000000 and sal < 2000000:\n",
        "    tax = 20\n",
        "  else:\n",
        "    tax = 30\n",
        "  res = s\n",
        "  for red in [ctc, da, pf, tax]:\n",
        "    res -= 0.01 * red * s\n",
        "  print(f\"Your salary after all reductions is {res}\")\n",
        "\n",
        "sal_after_deduction(sal)\n",
        "\n"
      ],
      "metadata": {
        "id": "7tMHvKYO2etI",
        "colab": {
          "base_uri": "https://localhost:8080/",
          "height": 0
        },
        "outputId": "30cf0b5b-14cf-4e83-ff8f-3f9b1c2561e4"
      },
      "execution_count": 5,
      "outputs": [
        {
          "output_type": "stream",
          "name": "stdout",
          "text": [
            "Enter your salary: 800000\n",
            "Your salary after all reductions is 576000.0\n"
          ]
        }
      ]
    },
    {
      "cell_type": "markdown",
      "source": [
        "### `Problem 2`: Write a program that take a user input of three angles and will find out whether it can form a triangle or not."
      ],
      "metadata": {
        "id": "tYzCGqwl2hfN"
      }
    },
    {
      "cell_type": "code",
      "source": [
        "# Write code here\n",
        "a = int(input('Enter first angle: '))\n",
        "b = int(input('Enter second angle: '))\n",
        "c = int(input('Enter third angle: '))\n",
        "\n",
        "def valid_triangle(a, b, c):\n",
        "  while (a <=0 or b <=0 or c <=0 or a+b+c != 180):\n",
        "    print('The angles you entered were invalid and can\\'t form a triangle.')\n",
        "    a = int(input('Enter first angle: '))\n",
        "    b = int(input('Enter second angle: '))\n",
        "    c = int(input('Enter third angle: '))\n",
        "  print('The triangle can be formed with these angles you provided.')\n",
        "\n",
        "valid_triangle(a, b, c)\n"
      ],
      "metadata": {
        "id": "FYEqln-I2kxV",
        "colab": {
          "base_uri": "https://localhost:8080/",
          "height": 0
        },
        "outputId": "ed30b963-9d16-443f-a1e8-3c4edcb1e053"
      },
      "execution_count": 6,
      "outputs": [
        {
          "output_type": "stream",
          "name": "stdout",
          "text": [
            "Enter first angle: 0\n",
            "Enter second angle: 0\n",
            "Enter third angle: 180\n",
            "The angles you entered were invalid and can't form a triangle.\n",
            "Enter first angle: 1\n",
            "Enter second angle: 1\n",
            "Enter third angle: 178\n",
            "The triangle can be formed with these angles you provided.\n"
          ]
        }
      ]
    },
    {
      "cell_type": "markdown",
      "source": [
        "### `Problem 3`: Write a program that will take user input of cost price and selling price and determines whether its a loss or a profit."
      ],
      "metadata": {
        "id": "5vEpPh8C2pE4"
      }
    },
    {
      "cell_type": "code",
      "source": [
        "# Write code here\n",
        "cost_p = int(input('Enter the cost price: '))\n",
        "sell_p = int(input('Enter the selling price: '))\n",
        "\n",
        "def profit_or_not(c_p, s_p):\n",
        "  if c_p <= 0 or s_p <= 0:\n",
        "    return 'Invalid input'\n",
        "  if c_p == s_p:\n",
        "    return 'Neither profit nor loss'\n",
        "  if c_p > s_p:\n",
        "    return True\n",
        "  return False\n",
        "\n",
        "ans = profit_or_not(cost_p, sell_p)\n",
        "if ans:\n",
        "  if ans == True:\n",
        "    print('You made a profit.')\n",
        "  else:\n",
        "    print(ans)\n",
        "else:\n",
        "  print('You made a loss.')\n",
        "\n"
      ],
      "metadata": {
        "id": "jDwBXlkO2sfl",
        "colab": {
          "base_uri": "https://localhost:8080/",
          "height": 0
        },
        "outputId": "ba3dc939-8199-412e-f2de-515ac4f4d338"
      },
      "execution_count": 10,
      "outputs": [
        {
          "output_type": "stream",
          "name": "stdout",
          "text": [
            "Enter the cost price: -5\n",
            "Enter the selling price: 5\n",
            "Invalid input\n"
          ]
        }
      ]
    },
    {
      "cell_type": "markdown",
      "source": [
        "### `Problem 4`: Write a menu-driven program -\n",
        "1. cm to ft\n",
        "2. km to miles\n",
        "3. USD to INR\n",
        "4. exit"
      ],
      "metadata": {
        "id": "J_FG_cJW2ugT"
      }
    },
    {
      "cell_type": "code",
      "source": [
        "# Write code here"
      ],
      "metadata": {
        "id": "yBHhaCGQ2zpD"
      },
      "execution_count": null,
      "outputs": []
    },
    {
      "cell_type": "markdown",
      "source": [
        "### `Problem 5` - Exercise 12: Display Fibonacci series up to 10 terms.\n",
        "\n",
        "*Note: The Fibonacci Sequence is a series of numbers. The next number is found by adding up the two numbers before it. The first two numbers are 0 and 1. For example, 0, 1, 1, 2, 3, 5, 8, 13, 21. The next number in this series above is 13+21 = 34*"
      ],
      "metadata": {
        "id": "LJJ30_Yw27ZU"
      }
    },
    {
      "cell_type": "code",
      "source": [
        "# Write code here\n",
        "n = 10\n",
        "def fibo():\n",
        "  f, s = 0, 1\n",
        "  i = 0\n",
        "  while i < 10:\n",
        "    if i < 2:\n",
        "      print(i)\n",
        "    else:\n",
        "      print(f+s)\n",
        "      f, s = s, f+s\n",
        "    i += 1\n",
        "\n",
        "fibo()\n",
        "\n"
      ],
      "metadata": {
        "id": "ae_1rpe52-5R",
        "colab": {
          "base_uri": "https://localhost:8080/",
          "height": 0
        },
        "outputId": "9d187ab3-dcaf-4a6c-9e79-e4f79bd59d07"
      },
      "execution_count": 14,
      "outputs": [
        {
          "output_type": "stream",
          "name": "stdout",
          "text": [
            "0\n",
            "1\n",
            "1\n",
            "2\n",
            "3\n",
            "5\n",
            "8\n",
            "13\n",
            "21\n",
            "34\n"
          ]
        }
      ]
    },
    {
      "cell_type": "markdown",
      "source": [
        "### `Problem 6` - Find the factorial of a given number.\n",
        "\n",
        "Write a program to use the loop to find the factorial of a given number.\n",
        "\n",
        "The factorial (symbol: `!`) means to multiply all whole numbers from the chosen number down to 1.\n",
        "\n",
        "For example: calculate the factorial of 5\n",
        "\n",
        "```bash\n",
        "5! = 5 × 4 × 3 × 2 × 1 = 120\n",
        "```\n",
        "\n",
        "Output:\n",
        "\n",
        "```bash\n",
        "120\n",
        "```"
      ],
      "metadata": {
        "id": "pk_I_S4m3PT5"
      }
    },
    {
      "cell_type": "code",
      "source": [
        "# Write code here\n",
        "num = int(input('Enter a num: '))\n",
        "def factorial(num):\n",
        "  res = 1\n",
        "  for i in range(num, 0, -1):\n",
        "    res *= i\n",
        "  print(f\"The factorial of {num} is {res}\")\n",
        "\n",
        "factorial(num)"
      ],
      "metadata": {
        "id": "lzXxHegx3Rkc",
        "colab": {
          "base_uri": "https://localhost:8080/",
          "height": 0
        },
        "outputId": "3f71de49-1e49-4bbb-bed2-50e2ef4cebff"
      },
      "execution_count": 15,
      "outputs": [
        {
          "output_type": "stream",
          "name": "stdout",
          "text": [
            "Enter a num: 5\n",
            "The factorial of 5 is 120\n"
          ]
        }
      ]
    },
    {
      "cell_type": "markdown",
      "source": [
        "### `Problem 7` - Reverse a given integer number.\n",
        "\n",
        "Example:\n",
        "\n",
        "`Input:`\n",
        "\n",
        "```bash\n",
        "76542\n",
        "```\n",
        "\n",
        "`Output:`\n",
        "\n",
        "```bash\n",
        "24567\n",
        "```"
      ],
      "metadata": {
        "id": "-17IOi-g3UpU"
      }
    },
    {
      "cell_type": "code",
      "source": [
        "# Write code here\n",
        "num = int(input('Enter a num: '))\n",
        "\n",
        "def reverse(num):\n",
        "  ans = 0\n",
        "  while num > 0:\n",
        "    ans = ans*10 + num%10\n",
        "    num = num//10\n",
        "  return ans\n",
        "\n",
        "reverse(num)\n"
      ],
      "metadata": {
        "id": "wJwLpKCr3aVA",
        "colab": {
          "base_uri": "https://localhost:8080/",
          "height": 0
        },
        "outputId": "936805b6-2a36-4636-b2ec-661f7aa85595"
      },
      "execution_count": 18,
      "outputs": [
        {
          "name": "stdout",
          "output_type": "stream",
          "text": [
            "Enter a num: 76542\n"
          ]
        },
        {
          "output_type": "execute_result",
          "data": {
            "text/plain": [
              "24567"
            ]
          },
          "metadata": {},
          "execution_count": 18
        }
      ]
    },
    {
      "cell_type": "markdown",
      "source": [
        "### `Problem 8`: Take a user input as integer N. Find out the sum from 1 to N. If any number if divisible by 5, then skip that number. And if the sum is greater than 300, don't need to calculate the sum further more. Print the final result. And don't use for loop to solve this problem.\n",
        "\n"
      ],
      "metadata": {
        "id": "-t8PJQaY3sHf"
      }
    },
    {
      "cell_type": "code",
      "source": [
        "# Write code here\n",
        "num = int(input('Enter a num: '))\n",
        "\n",
        "def sum_(num):\n",
        "  i = 1\n",
        "  sum=0\n",
        "  while i <= num:\n",
        "    if i%5 == 0:\n",
        "      i += 1\n",
        "      continue\n",
        "    if (sum+i) > 300:\n",
        "      return sum\n",
        "    sum += i\n",
        "    i += 1\n",
        "sum_(num)"
      ],
      "metadata": {
        "id": "GZB6mGMP3ujT",
        "colab": {
          "base_uri": "https://localhost:8080/",
          "height": 0
        },
        "outputId": "2cbdfc19-4ad9-4817-f855-16467e8e69d5"
      },
      "execution_count": 21,
      "outputs": [
        {
          "name": "stdout",
          "output_type": "stream",
          "text": [
            "Enter a num: 50\n"
          ]
        },
        {
          "output_type": "execute_result",
          "data": {
            "text/plain": [
              "276"
            ]
          },
          "metadata": {},
          "execution_count": 21
        }
      ]
    },
    {
      "cell_type": "markdown",
      "source": [
        "### `Problem 9`: Write a program that keeps on accepting a number from the user until the user enters Zero. Display the sum and average of all the numbers."
      ],
      "metadata": {
        "id": "Q7ggImeA3xm4"
      }
    },
    {
      "cell_type": "code",
      "source": [
        "# Write code here\n",
        "def sum_avg():\n",
        "  num = int(input('Enter a num: '))\n",
        "  sum = 0\n",
        "  count = 0\n",
        "  if num==0:\n",
        "    print(f\"Sum: 0, Average: 0\")\n",
        "    return\n",
        "  while not num==0:\n",
        "    sum += num\n",
        "    count += 1\n",
        "    num = int(input('Enter a num: '))\n",
        "\n",
        "  print(f\"Sum: {sum}\")\n",
        "  print(f\"Average: {sum/count}\")\n",
        "\n",
        "sum_avg()\n"
      ],
      "metadata": {
        "id": "t_YDSZDe4Kdo",
        "colab": {
          "base_uri": "https://localhost:8080/",
          "height": 0
        },
        "outputId": "6c5f384f-cdac-41bd-b9ad-05f293862ed3"
      },
      "execution_count": 25,
      "outputs": [
        {
          "output_type": "stream",
          "name": "stdout",
          "text": [
            "Enter a num: 5\n",
            "Enter a num: 10\n",
            "Enter a num: 15\n",
            "Enter a num: 20\n",
            "Enter a num: 0\n",
            "Sum: 50\n",
            "Average: 12.5\n"
          ]
        }
      ]
    },
    {
      "cell_type": "markdown",
      "source": [
        "###`Problem 9`: Write a program which will find all such numbers which are divisible by 7 but are not a multiple of 5, between 2000 and 3200 (both included). The numbers obtained should be printed in a comma-separated sequence on a single line."
      ],
      "metadata": {
        "id": "6EhvEMvm4R7s"
      }
    },
    {
      "cell_type": "code",
      "source": [
        "# Write code here\n",
        "i = 2000\n",
        "while i <=3200:\n",
        "  if i % 7 != 0 or i % 5 == 0:\n",
        "    i += 1\n",
        "    continue\n",
        "  print(i, end=\", \")\n",
        "  i += 1"
      ],
      "metadata": {
        "id": "d6RgP1B34T6c",
        "colab": {
          "base_uri": "https://localhost:8080/",
          "height": 0
        },
        "outputId": "d78f6d82-2cc5-472d-a5b6-d2eeab99b03a"
      },
      "execution_count": 27,
      "outputs": [
        {
          "output_type": "stream",
          "name": "stdout",
          "text": [
            "2002, 2009, 2016, 2023, 2037, 2044, 2051, 2058, 2072, 2079, 2086, 2093, 2107, 2114, 2121, 2128, 2142, 2149, 2156, 2163, 2177, 2184, 2191, 2198, 2212, 2219, 2226, 2233, 2247, 2254, 2261, 2268, 2282, 2289, 2296, 2303, 2317, 2324, 2331, 2338, 2352, 2359, 2366, 2373, 2387, 2394, 2401, 2408, 2422, 2429, 2436, 2443, 2457, 2464, 2471, 2478, 2492, 2499, 2506, 2513, 2527, 2534, 2541, 2548, 2562, 2569, 2576, 2583, 2597, 2604, 2611, 2618, 2632, 2639, 2646, 2653, 2667, 2674, 2681, 2688, 2702, 2709, 2716, 2723, 2737, 2744, 2751, 2758, 2772, 2779, 2786, 2793, 2807, 2814, 2821, 2828, 2842, 2849, 2856, 2863, 2877, 2884, 2891, 2898, 2912, 2919, 2926, 2933, 2947, 2954, 2961, 2968, 2982, 2989, 2996, 3003, 3017, 3024, 3031, 3038, 3052, 3059, 3066, 3073, 3087, 3094, 3101, 3108, 3122, 3129, 3136, 3143, 3157, 3164, 3171, 3178, 3192, 3199, "
          ]
        }
      ]
    },
    {
      "cell_type": "markdown",
      "source": [
        "###`Problem 10`: Write a program, which will find all such numbers between 1000 and 3000 (both included) such that each digit of the number is an even number. The numbers obtained should be printed in a space-separated sequence on a single line.\n",
        "\n"
      ],
      "metadata": {
        "id": "tYvmRR-G4Vp4"
      }
    },
    {
      "cell_type": "code",
      "source": [
        "# Write code here\n",
        "\n",
        "# assuming 0 is not even.\n",
        "\n",
        "def is_all_digit_even(num):\n",
        "  while num > 0:\n",
        "    rem = num%10\n",
        "    if rem == 0 or rem%2 != 0:\n",
        "      return False\n",
        "    num = num // 10\n",
        "  return True\n",
        "\n",
        "i = 1000\n",
        "while i <=3000:\n",
        "  if is_all_digit_even(i):\n",
        "    print(i, end=', ')\n",
        "  i += 1\n"
      ],
      "metadata": {
        "id": "k6Gs1kIf4k19",
        "colab": {
          "base_uri": "https://localhost:8080/",
          "height": 0
        },
        "outputId": "40e71d25-fbb8-47ca-e376-4a858d0a11b9"
      },
      "execution_count": 29,
      "outputs": [
        {
          "output_type": "stream",
          "name": "stdout",
          "text": [
            "2222, 2224, 2226, 2228, 2242, 2244, 2246, 2248, 2262, 2264, 2266, 2268, 2282, 2284, 2286, 2288, 2422, 2424, 2426, 2428, 2442, 2444, 2446, 2448, 2462, 2464, 2466, 2468, 2482, 2484, 2486, 2488, 2622, 2624, 2626, 2628, 2642, 2644, 2646, 2648, 2662, 2664, 2666, 2668, 2682, 2684, 2686, 2688, 2822, 2824, 2826, 2828, 2842, 2844, 2846, 2848, 2862, 2864, 2866, 2868, 2882, 2884, 2886, 2888, "
          ]
        }
      ]
    },
    {
      "cell_type": "markdown",
      "source": [
        "###`Problem 11`: A robot moves in a plane starting from the original point (0,0). The robot can move toward UP, DOWN, LEFT and RIGHT with a given steps.\n",
        "The trace of robot movement is shown as the following:\n",
        "```\n",
        "UP 5\n",
        "DOWN 3\n",
        "LEFT 3\n",
        "RIGHT 2\n",
        "!\n",
        "```\n",
        "> The numbers after the direction are steps.\n",
        "\n",
        "> `!` means robot stop there.\n",
        "\n",
        "**Please write a program to compute the distance from current position after a sequence of movement and original point.**\n",
        "\n",
        "*If the distance is a float, then just print the nearest integer.*\n",
        "\n",
        "Example:\n",
        "\n",
        "`Input`:\n",
        "```\n",
        "UP 5\n",
        "DOWN 3\n",
        "LEFT 3\n",
        "RIGHT 2\n",
        "!\n",
        "```\n",
        "`Output`:\n",
        "```\n",
        "2\n",
        "```"
      ],
      "metadata": {
        "id": "GV18IINT4mf5"
      }
    },
    {
      "cell_type": "code",
      "source": [
        "import math\n",
        "round(math.sqrt(5))"
      ],
      "metadata": {
        "colab": {
          "base_uri": "https://localhost:8080/",
          "height": 0
        },
        "id": "D8hiouqWfKqb",
        "outputId": "1c809dc2-7327-44c4-979e-8af81ea1e993"
      },
      "execution_count": 33,
      "outputs": [
        {
          "output_type": "execute_result",
          "data": {
            "text/plain": [
              "2"
            ]
          },
          "metadata": {},
          "execution_count": 33
        }
      ]
    },
    {
      "cell_type": "code",
      "source": [
        "# Write code here\n",
        "\n",
        "def dist_from_origin(Up, Down, Left, Right):\n",
        "  x, y = 0, 0\n",
        "  x  += (Up - Down)\n",
        "  y += (Right - Left)\n",
        "  dist = int((x**2 + y**2)**0.5)\n",
        "  return dist\n",
        "\n",
        "dist_from_origin(10, 5, 13, 0)\n",
        "\n"
      ],
      "metadata": {
        "id": "6UNMC2aR4w5x",
        "colab": {
          "base_uri": "https://localhost:8080/",
          "height": 0
        },
        "outputId": "c82eb6f2-a0be-4a54-fa26-74cd5ad4a469"
      },
      "execution_count": 58,
      "outputs": [
        {
          "output_type": "execute_result",
          "data": {
            "text/plain": [
              "13"
            ]
          },
          "metadata": {},
          "execution_count": 58
        }
      ]
    },
    {
      "cell_type": "code",
      "source": [
        "# Write code here\n",
        "pos = [0,0]\n",
        "while True:\n",
        "  s = input('Enter the robot path')\n",
        "  if s == '!':\n",
        "    break\n",
        "  direction = s.split()[0]\n",
        "  steps = int(s.split()[1])\n",
        "\n",
        "  if direction == 'UP':\n",
        "    pos[1] = pos[1] + steps\n",
        "  elif direction == 'DOWN':\n",
        "    pos[1] = pos[1] - steps\n",
        "  elif direction == 'LEFT':\n",
        "    pos[0] = pos[0] - steps\n",
        "  elif direction == 'RIGHT':\n",
        "    pos[0] = pos[0] + steps\n",
        "  else:\n",
        "    pass\n",
        "\n",
        "print('new pos',pos)\n",
        "print((pos[0]**2 + pos[1]**2)**0.5)\n",
        "\n",
        "\n",
        "\n",
        "\n"
      ],
      "metadata": {
        "colab": {
          "base_uri": "https://localhost:8080/",
          "height": 0
        },
        "id": "FwbsadwURhbg",
        "outputId": "7d5e0780-9ba1-4f1e-fa63-6465dc028a40"
      },
      "execution_count": 60,
      "outputs": [
        {
          "output_type": "stream",
          "name": "stdout",
          "text": [
            "Enter the robot pathUP 10\n",
            "Enter the robot pathDOWN 5\n",
            "Enter the robot pathLEFT 13\n",
            "Enter the robot path!\n",
            "new pos [-13, 5]\n",
            "13.92838827718412\n"
          ]
        }
      ]
    },
    {
      "cell_type": "markdown",
      "source": [
        "###`Problem 12`:Write a program to print whether a given number is a prime number or not"
      ],
      "metadata": {
        "id": "3fsAIAhK5GYY"
      }
    },
    {
      "cell_type": "code",
      "source": [
        "def is_prime(num):\n",
        "  for i in range(2, num):\n",
        "    if num%i == 0:\n",
        "      return False\n",
        "  return True\n",
        "is_prime(13)"
      ],
      "metadata": {
        "id": "j6y91lxy5LZs",
        "colab": {
          "base_uri": "https://localhost:8080/",
          "height": 0
        },
        "outputId": "b11992e8-8007-48fb-d124-66c35a2913fd"
      },
      "execution_count": 39,
      "outputs": [
        {
          "output_type": "execute_result",
          "data": {
            "text/plain": [
              "True"
            ]
          },
          "metadata": {},
          "execution_count": 39
        }
      ]
    },
    {
      "cell_type": "markdown",
      "source": [
        "###`Problem 13`:Print all the Armstrong numbers in a given range.\n",
        "Range will be provided by the user<br>\n",
        "Armstrong number is a number that is equal to the sum of cubes of its digits. For example 0, 1, 153, 370, 371 and 407 are the Armstrong numbers."
      ],
      "metadata": {
        "id": "asAbmbK-5NHv"
      }
    },
    {
      "cell_type": "code",
      "source": [
        "# Write code here\n",
        "a = int(input('Enter first element of the range: '))\n",
        "b = int(input('Enter second element of the range: '))\n",
        "\n",
        "for i in range(a, b+1):\n",
        "  sum = 0\n",
        "  temp = i\n",
        "  while temp>0:\n",
        "    last_digit = temp%10\n",
        "    sum += last_digit**len(str(i))\n",
        "    temp = temp // 10\n",
        "  if sum == i:\n",
        "    print(i)"
      ],
      "metadata": {
        "id": "PZuI67pm5jCT",
        "colab": {
          "base_uri": "https://localhost:8080/",
          "height": 0
        },
        "outputId": "3138630a-8797-421f-c447-95fb770ee781"
      },
      "execution_count": 55,
      "outputs": [
        {
          "output_type": "stream",
          "name": "stdout",
          "text": [
            "Enter first element of the range: 0\n",
            "Enter second element of the range: 200\n",
            "0\n",
            "1\n",
            "2\n",
            "3\n",
            "4\n",
            "5\n",
            "6\n",
            "7\n",
            "8\n",
            "9\n",
            "153\n"
          ]
        }
      ]
    },
    {
      "cell_type": "markdown",
      "source": [
        "###`Problem 14`:Calculate the angle between the hour hand and minute hand.\n",
        "\n",
        "Note: There can be two angles between hands; we need to print a minimum of two. Also, we need to print the floor of the final result angle. For example, if the final angle is 10.61, we need to print 10.\n",
        "\n",
        "Input:<br>\n",
        "H = 9 , M = 0<br>\n",
        "Output:<br>\n",
        "90<br>\n",
        "Explanation:<br>\n",
        "The minimum angle between hour and minute\n",
        "hand when the time is 9 is 90 degress."
      ],
      "metadata": {
        "id": "ClCQZMqT7gK0"
      }
    },
    {
      "cell_type": "code",
      "source": [
        "# Write code here\n",
        "hr = 9\n",
        "mint = 0\n",
        "angle_made_hr_hand = hr * 30 + mint * 0.5\n",
        "angle_made_mint_hand = mint*6\n",
        "ang_between = abs(angle_made_mint_hand - angle_made_hr_hand)\n",
        "if ang_between >180:\n",
        "  ang_between = 360 - ang_between\n",
        "print(int(ang_between))"
      ],
      "metadata": {
        "id": "tNBTCZML7jy_",
        "colab": {
          "base_uri": "https://localhost:8080/",
          "height": 0
        },
        "outputId": "a26e2a47-8d51-4442-dc75-20b8c71a9443"
      },
      "execution_count": 52,
      "outputs": [
        {
          "output_type": "stream",
          "name": "stdout",
          "text": [
            "90\n"
          ]
        }
      ]
    },
    {
      "cell_type": "markdown",
      "source": [
        "###`Problem 15`:Given two rectangles, find if the given two rectangles overlap or not. A rectangle is denoted by providing the x and y coordinates of two points: the left top corner and the right bottom corner of the rectangle. Two rectangles sharing a side are considered overlapping. (L1 and R1 are the extreme points of the first rectangle and L2 and R2 are the extreme points of the second rectangle).\n",
        "\n",
        "Note: It may be assumed that the rectangles are parallel to the coordinate axis.\n",
        "\n",
        "<img src='https://www.geeksforgeeks.org/wp-content/uploads/rectanglesOverlap.png' width='300' height='200'>"
      ],
      "metadata": {
        "id": "GwacF9Co72Qc"
      }
    },
    {
      "cell_type": "code",
      "source": [
        "print(\"Enter both Rectangel points coordinates <x y>\")\n",
        "\n",
        "l1_x, l1_y = list(map(int, input('Enter L1 coordinate value  (Two value space seperated):').split()))\n",
        "r1_x, r1_y = list(map(int, input('Enter r1 coordinate value,(Two value space seperated):').split()))\n",
        "\n",
        "l2_x, l2_y = list(map(int, input('Enter L2 coordinate value,(Two value space seperated):').split()))\n",
        "r2_x, r2_y = list(map(int, input('Enter r2 coordinate value,(Two value space seperated):').split()))\n",
        "\n",
        "# if rectangle has area 0, no overlap\n",
        "if l1_x == r1_x or l1_y == r1_y or r2_x == l2_x or l2_y == r2_y:\n",
        "  print(\"Don't Overlap\")\n",
        "\n",
        "# If one rectangle is on left side of other\n",
        "elif l1_x > r2_x or l2_x > r1_x:\n",
        "  print(\"Don't Overlap\")\n",
        "\n",
        "# If one rectangle is above other\n",
        "elif r1_y > l2_y or r2_y > l1_y:\n",
        "  print(\"Don't Overlap\")\n",
        "else:\n",
        "  print(\"Overlap\")"
      ],
      "metadata": {
        "id": "6rrw_lpH78Rs",
        "colab": {
          "base_uri": "https://localhost:8080/",
          "height": 0
        },
        "outputId": "9f73c931-51b8-4841-82ed-a1d746b7c0e8"
      },
      "execution_count": 61,
      "outputs": [
        {
          "output_type": "stream",
          "name": "stdout",
          "text": [
            "Enter both Rectangel points coordinates <x y>\n",
            "Enter L1 coordinate value  (Two value space seperated):1 2\n",
            "Enter r1 coordinate value,(Two value space seperated):3 4\n",
            "Enter L2 coordinate value,(Two value space seperated):5 6\n",
            "Enter r2 coordinate value,(Two value space seperated):7 8\n",
            "Don't Overlap\n"
          ]
        }
      ]
    },
    {
      "cell_type": "code",
      "source": [],
      "metadata": {
        "id": "yhTPnA_g7AmP"
      },
      "execution_count": null,
      "outputs": []
    },
    {
      "cell_type": "markdown",
      "source": [
        "### Q) Printing a table"
      ],
      "metadata": {
        "id": "zaK25iecCULN"
      }
    },
    {
      "cell_type": "code",
      "source": [
        "num = int(input('Enter a number'))\n",
        "i = 1\n",
        "while i < 11:\n",
        "  print(f\"{num} * {i} = {num*i}\")\n",
        "  i += 1\n"
      ],
      "metadata": {
        "colab": {
          "base_uri": "https://localhost:8080/"
        },
        "id": "T1fYtFcIG7vb",
        "outputId": "8f09fe67-9095-4295-cca4-4f9dd8c4f5c4"
      },
      "execution_count": null,
      "outputs": [
        {
          "output_type": "stream",
          "name": "stdout",
          "text": [
            "Enter a number10\n",
            "10 * 1 = 10\n",
            "10 * 2 = 20\n",
            "10 * 3 = 30\n",
            "10 * 4 = 40\n",
            "10 * 5 = 50\n",
            "10 * 6 = 60\n",
            "10 * 7 = 70\n",
            "10 * 8 = 80\n",
            "10 * 9 = 90\n",
            "10 * 10 = 100\n"
          ]
        }
      ]
    },
    {
      "cell_type": "markdown",
      "source": [
        "### Q) Guessing game"
      ],
      "metadata": {
        "id": "sVKjaa8mCXWn"
      }
    },
    {
      "cell_type": "code",
      "source": [
        "num = 15\n",
        "guess = int(input('Enter a number'))\n",
        "count = 1\n",
        "while guess != num:\n",
        "  count += 1\n",
        "  if guess > num:\n",
        "    print('Guess a little small number.')\n",
        "  else:\n",
        "    print('Guess a little big number.')\n",
        "  guess = int(input('Enter a number'))\n",
        "print(f'Jackpot!!! in {count} attempts')"
      ],
      "metadata": {
        "colab": {
          "base_uri": "https://localhost:8080/"
        },
        "id": "FZPrGlAeMtPJ",
        "outputId": "abd977c1-421b-4936-bb0d-0880b7c566c4"
      },
      "execution_count": null,
      "outputs": [
        {
          "output_type": "stream",
          "name": "stdout",
          "text": [
            "Enter a number1\n",
            "Guess a little big number.\n",
            "Enter a number4\n",
            "Guess a little big number.\n",
            "Enter a number15\n",
            "Jackpot!!! in 3 attempts\n"
          ]
        }
      ]
    },
    {
      "cell_type": "markdown",
      "source": [
        "### Q) Sum of all digits of a number"
      ],
      "metadata": {
        "id": "_L2kgdBcCgom"
      }
    },
    {
      "cell_type": "code",
      "source": [
        "num = int(input('Enter a number'))\n",
        "sum= 0\n",
        "while num > 0:\n",
        "  rem = num%10\n",
        "  sum+= rem\n",
        "  num = num//10\n",
        "print(sum)"
      ],
      "metadata": {
        "colab": {
          "base_uri": "https://localhost:8080/"
        },
        "id": "OjL3J0VPN7FY",
        "outputId": "7a0585e3-2bcc-43bc-d620-c6036c98c832"
      },
      "execution_count": null,
      "outputs": [
        {
          "output_type": "stream",
          "name": "stdout",
          "text": [
            "Enter a number123\n",
            "6\n"
          ]
        }
      ]
    },
    {
      "cell_type": "markdown",
      "source": [
        "### Q) The current population of a town is 10000. The population of the town is increasing at the rate of 10% per year. You have to write a program to find out the population at the end of each of the last 10 years."
      ],
      "metadata": {
        "id": "tR8-RZGpQjZo"
      }
    },
    {
      "cell_type": "code",
      "source": [
        "cur_pop = 10000\n",
        "for i in range(10):\n",
        "  print(f\"{2024-i} {cur_pop}\")\n",
        "  cur_pop -= 0.1*cur_pop"
      ],
      "metadata": {
        "colab": {
          "base_uri": "https://localhost:8080/"
        },
        "id": "Y5lK3O3sEKCj",
        "outputId": "a3d4ccf5-d031-4293-c051-f1166e938496"
      },
      "execution_count": null,
      "outputs": [
        {
          "output_type": "stream",
          "name": "stdout",
          "text": [
            "2024 10000\n",
            "2023 9000.0\n",
            "2022 8100.0\n",
            "2021 7290.0\n",
            "2020 6561.0\n",
            "2019 5904.9\n",
            "2018 5314.41\n",
            "2017 4782.969\n",
            "2016 4304.6721\n",
            "2015 3874.20489\n"
          ]
        }
      ]
    },
    {
      "cell_type": "code",
      "source": [
        "pop = 10000\n",
        "i = 1\n",
        "while i < 11:\n",
        "  pop -= 0.1 * pop\n",
        "  print(f'In {2024-i}-{pop}')\n",
        "  i += 1"
      ],
      "metadata": {
        "colab": {
          "base_uri": "https://localhost:8080/"
        },
        "outputId": "baee8375-6a45-4056-d9ce-114792a5e8f2",
        "id": "Uu0lv20QUCSO"
      },
      "execution_count": null,
      "outputs": [
        {
          "output_type": "stream",
          "name": "stdout",
          "text": [
            "In 2023-9000.0\n",
            "In 2022-8100.0\n",
            "In 2021-7290.0\n",
            "In 2020-6561.0\n",
            "In 2019-5904.9\n",
            "In 2018-5314.41\n",
            "In 2017-4782.969\n",
            "In 2016-4304.6721\n",
            "In 2015-3874.20489\n",
            "In 2014-3486.784401\n"
          ]
        }
      ]
    }
  ]
}