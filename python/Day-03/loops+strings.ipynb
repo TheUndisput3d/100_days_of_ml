{
  "nbformat": 4,
  "nbformat_minor": 0,
  "metadata": {
    "colab": {
      "provenance": []
    },
    "kernelspec": {
      "name": "python3",
      "display_name": "Python 3"
    },
    "language_info": {
      "name": "python"
    }
  },
  "cells": [
    {
      "cell_type": "code",
      "source": [
        "#factorial without using recursion\n",
        "def fact(num):\n",
        "  res = 1\n",
        "  for i in range(1, num+1):\n",
        "    res = res * i\n",
        "  return res\n",
        "fact(4)"
      ],
      "metadata": {
        "colab": {
          "base_uri": "https://localhost:8080/"
        },
        "id": "ftO_7CooybkU",
        "outputId": "b1ecd10a-862c-4e29-e9ac-c13160c65b5d"
      },
      "execution_count": 1,
      "outputs": [
        {
          "output_type": "execute_result",
          "data": {
            "text/plain": [
              "24"
            ]
          },
          "metadata": {},
          "execution_count": 1
        }
      ]
    },
    {
      "cell_type": "code",
      "source": [
        "# factorial using recursion\n",
        "fact = 1\n",
        "def fact(num):\n",
        "  if num==0 or num==1:\n",
        "    return 1\n",
        "  return num * fact(num-1)\n",
        "fact(4)"
      ],
      "metadata": {
        "colab": {
          "base_uri": "https://localhost:8080/"
        },
        "id": "D1vhn3aXyx7P",
        "outputId": "df10ea29-e571-4db1-b4c1-1c35fb4a9edd"
      },
      "execution_count": null,
      "outputs": [
        {
          "output_type": "execute_result",
          "data": {
            "text/plain": [
              "24"
            ]
          },
          "metadata": {},
          "execution_count": 22
        }
      ]
    },
    {
      "cell_type": "markdown",
      "source": [
        "### Sequence sum\n",
        "\n",
        "1/1! + 2/2! + 3/3! + ..."
      ],
      "metadata": {
        "id": "v7kLZ3lF78xV"
      }
    },
    {
      "cell_type": "code",
      "source": [
        "n = int(input('Enter the value of n: '))\n",
        "sum = 0\n",
        "fact = 1\n",
        "for i in range(1, n+1):\n",
        "  fact = fact * i\n",
        "  sum = sum + (i/fact)\n",
        "print(sum)"
      ],
      "metadata": {
        "colab": {
          "base_uri": "https://localhost:8080/"
        },
        "id": "b95BeJ66wCUH",
        "outputId": "7c9161a4-fb5e-4b81-92e8-75a138a956cc"
      },
      "execution_count": null,
      "outputs": [
        {
          "output_type": "stream",
          "name": "stdout",
          "text": [
            "Enter the value of n: 2\n",
            "2.0\n"
          ]
        }
      ]
    },
    {
      "cell_type": "markdown",
      "source": [
        "### Nested Loops"
      ],
      "metadata": {
        "id": "y-toveYM8A4C"
      }
    },
    {
      "cell_type": "markdown",
      "source": [
        "### Pattern 1\n",
        "\n",
        "\n",
        "*** <br>\n",
        "**** <br>\n",
        "***<br>\n"
      ],
      "metadata": {
        "id": "BsmIvHmO8Goh"
      }
    },
    {
      "cell_type": "code",
      "source": [
        "# pattern\n",
        "nrows = int(input('Enter no. of rows: '))\n",
        "for i in range(1, nrows+1):\n",
        "  for j in range(i):\n",
        "    print('*', end='')\n",
        "  print()\n"
      ],
      "metadata": {
        "colab": {
          "base_uri": "https://localhost:8080/"
        },
        "id": "eXqZ2Vsc4ciZ",
        "outputId": "da473bbb-11b0-4119-8396-18bfa7d9a334"
      },
      "execution_count": null,
      "outputs": [
        {
          "output_type": "stream",
          "name": "stdout",
          "text": [
            "Enter no. of rows: 5\n",
            "*\n",
            "**\n",
            "***\n",
            "****\n",
            "*****\n"
          ]
        }
      ]
    },
    {
      "cell_type": "markdown",
      "source": [
        "### Pattern 2\n",
        "\n",
        "1<br>\n",
        "121<br>\n",
        "12321<br>\n",
        "1234321<br>"
      ],
      "metadata": {
        "id": "oyTnwgfl8dsR"
      }
    },
    {
      "cell_type": "code",
      "source": [
        "for i in range(1, nrows+1):\n",
        "  for j in range(1,i+1):\n",
        "    print(j, end='')\n",
        "  for k in range(i-1, 0, -1):\n",
        "    print(k, end='')\n",
        "  print()"
      ],
      "metadata": {
        "colab": {
          "base_uri": "https://localhost:8080/"
        },
        "id": "yjHsPf6w5_S3",
        "outputId": "3d683d82-70ca-4900-c115-4cfefeb08f34"
      },
      "execution_count": null,
      "outputs": [
        {
          "output_type": "stream",
          "name": "stdout",
          "text": [
            "1\n",
            "121\n",
            "12321\n",
            "1234321\n",
            "123454321\n"
          ]
        }
      ]
    },
    {
      "cell_type": "markdown",
      "source": [
        " Q) For nums `[1, 2, 3, 4]`, printing all possible pairs"
      ],
      "metadata": {
        "id": "Q6n95wK_8fZv"
      }
    },
    {
      "cell_type": "code",
      "source": [
        "for i in range(1, 5):\n",
        "  for j in range(1, 5):\n",
        "    print(i, j)"
      ],
      "metadata": {
        "colab": {
          "base_uri": "https://localhost:8080/"
        },
        "id": "DMaXnzKB24TA",
        "outputId": "84020657-c517-4a65-c090-bae8aeabc79f"
      },
      "execution_count": null,
      "outputs": [
        {
          "output_type": "stream",
          "name": "stdout",
          "text": [
            "1 1\n",
            "1 2\n",
            "1 3\n",
            "1 4\n",
            "2 1\n",
            "2 2\n",
            "2 3\n",
            "2 4\n",
            "3 1\n",
            "3 2\n",
            "3 3\n",
            "3 4\n",
            "4 1\n",
            "4 2\n",
            "4 3\n",
            "4 4\n"
          ]
        }
      ]
    },
    {
      "cell_type": "markdown",
      "source": [
        "### Q) The current population of a town is 10000. The population of the town is increasing at the rate of 10% per year. You have to write a program to find out the population at the end of each of the last 10 years."
      ],
      "metadata": {
        "id": "tR8-RZGpQjZo"
      }
    },
    {
      "cell_type": "code",
      "source": [
        "cur_pop = 10000\n",
        "for i in range(10):\n",
        "  print(f\"{2024-i} {cur_pop}\")\n",
        "  cur_pop /= 1.1"
      ],
      "metadata": {
        "colab": {
          "base_uri": "https://localhost:8080/"
        },
        "id": "Y5lK3O3sEKCj",
        "outputId": "61271c39-bc9f-48b7-f080-41f1c6833303"
      },
      "execution_count": null,
      "outputs": [
        {
          "output_type": "stream",
          "name": "stdout",
          "text": [
            "2024 10000\n",
            "2023 9090.90909090909\n",
            "2022 8264.462809917353\n",
            "2021 7513.148009015775\n",
            "2020 6830.134553650703\n",
            "2019 6209.213230591548\n",
            "2018 5644.739300537771\n",
            "2017 5131.5811823070635\n",
            "2016 4665.07380209733\n",
            "2015 4240.976183724845\n"
          ]
        }
      ]
    },
    {
      "cell_type": "markdown",
      "source": [
        "### Strings"
      ],
      "metadata": {
        "id": "QfTk3P3-9fye"
      }
    },
    {
      "cell_type": "code",
      "source": [
        "# length of a string without using len function\n",
        "s = input('Enter a string: ')\n",
        "count = 0\n",
        "for i in s:\n",
        "  count = count + 1\n",
        "print(count)"
      ],
      "metadata": {
        "colab": {
          "base_uri": "https://localhost:8080/"
        },
        "id": "KdCNZCoP9g43",
        "outputId": "0aa49130-48a1-437d-d4ba-d4ad6824bc22"
      },
      "execution_count": 4,
      "outputs": [
        {
          "output_type": "stream",
          "name": "stdout",
          "text": [
            "Enter a string: hello\n",
            "5\n"
          ]
        }
      ]
    },
    {
      "cell_type": "code",
      "source": [
        "# Extract username from a given email\n",
        "email = input('Enter an email: ')\n",
        "print(email.split('@')[0])"
      ],
      "metadata": {
        "colab": {
          "base_uri": "https://localhost:8080/"
        },
        "id": "hAIrLy8d-Pzl",
        "outputId": "7029f93f-24ea-4950-9b89-0ada2bca6936"
      },
      "execution_count": 5,
      "outputs": [
        {
          "output_type": "stream",
          "name": "stdout",
          "text": [
            "Enter an email: aayush@gmail.com\n",
            "aayush\n"
          ]
        }
      ]
    },
    {
      "cell_type": "code",
      "source": [
        "# count the frequency of a particular char in a given string\n",
        "st, char = input('Enter a string and a char u want a count of sep by space(aayush, y)').split(', ')\n",
        "hash_map = {}\n",
        "for i in st:\n",
        "  hash_map[i] = hash_map.get(i, 0) + 1\n",
        "print(hash_map[char])"
      ],
      "metadata": {
        "colab": {
          "base_uri": "https://localhost:8080/"
        },
        "id": "s9PMWllm-sbn",
        "outputId": "b2a896f7-87aa-4cc2-9157-359c5407f39d"
      },
      "execution_count": 8,
      "outputs": [
        {
          "output_type": "stream",
          "name": "stdout",
          "text": [
            "Enter a string and a char u want a count of sep by space(aayush, y)hello how are you, h\n",
            "2\n"
          ]
        }
      ]
    },
    {
      "cell_type": "code",
      "source": [
        "counter = 0\n",
        "for i in st:\n",
        "  if i == char:\n",
        "    counter += 1\n",
        "print(char, counter)"
      ],
      "metadata": {
        "colab": {
          "base_uri": "https://localhost:8080/"
        },
        "id": "WYLVjkg-_cIE",
        "outputId": "20432f3d-1bdd-4558-b2dd-8ad8a809183a"
      },
      "execution_count": 9,
      "outputs": [
        {
          "output_type": "stream",
          "name": "stdout",
          "text": [
            "h 2\n"
          ]
        }
      ]
    },
    {
      "cell_type": "code",
      "source": [
        "s = input('string')\n",
        "c = input('char')\n",
        "\n",
        "res = ''\n",
        "for i in s:\n",
        "  if i == c:\n",
        "    continue\n",
        "  res += i\n",
        "print(res)"
      ],
      "metadata": {
        "colab": {
          "base_uri": "https://localhost:8080/"
        },
        "id": "2jkgAo3z_8WY",
        "outputId": "ca4cdece-c85c-41d0-bddc-da044a3ade2e"
      },
      "execution_count": 46,
      "outputs": [
        {
          "output_type": "stream",
          "name": "stdout",
          "text": [
            "stringhello aayush you are yogurt\n",
            "chary\n",
            "hello aaush ou are ogurt\n"
          ]
        }
      ]
    },
    {
      "cell_type": "code",
      "source": [
        "# palindrome string or not\n",
        "s = input('string')\n",
        "\n",
        "if s == s[::-1]:\n",
        "  print('Palindrome')\n",
        "else:\n",
        "  print('Not a palindrome')"
      ],
      "metadata": {
        "colab": {
          "base_uri": "https://localhost:8080/"
        },
        "id": "9P4TZr4pAMYJ",
        "outputId": "72046a1f-8ef1-4ac8-e6df-7dc73632b20d"
      },
      "execution_count": 14,
      "outputs": [
        {
          "output_type": "stream",
          "name": "stdout",
          "text": [
            "stringabba\n",
            "Palindrome\n"
          ]
        }
      ]
    },
    {
      "cell_type": "code",
      "source": [
        "str_ = 'aayush'\n",
        "print(str_[:1:-1])"
      ],
      "metadata": {
        "colab": {
          "base_uri": "https://localhost:8080/"
        },
        "id": "qNkXGseoAvSs",
        "outputId": "9476bb84-da5b-4071-d8f5-31fa5e77588f"
      },
      "execution_count": 16,
      "outputs": [
        {
          "output_type": "stream",
          "name": "stdout",
          "text": [
            "hsuy\n"
          ]
        }
      ]
    },
    {
      "cell_type": "code",
      "source": [
        "ss = input('string')\n",
        "anot = ''\n",
        "for i in ss:\n",
        "  anot = i + anot\n",
        "print(anot)\n",
        "if anot == ss:\n",
        "  print('Palindrome')\n",
        "else:\n",
        "  print('Not a palindrome')"
      ],
      "metadata": {
        "colab": {
          "base_uri": "https://localhost:8080/"
        },
        "id": "Xa2N38NkA-N9",
        "outputId": "55c5ee11-453b-4b8f-f51f-5a4646ed6591"
      },
      "execution_count": 37,
      "outputs": [
        {
          "output_type": "stream",
          "name": "stdout",
          "text": [
            "stringmalayalam\n",
            "malayalam\n",
            "Palindrome\n"
          ]
        }
      ]
    },
    {
      "cell_type": "code",
      "source": [
        "lst_words = input('string')\n",
        "counter = 0\n",
        "for c in lst_words:\n",
        "  if c == ' ':\n",
        "    counter += 1\n",
        "counter += 1\n",
        "print(counter)"
      ],
      "metadata": {
        "colab": {
          "base_uri": "https://localhost:8080/"
        },
        "id": "tiIBFNY_DhRb",
        "outputId": "07ec646f-0eee-436a-cc29-9544b366b64e"
      },
      "execution_count": 39,
      "outputs": [
        {
          "output_type": "stream",
          "name": "stdout",
          "text": [
            "stringhello i am aayush\n",
            "4\n"
          ]
        }
      ]
    },
    {
      "cell_type": "code",
      "source": [
        "lst_words = input('string')\n",
        "res = ''\n",
        "lst = lst_words.split()\n",
        "for i in range(len(lst)):\n",
        "  for i, c in enumerate(lst[i]):\n",
        "    if i == 0:\n",
        "      res += c.upper()\n",
        "    else:\n",
        "      res += c\n",
        "  res += ' '\n",
        "print(res)"
      ],
      "metadata": {
        "colab": {
          "base_uri": "https://localhost:8080/"
        },
        "id": "RyBK4gzeCVZm",
        "outputId": "35a2cbb3-98c4-479d-eeeb-d3cb98918cbc"
      },
      "execution_count": 43,
      "outputs": [
        {
          "output_type": "stream",
          "name": "stdout",
          "text": [
            "stringhello how are you\n",
            "Hello How Are You \n"
          ]
        }
      ]
    },
    {
      "cell_type": "code",
      "source": [
        "num = int(input('Integer: '))\n",
        "print(type(num))\n",
        "num = str(num)\n",
        "print(type(str_num))"
      ],
      "metadata": {
        "colab": {
          "base_uri": "https://localhost:8080/"
        },
        "id": "j3TPjPjdE2Uf",
        "outputId": "e3993ead-58d9-4eb2-bf72-7632904066d3"
      },
      "execution_count": 42,
      "outputs": [
        {
          "output_type": "stream",
          "name": "stdout",
          "text": [
            "Integer: 35\n",
            "<class 'int'>\n",
            "<class 'str'>\n"
          ]
        }
      ]
    },
    {
      "cell_type": "code",
      "source": [
        "num = int(input('number :'))\n",
        "print(f\"num: {type(num)}\")\n",
        "digits = '1234567890'\n",
        "str_num = ''\n",
        "while num > 0:\n",
        "  d = num%10\n",
        "  for i in digits:\n",
        "    if int(i) == d:\n",
        "      str_num = i + str_num\n",
        "  num = num // 10\n",
        "print(str_num)\n",
        "print(type(str_num))\n",
        "\n"
      ],
      "metadata": {
        "colab": {
          "base_uri": "https://localhost:8080/"
        },
        "id": "5hWgakihFH6h",
        "outputId": "5ef3b545-e9d6-49c1-a26c-55da4bf75627"
      },
      "execution_count": 45,
      "outputs": [
        {
          "output_type": "stream",
          "name": "stdout",
          "text": [
            "number :256\n",
            "num: <class 'int'>\n",
            "256\n",
            "<class 'str'>\n"
          ]
        }
      ]
    },
    {
      "cell_type": "code",
      "source": [],
      "metadata": {
        "id": "ymE25BFVIR69"
      },
      "execution_count": null,
      "outputs": []
    }
  ]
}