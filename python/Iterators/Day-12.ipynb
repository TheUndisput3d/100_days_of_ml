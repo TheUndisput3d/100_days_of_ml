{
  "cells": [
    {
      "cell_type": "markdown",
      "id": "2d9e8884",
      "metadata": {
        "id": "2d9e8884"
      },
      "source": [
        "## What is an Iteration\n",
        "\n",
        "Iteration is a general term for taking each item of something, one after another. Any time you use a loop, explicit or implicit, to go over a group of items, that is iteration."
      ]
    },
    {
      "cell_type": "code",
      "execution_count": 1,
      "id": "26fadf7e",
      "metadata": {
        "id": "26fadf7e",
        "outputId": "6e73b1f4-6866-40ee-fbd6-21616d124e0b",
        "colab": {
          "base_uri": "https://localhost:8080/"
        }
      },
      "outputs": [
        {
          "output_type": "stream",
          "name": "stdout",
          "text": [
            "1\n",
            "2\n",
            "3\n"
          ]
        }
      ],
      "source": [
        "# Example\n",
        "num = [1,2,3]\n",
        "\n",
        "for i in num:\n",
        "    print(i)"
      ]
    },
    {
      "cell_type": "code",
      "source": [
        "# Example\n",
        "\n",
        "l = [1, 2, 3, 4]\n",
        "for num in l:\n",
        "  print(num)"
      ],
      "metadata": {
        "colab": {
          "base_uri": "https://localhost:8080/"
        },
        "id": "Xzt7IKPw7d0B",
        "outputId": "cc7507c7-cffc-41d4-ee09-a1ae8e9ef963"
      },
      "id": "Xzt7IKPw7d0B",
      "execution_count": 2,
      "outputs": [
        {
          "output_type": "stream",
          "name": "stdout",
          "text": [
            "1\n",
            "2\n",
            "3\n",
            "4\n"
          ]
        }
      ]
    },
    {
      "cell_type": "markdown",
      "id": "c7ea3a1a",
      "metadata": {
        "id": "c7ea3a1a"
      },
      "source": [
        "## What is Iterator\n",
        "\n",
        "An Iterator is an object that allows the programmer to traverse through a sequence of data without having to store the entire data in the memory"
      ]
    },
    {
      "cell_type": "code",
      "source": [
        "# Example\n",
        "L = [x for x in range(1, 100000)]\n",
        "\n",
        "# for i in L:\n",
        "#   print(i)\n",
        "\n",
        "import sys\n",
        "print(\"list-size: {}kb\".format(sys.getsizeof(L)/1024, 1))\n",
        "\n",
        "r = range(1, 100000)\n",
        "print(\"range-size: {}kb\".format(sys.getsizeof(r)/1024, 1))\n",
        "\n",
        "# for i in range(1, 100000):\n",
        "#   print(i)\n"
      ],
      "metadata": {
        "colab": {
          "base_uri": "https://localhost:8080/"
        },
        "id": "ATLGns_C7oEY",
        "outputId": "accd6542-452c-4e33-8f70-10a02f06deca"
      },
      "id": "ATLGns_C7oEY",
      "execution_count": 13,
      "outputs": [
        {
          "output_type": "stream",
          "name": "stdout",
          "text": [
            "list-size: 782.2109375kb\n",
            "range-size: 0.046875kb\n"
          ]
        }
      ]
    },
    {
      "cell_type": "markdown",
      "id": "99fff65f",
      "metadata": {
        "id": "99fff65f"
      },
      "source": [
        "## What is Iterable\n",
        "Iterable is an object, which one can iterate over\n",
        "\n",
        " It generates an Iterator when passed to iter() method."
      ]
    },
    {
      "cell_type": "code",
      "source": [
        "# Example\n",
        "L = [1, 2, 3]\n",
        "type(L)\n",
        "\n",
        "# L is an iterable\n",
        "type(iter(L))\n",
        "\n",
        "# iter(L) --> iterator"
      ],
      "metadata": {
        "colab": {
          "base_uri": "https://localhost:8080/"
        },
        "id": "ieHiYGVd9fgl",
        "outputId": "24fba2e3-aa24-4ab6-cc5e-be947659cdd1"
      },
      "id": "ieHiYGVd9fgl",
      "execution_count": 15,
      "outputs": [
        {
          "output_type": "execute_result",
          "data": {
            "text/plain": [
              "list_iterator"
            ]
          },
          "metadata": {},
          "execution_count": 15
        }
      ]
    },
    {
      "cell_type": "markdown",
      "id": "f9482d80",
      "metadata": {
        "id": "f9482d80"
      },
      "source": [
        "## Point to remember\n",
        "\n",
        "- Every **Iterator** is also and **Iterable**\n",
        "- Not all **Iterables** are **Iterators**"
      ]
    },
    {
      "cell_type": "markdown",
      "id": "9c4c52a7",
      "metadata": {
        "id": "9c4c52a7"
      },
      "source": [
        "## Trick\n",
        "- Every Iterable has an **iter function**\n",
        "- Every Iterator has both **iter function** as well as a **next function**"
      ]
    },
    {
      "cell_type": "code",
      "source": [
        "iter([2, 3, 4])"
      ],
      "metadata": {
        "colab": {
          "base_uri": "https://localhost:8080/"
        },
        "id": "ynRl1YU6-VdW",
        "outputId": "aad2720d-69a6-451a-8322-ec669ba52f28"
      },
      "id": "ynRl1YU6-VdW",
      "execution_count": 24,
      "outputs": [
        {
          "output_type": "execute_result",
          "data": {
            "text/plain": [
              "<list_iterator at 0x79b1a4717640>"
            ]
          },
          "metadata": {},
          "execution_count": 24
        }
      ]
    },
    {
      "cell_type": "code",
      "source": [
        "iter(2)"
      ],
      "metadata": {
        "colab": {
          "base_uri": "https://localhost:8080/",
          "height": 141
        },
        "id": "Pqa92DDA-THF",
        "outputId": "f70d194e-051c-436f-aa9f-a52ee9ac660f"
      },
      "id": "Pqa92DDA-THF",
      "execution_count": 22,
      "outputs": [
        {
          "output_type": "error",
          "ename": "TypeError",
          "evalue": "'int' object is not iterable",
          "traceback": [
            "\u001b[0;31m---------------------------------------------------------------------------\u001b[0m",
            "\u001b[0;31mTypeError\u001b[0m                                 Traceback (most recent call last)",
            "\u001b[0;32m<ipython-input-22-9d98e7ef2af6>\u001b[0m in \u001b[0;36m<cell line: 0>\u001b[0;34m()\u001b[0m\n\u001b[0;32m----> 1\u001b[0;31m \u001b[0miter\u001b[0m\u001b[0;34m(\u001b[0m\u001b[0;36m2\u001b[0m\u001b[0;34m)\u001b[0m\u001b[0;34m\u001b[0m\u001b[0;34m\u001b[0m\u001b[0m\n\u001b[0m",
            "\u001b[0;31mTypeError\u001b[0m: 'int' object is not iterable"
          ]
        }
      ]
    },
    {
      "cell_type": "code",
      "source": [
        "a = 2\n",
        "a\n",
        "\n",
        "# for i in a:\n",
        "#   print(i)\n",
        "\n",
        "dir(a) # since 2 doesnt have an __iter__ func it is not an iterable"
      ],
      "metadata": {
        "colab": {
          "base_uri": "https://localhost:8080/"
        },
        "id": "Yqf1DL6_92ha",
        "outputId": "dc5c7d26-6d07-463f-d26c-6dd89baf34b8"
      },
      "id": "Yqf1DL6_92ha",
      "execution_count": 20,
      "outputs": [
        {
          "output_type": "execute_result",
          "data": {
            "text/plain": [
              "['__abs__',\n",
              " '__add__',\n",
              " '__and__',\n",
              " '__bool__',\n",
              " '__ceil__',\n",
              " '__class__',\n",
              " '__delattr__',\n",
              " '__dir__',\n",
              " '__divmod__',\n",
              " '__doc__',\n",
              " '__eq__',\n",
              " '__float__',\n",
              " '__floor__',\n",
              " '__floordiv__',\n",
              " '__format__',\n",
              " '__ge__',\n",
              " '__getattribute__',\n",
              " '__getnewargs__',\n",
              " '__getstate__',\n",
              " '__gt__',\n",
              " '__hash__',\n",
              " '__index__',\n",
              " '__init__',\n",
              " '__init_subclass__',\n",
              " '__int__',\n",
              " '__invert__',\n",
              " '__le__',\n",
              " '__lshift__',\n",
              " '__lt__',\n",
              " '__mod__',\n",
              " '__mul__',\n",
              " '__ne__',\n",
              " '__neg__',\n",
              " '__new__',\n",
              " '__or__',\n",
              " '__pos__',\n",
              " '__pow__',\n",
              " '__radd__',\n",
              " '__rand__',\n",
              " '__rdivmod__',\n",
              " '__reduce__',\n",
              " '__reduce_ex__',\n",
              " '__repr__',\n",
              " '__rfloordiv__',\n",
              " '__rlshift__',\n",
              " '__rmod__',\n",
              " '__rmul__',\n",
              " '__ror__',\n",
              " '__round__',\n",
              " '__rpow__',\n",
              " '__rrshift__',\n",
              " '__rshift__',\n",
              " '__rsub__',\n",
              " '__rtruediv__',\n",
              " '__rxor__',\n",
              " '__setattr__',\n",
              " '__sizeof__',\n",
              " '__str__',\n",
              " '__sub__',\n",
              " '__subclasshook__',\n",
              " '__truediv__',\n",
              " '__trunc__',\n",
              " '__xor__',\n",
              " 'as_integer_ratio',\n",
              " 'bit_count',\n",
              " 'bit_length',\n",
              " 'conjugate',\n",
              " 'denominator',\n",
              " 'from_bytes',\n",
              " 'imag',\n",
              " 'numerator',\n",
              " 'real',\n",
              " 'to_bytes']"
            ]
          },
          "metadata": {},
          "execution_count": 20
        }
      ]
    },
    {
      "cell_type": "code",
      "source": [
        "T = (1, 2, 3, 4)\n",
        "dir(T) # there is an __iter__ func"
      ],
      "metadata": {
        "colab": {
          "base_uri": "https://localhost:8080/"
        },
        "id": "ZCdugvQ7-JDj",
        "outputId": "c1dfee1e-ee28-4445-a3ca-2b1e333f0ae0"
      },
      "id": "ZCdugvQ7-JDj",
      "execution_count": 25,
      "outputs": [
        {
          "output_type": "execute_result",
          "data": {
            "text/plain": [
              "['__add__',\n",
              " '__class__',\n",
              " '__class_getitem__',\n",
              " '__contains__',\n",
              " '__delattr__',\n",
              " '__dir__',\n",
              " '__doc__',\n",
              " '__eq__',\n",
              " '__format__',\n",
              " '__ge__',\n",
              " '__getattribute__',\n",
              " '__getitem__',\n",
              " '__getnewargs__',\n",
              " '__getstate__',\n",
              " '__gt__',\n",
              " '__hash__',\n",
              " '__init__',\n",
              " '__init_subclass__',\n",
              " '__iter__',\n",
              " '__le__',\n",
              " '__len__',\n",
              " '__lt__',\n",
              " '__mul__',\n",
              " '__ne__',\n",
              " '__new__',\n",
              " '__reduce__',\n",
              " '__reduce_ex__',\n",
              " '__repr__',\n",
              " '__rmul__',\n",
              " '__setattr__',\n",
              " '__sizeof__',\n",
              " '__str__',\n",
              " '__subclasshook__',\n",
              " 'count',\n",
              " 'index']"
            ]
          },
          "metadata": {},
          "execution_count": 25
        }
      ]
    },
    {
      "cell_type": "code",
      "source": [
        "L = [2, 4, 6] # L is an iterable but not an iterator\n",
        "print(dir(L)) # __iter__ but no __next__\n",
        "\n",
        "iter_L = iter(L) # iter_L is an iterator"
      ],
      "metadata": {
        "colab": {
          "base_uri": "https://localhost:8080/"
        },
        "id": "bhe4G31K-iOo",
        "outputId": "99731216-e608-436c-f807-47aa0a1788e2"
      },
      "id": "bhe4G31K-iOo",
      "execution_count": 32,
      "outputs": [
        {
          "output_type": "stream",
          "name": "stdout",
          "text": [
            "['__add__', '__class__', '__class_getitem__', '__contains__', '__delattr__', '__delitem__', '__dir__', '__doc__', '__eq__', '__format__', '__ge__', '__getattribute__', '__getitem__', '__getstate__', '__gt__', '__hash__', '__iadd__', '__imul__', '__init__', '__init_subclass__', '__iter__', '__le__', '__len__', '__lt__', '__mul__', '__ne__', '__new__', '__reduce__', '__reduce_ex__', '__repr__', '__reversed__', '__rmul__', '__setattr__', '__setitem__', '__sizeof__', '__str__', '__subclasshook__', 'append', 'clear', 'copy', 'count', 'extend', 'index', 'insert', 'pop', 'remove', 'reverse', 'sort']\n"
          ]
        }
      ]
    },
    {
      "cell_type": "markdown",
      "id": "5f02c4b7",
      "metadata": {
        "id": "5f02c4b7"
      },
      "source": [
        "## Understanding how for loop works"
      ]
    },
    {
      "cell_type": "code",
      "execution_count": null,
      "id": "8b518b08",
      "metadata": {
        "id": "8b518b08",
        "outputId": "b18010d6-2519-4a2c-faae-d5df25bfea19"
      },
      "outputs": [
        {
          "name": "stdout",
          "output_type": "stream",
          "text": [
            "1\n",
            "2\n",
            "3\n"
          ]
        }
      ],
      "source": [
        "num = [1,2,3]\n",
        "\n",
        "for i in num:\n",
        "    print(i)"
      ]
    },
    {
      "cell_type": "code",
      "source": [
        "num = [4, 5, 6]\n",
        "\n",
        "for i in num:\n",
        "  print(i)"
      ],
      "metadata": {
        "colab": {
          "base_uri": "https://localhost:8080/"
        },
        "id": "TLRsfneH_Lqh",
        "outputId": "c29381cc-8518-426f-9fc1-fb0314aabc22"
      },
      "id": "TLRsfneH_Lqh",
      "execution_count": 33,
      "outputs": [
        {
          "output_type": "stream",
          "name": "stdout",
          "text": [
            "4\n",
            "5\n",
            "6\n"
          ]
        }
      ]
    },
    {
      "cell_type": "code",
      "source": [
        "num = [1,  2, 3]\n",
        "\n",
        "# step1 --> fetch the iterator of the iterable\n",
        "iter_of_num = iter(num)\n",
        "\n",
        "# step --> next\n",
        "print(next(iter_of_num))\n",
        "print(next(iter_of_num))\n",
        "print(next(iter_of_num))\n",
        "print(next(iter_of_num)) # this'll give an error as, num has 3 elements"
      ],
      "metadata": {
        "colab": {
          "base_uri": "https://localhost:8080/",
          "height": 228
        },
        "id": "uwT4gzNT_R98",
        "outputId": "25f3dc67-5cae-48c5-d304-1d864850862d"
      },
      "id": "uwT4gzNT_R98",
      "execution_count": 40,
      "outputs": [
        {
          "output_type": "stream",
          "name": "stdout",
          "text": [
            "1\n",
            "2\n",
            "3\n"
          ]
        },
        {
          "output_type": "error",
          "ename": "StopIteration",
          "evalue": "",
          "traceback": [
            "\u001b[0;31m---------------------------------------------------------------------------\u001b[0m",
            "\u001b[0;31mStopIteration\u001b[0m                             Traceback (most recent call last)",
            "\u001b[0;32m<ipython-input-40-0795e0ed37d8>\u001b[0m in \u001b[0;36m<cell line: 0>\u001b[0;34m()\u001b[0m\n\u001b[1;32m      8\u001b[0m \u001b[0mprint\u001b[0m\u001b[0;34m(\u001b[0m\u001b[0mnext\u001b[0m\u001b[0;34m(\u001b[0m\u001b[0miter_of_num\u001b[0m\u001b[0;34m)\u001b[0m\u001b[0;34m)\u001b[0m\u001b[0;34m\u001b[0m\u001b[0;34m\u001b[0m\u001b[0m\n\u001b[1;32m      9\u001b[0m \u001b[0mprint\u001b[0m\u001b[0;34m(\u001b[0m\u001b[0mnext\u001b[0m\u001b[0;34m(\u001b[0m\u001b[0miter_of_num\u001b[0m\u001b[0;34m)\u001b[0m\u001b[0;34m)\u001b[0m\u001b[0;34m\u001b[0m\u001b[0;34m\u001b[0m\u001b[0m\n\u001b[0;32m---> 10\u001b[0;31m \u001b[0mprint\u001b[0m\u001b[0;34m(\u001b[0m\u001b[0mnext\u001b[0m\u001b[0;34m(\u001b[0m\u001b[0miter_of_num\u001b[0m\u001b[0;34m)\u001b[0m\u001b[0;34m)\u001b[0m \u001b[0;31m# this'll give an error as, num has 3 elements\u001b[0m\u001b[0;34m\u001b[0m\u001b[0;34m\u001b[0m\u001b[0m\n\u001b[0m",
            "\u001b[0;31mStopIteration\u001b[0m: "
          ]
        }
      ]
    },
    {
      "cell_type": "markdown",
      "id": "e35d6e87",
      "metadata": {
        "id": "e35d6e87"
      },
      "source": [
        "## Making our own for loop"
      ]
    },
    {
      "cell_type": "code",
      "source": [
        "def my_own_for_loop(iterable):\n",
        "  # iter obj\n",
        "  iter_obj = iter(iterable)\n",
        "\n",
        "  # using next on iter_obj untill all elements are printed\n",
        "  while True:\n",
        "    try:\n",
        "      print(next(iter_obj))\n",
        "    except StopIteration:\n",
        "      break\n",
        "\n",
        "my_own_for_loop([1, 3, 5, 7, 9, 10, 11])"
      ],
      "metadata": {
        "colab": {
          "base_uri": "https://localhost:8080/"
        },
        "id": "K6Tnn3eCAIFH",
        "outputId": "03376736-b032-4644-f8d6-d76dc442b8c4"
      },
      "id": "K6Tnn3eCAIFH",
      "execution_count": 54,
      "outputs": [
        {
          "output_type": "stream",
          "name": "stdout",
          "text": [
            "1\n",
            "3\n",
            "5\n",
            "7\n",
            "9\n",
            "10\n",
            "11\n"
          ]
        }
      ]
    },
    {
      "cell_type": "code",
      "source": [
        "a = [1, 2, 3]\n",
        "b = (1, 3, 9, 10)\n",
        "c = {0: 1, 2: 3, 3: 4}\n",
        "d = {1, 2, 3, 4}\n",
        "e = range(1, 11)\n",
        "\n",
        "my_own_for_loop(e)"
      ],
      "metadata": {
        "colab": {
          "base_uri": "https://localhost:8080/"
        },
        "id": "FWNIPxAFBDsw",
        "outputId": "f15f868c-66e2-430e-fa64-5087d1e10354"
      },
      "id": "FWNIPxAFBDsw",
      "execution_count": 55,
      "outputs": [
        {
          "output_type": "stream",
          "name": "stdout",
          "text": [
            "1\n",
            "2\n",
            "3\n",
            "4\n",
            "5\n",
            "6\n",
            "7\n",
            "8\n",
            "9\n",
            "10\n"
          ]
        }
      ]
    },
    {
      "cell_type": "code",
      "source": [
        "dir(range(1, 10)) # range is not an iterator"
      ],
      "metadata": {
        "colab": {
          "base_uri": "https://localhost:8080/"
        },
        "id": "IoG2Ks96Bia1",
        "outputId": "17cd1ce6-32b0-4e6e-8d7e-e108fe073fba"
      },
      "id": "IoG2Ks96Bia1",
      "execution_count": 52,
      "outputs": [
        {
          "output_type": "execute_result",
          "data": {
            "text/plain": [
              "['__bool__',\n",
              " '__class__',\n",
              " '__contains__',\n",
              " '__delattr__',\n",
              " '__dir__',\n",
              " '__doc__',\n",
              " '__eq__',\n",
              " '__format__',\n",
              " '__ge__',\n",
              " '__getattribute__',\n",
              " '__getitem__',\n",
              " '__getstate__',\n",
              " '__gt__',\n",
              " '__hash__',\n",
              " '__init__',\n",
              " '__init_subclass__',\n",
              " '__iter__',\n",
              " '__le__',\n",
              " '__len__',\n",
              " '__lt__',\n",
              " '__ne__',\n",
              " '__new__',\n",
              " '__reduce__',\n",
              " '__reduce_ex__',\n",
              " '__repr__',\n",
              " '__reversed__',\n",
              " '__setattr__',\n",
              " '__sizeof__',\n",
              " '__str__',\n",
              " '__subclasshook__',\n",
              " 'count',\n",
              " 'index',\n",
              " 'start',\n",
              " 'step',\n",
              " 'stop']"
            ]
          },
          "metadata": {},
          "execution_count": 52
        }
      ]
    },
    {
      "cell_type": "markdown",
      "id": "81a3e616",
      "metadata": {
        "id": "81a3e616"
      },
      "source": [
        "## A confusing point"
      ]
    },
    {
      "cell_type": "code",
      "source": [
        "num = [1, 2, 3, 4]\n",
        "iter_obj = iter(num)\n",
        "\n",
        "print(id(iter_obj),'Address of iterator 1')\n",
        "\n",
        "iter_obj2 = iter(iter_obj)\n",
        "print(id(iter_obj2),'Address of iterator 2')"
      ],
      "metadata": {
        "colab": {
          "base_uri": "https://localhost:8080/"
        },
        "id": "k5ChQf_iBzDg",
        "outputId": "479d2c97-73a4-454a-fcb2-548b5db1d0b0"
      },
      "id": "k5ChQf_iBzDg",
      "execution_count": 57,
      "outputs": [
        {
          "output_type": "stream",
          "name": "stdout",
          "text": [
            "133803084444336 Address of iterator 1\n",
            "133803084444336 Address of iterator 2\n"
          ]
        }
      ]
    },
    {
      "cell_type": "markdown",
      "id": "051af6bc",
      "metadata": {
        "id": "051af6bc"
      },
      "source": [
        "## Let's create our own `range` class"
      ]
    },
    {
      "cell_type": "code",
      "source": [
        "class my_range:\n",
        "\n",
        "  def __init__(self, start, stop):\n",
        "    self.start = start\n",
        "    self.stop = stop\n",
        "\n",
        "  def __iter__(self):\n",
        "    return my_range_iterator(self)\n",
        "\n",
        "\n",
        "class my_range_iterator:\n",
        "\n",
        "  def __init__(self, iterable_obj):\n",
        "    self.iterable = iterable_obj\n",
        "\n",
        "  def __iter__(self):\n",
        "    return self\n",
        "\n",
        "  def __next__(self):\n",
        "    if self.iterable.start >= self.iterable.stop:\n",
        "      raise StopIteration\n",
        "    current = self.iterable.start\n",
        "    self.iterable.start += 1\n",
        "    return current\n",
        "\n"
      ],
      "metadata": {
        "id": "iHx1MOZFCIPI"
      },
      "id": "iHx1MOZFCIPI",
      "execution_count": 76,
      "outputs": []
    },
    {
      "cell_type": "code",
      "source": [
        "a = my_range(1, 11)"
      ],
      "metadata": {
        "id": "LD225XjwHgV3"
      },
      "id": "LD225XjwHgV3",
      "execution_count": 77,
      "outputs": []
    },
    {
      "cell_type": "code",
      "source": [
        "type(a)"
      ],
      "metadata": {
        "colab": {
          "base_uri": "https://localhost:8080/",
          "height": 103
        },
        "id": "0-n806lGH6vg",
        "outputId": "db7dcac3-0e76-4bbc-d34b-f6b7edddb2a1"
      },
      "id": "0-n806lGH6vg",
      "execution_count": 78,
      "outputs": [
        {
          "output_type": "execute_result",
          "data": {
            "text/plain": [
              "__main__.my_range"
            ],
            "text/html": [
              "<div style=\"max-width:800px; border: 1px solid var(--colab-border-color);\"><style>\n",
              "      pre.function-repr-contents {\n",
              "        overflow-x: auto;\n",
              "        padding: 8px 12px;\n",
              "        max-height: 500px;\n",
              "      }\n",
              "\n",
              "      pre.function-repr-contents.function-repr-contents-collapsed {\n",
              "        cursor: pointer;\n",
              "        max-height: 100px;\n",
              "      }\n",
              "    </style>\n",
              "    <pre style=\"white-space: initial; background:\n",
              "         var(--colab-secondary-surface-color); padding: 8px 12px;\n",
              "         border-bottom: 1px solid var(--colab-border-color);\"><b>my_range</b><br/>def __init__(start, stop)</pre><pre class=\"function-repr-contents function-repr-contents-collapsed\" style=\"\"><a class=\"filepath\" style=\"display:none\" href=\"#\"></a>&lt;no docstring&gt;</pre></div>"
            ]
          },
          "metadata": {},
          "execution_count": 78
        }
      ]
    },
    {
      "cell_type": "code",
      "source": [
        "iter(a)"
      ],
      "metadata": {
        "colab": {
          "base_uri": "https://localhost:8080/"
        },
        "id": "Lh21YCjwICS2",
        "outputId": "6dde9263-96ff-44d2-88dc-16449bc4985c"
      },
      "id": "Lh21YCjwICS2",
      "execution_count": 79,
      "outputs": [
        {
          "output_type": "execute_result",
          "data": {
            "text/plain": [
              "<__main__.my_range_iterator at 0x79b1751e3b90>"
            ]
          },
          "metadata": {},
          "execution_count": 79
        }
      ]
    },
    {
      "cell_type": "code",
      "source": [
        "for i in a:\n",
        "  print(i)"
      ],
      "metadata": {
        "colab": {
          "base_uri": "https://localhost:8080/"
        },
        "id": "9pSr8U_hCILp",
        "outputId": "07fde768-e3d9-453a-d184-4ed0c8fa1a9e"
      },
      "id": "9pSr8U_hCILp",
      "execution_count": 80,
      "outputs": [
        {
          "output_type": "stream",
          "name": "stdout",
          "text": [
            "1\n",
            "2\n",
            "3\n",
            "4\n",
            "5\n",
            "6\n",
            "7\n",
            "8\n",
            "9\n",
            "10\n"
          ]
        }
      ]
    }
  ],
  "metadata": {
    "kernelspec": {
      "display_name": "Python 3",
      "language": "python",
      "name": "python3"
    },
    "language_info": {
      "codemirror_mode": {
        "name": "ipython",
        "version": 3
      },
      "file_extension": ".py",
      "mimetype": "text/x-python",
      "name": "python",
      "nbconvert_exporter": "python",
      "pygments_lexer": "ipython3",
      "version": "3.8.8"
    },
    "colab": {
      "provenance": []
    }
  },
  "nbformat": 4,
  "nbformat_minor": 5
}