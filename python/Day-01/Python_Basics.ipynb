{
  "nbformat": 4,
  "nbformat_minor": 0,
  "metadata": {
    "colab": {
      "provenance": []
    },
    "kernelspec": {
      "name": "python3",
      "display_name": "Python 3"
    },
    "language_info": {
      "name": "python"
    }
  },
  "cells": [
    {
      "cell_type": "markdown",
      "source": [
        "### Q2:- Write a program that will convert celsius value to fahrenheit."
      ],
      "metadata": {
        "id": "1KUpN7ZTrC3_"
      }
    },
    {
      "cell_type": "code",
      "source": [
        "# Write your code here\n",
        "def cel_to_fah(cel):\n",
        "  return (cel*9/5)+32\n",
        "\n",
        "cel_to_fah(37)"
      ],
      "metadata": {
        "id": "yxKYhYQiqWfj",
        "colab": {
          "base_uri": "https://localhost:8080/"
        },
        "outputId": "1a39e517-93d7-47fc-ff67-d6abd0f48ed0"
      },
      "execution_count": null,
      "outputs": [
        {
          "output_type": "execute_result",
          "data": {
            "text/plain": [
              "98.6"
            ]
          },
          "metadata": {},
          "execution_count": 5
        }
      ]
    },
    {
      "cell_type": "markdown",
      "source": [
        "### Q3:- Take 2 numbers as input from the user.Write a program to swap the numbers without using any special python syntax."
      ],
      "metadata": {
        "id": "RLrOBBJurLB2"
      }
    },
    {
      "cell_type": "code",
      "source": [
        "# Write your code here\n",
        "n1, n2 = int(input('Enter one number')), int(input('Enter another number'))\n",
        "temp = n1\n",
        "n1=n2\n",
        "n2 = temp\n",
        "print(n1, n2)"
      ],
      "metadata": {
        "id": "yPn7if0TrJ4F",
        "colab": {
          "base_uri": "https://localhost:8080/"
        },
        "outputId": "89f9cb75-cda9-434e-f20d-6de2cee55539"
      },
      "execution_count": null,
      "outputs": [
        {
          "output_type": "stream",
          "name": "stdout",
          "text": [
            "Enter one number23\n",
            "Enter another number45\n",
            "45 23\n"
          ]
        }
      ]
    },
    {
      "cell_type": "markdown",
      "source": [
        "### Q4:- Write a program to find the euclidean distance between two coordinates.Take both the coordinates from the user as input."
      ],
      "metadata": {
        "id": "waLCP1bjr7ML"
      }
    },
    {
      "cell_type": "code",
      "source": [
        "# Write your code here\n",
        "import math\n",
        "x1, y1 = map(lambda x: int(x), input('Enter a coordinate').split(', '))\n",
        "x2, y2 = map(lambda x: int(x), input('Enter another coordinate').split(', '))\n",
        "euc_dist = math.sqrt(((x2-x1)**2 + (y2-y1)**2))\n",
        "print(euc_dist)"
      ],
      "metadata": {
        "id": "Pl1Sv-xnrxnH",
        "colab": {
          "base_uri": "https://localhost:8080/"
        },
        "outputId": "11c49b71-0635-46e6-b10e-6c0370dde554"
      },
      "execution_count": null,
      "outputs": [
        {
          "output_type": "stream",
          "name": "stdout",
          "text": [
            "Enter a coordinate0, 0\n",
            "Enter another coordinate0, 1\n",
            "1.0\n"
          ]
        }
      ]
    },
    {
      "cell_type": "markdown",
      "source": [
        "### Q5:- Write a program to find the simple interest when the value of principle,rate of interest and time period is provided by the user.\n"
      ],
      "metadata": {
        "id": "VLrhg-FRsHjR"
      }
    },
    {
      "cell_type": "code",
      "source": [
        "# Write your code here\n",
        "prin= int(input('Enter the principle: '))\n",
        "rate= int(input('Enter the rate: '))\n",
        "time= int(input('Enter the time: '))\n",
        "\n",
        "def clac_si(p, r, t):\n",
        "  return (p*t*r)/100\n",
        "\n",
        "clac_si(prin, rate, time)"
      ],
      "metadata": {
        "id": "s40DlReZsTmY",
        "colab": {
          "base_uri": "https://localhost:8080/"
        },
        "outputId": "b378dc0b-ba7a-4512-a5bf-76915324e13d"
      },
      "execution_count": null,
      "outputs": [
        {
          "name": "stdout",
          "output_type": "stream",
          "text": [
            "Enter the principle: 2000\n",
            "Enter the rate: 5\n",
            "Enter the time: 2\n"
          ]
        },
        {
          "output_type": "execute_result",
          "data": {
            "text/plain": [
              "200.0"
            ]
          },
          "metadata": {},
          "execution_count": 19
        }
      ]
    },
    {
      "cell_type": "markdown",
      "source": [
        "Q6:- Write a program that will tell the number of dogs and chicken are there when the user will provide the value of total heads and legs.\n",
        "\n",
        "For example:\n",
        "Input:\n",
        "heads -> 4\n",
        "legs -> 12\n",
        "<br>\n",
        "Output:\n",
        "dogs -> 2\n",
        "chicken -> 2\n",
        "\n",
        "\n",
        "\n"
      ],
      "metadata": {
        "id": "LMy0BTUktYKa"
      }
    },
    {
      "cell_type": "code",
      "source": [
        "heads = int(input('Enter total heads: '))\n",
        "legs = int(input('Enter total legs: '))\n",
        "\n",
        "def no_dc(heads, legs):\n",
        "  ndog = (legs//2) - heads\n",
        "  nchick = heads - ndog\n",
        "  print(f'{ndog}-dogs and {nchick}-chickens')\n",
        "\n",
        "while not (heads >=1 and ((legs%2 == 0) and (legs >= 2* heads) and (legs<=4*heads))):\n",
        "  print('Invalid number of heads and legs')\n",
        "  heads = int(input('Enter total heads: '))\n",
        "  legs = int(input('Enter total legs: '))\n",
        "\n",
        "no_dc(heads, legs)\n",
        "\n",
        "\n",
        "\n",
        "\n"
      ],
      "metadata": {
        "id": "XSBvJoA4tXaG",
        "colab": {
          "base_uri": "https://localhost:8080/"
        },
        "outputId": "169ab2a2-bd05-4082-f831-0f6122d8ef7d"
      },
      "execution_count": null,
      "outputs": [
        {
          "output_type": "stream",
          "name": "stdout",
          "text": [
            "Enter total heads: 4\n",
            "Enter total legs: 2\n",
            "Invalid number of heads and legs\n",
            "Enter total heads: 4\n",
            "Enter total legs: 12\n",
            "2-dogs and 2-chickens\n"
          ]
        }
      ]
    },
    {
      "cell_type": "code",
      "source": [
        "1# soln2\n",
        "\n",
        "def num_dogs_ch(heads, legs):\n",
        "  if heads<0 or legs%2!=0 or legs<2*heads or legs>4*heads:\n",
        "    print('Invalid number of heads or legs')\n",
        "  else:\n",
        "    ndogs = (legs//2) - heads\n",
        "    nchicks = heads-ndogs\n",
        "    print(f\"There are {ndogs}-dogs and {nchicks}-chickens.\")\n",
        "\n",
        "heads = int(input('Enter the total number of heads: '))\n",
        "legs = int(input('Enter the total number of legs: '))\n",
        "\n",
        "num_dogs_ch(heads, legs)"
      ],
      "metadata": {
        "colab": {
          "base_uri": "https://localhost:8080/"
        },
        "id": "TzIYpnZiWYwR",
        "outputId": "5f38c228-4d59-4f27-8358-bb83a1c2c6e1"
      },
      "execution_count": null,
      "outputs": [
        {
          "output_type": "stream",
          "name": "stdout",
          "text": [
            "Enter the total number of heads: 4\n",
            "Enter the total number of legs: 12\n",
            "There are 2-dogs and 2-chickens\n"
          ]
        }
      ]
    },
    {
      "cell_type": "markdown",
      "source": [
        "### Q7:- Write a program to find the sum of squares of first n natural numbers where n will be provided by the user."
      ],
      "metadata": {
        "id": "gJ7C5kZYt4BP"
      }
    },
    {
      "cell_type": "code",
      "source": [
        "# Write your code here\n",
        "n = int(input('Enter a number: '))\n",
        "\n",
        "def sum_squares_nnums(n):\n",
        "  sum = 0\n",
        "  i = 1\n",
        "  if n<=0:\n",
        "    return -1\n",
        "  while i <=n:\n",
        "    sum += i**2\n",
        "    i += 1\n",
        "  return sum\n",
        "\n",
        "sum_squares_nnums(5)\n"
      ],
      "metadata": {
        "id": "_tHsmEHzt2nX",
        "colab": {
          "base_uri": "https://localhost:8080/"
        },
        "outputId": "49b19580-bec0-4514-f368-5095e0014a0f"
      },
      "execution_count": null,
      "outputs": [
        {
          "name": "stdout",
          "output_type": "stream",
          "text": [
            "Enter a number: 5\n"
          ]
        },
        {
          "output_type": "execute_result",
          "data": {
            "text/plain": [
              "55"
            ]
          },
          "metadata": {},
          "execution_count": 32
        }
      ]
    },
    {
      "cell_type": "markdown",
      "source": [
        "### Q8:- Given the first 2 terms of an Arithmetic Series.Find the Nth term of the series. Assume all inputs are provided by the user."
      ],
      "metadata": {
        "id": "FHrMM7g-yG1h"
      }
    },
    {
      "cell_type": "code",
      "source": [
        "# Write your code here\n",
        "n1, n2 = input('Enter the first two terms of an arithmetic series: ').strip().split(', ')\n",
        "n = int(input('Enter the value of n for nth term: '))\n",
        "n1, n2 = int(n1), int(n2)\n",
        "\n",
        "print(f\"The {n}th term of the series is {n1+((n-1)*(n2-n1))}\")\n"
      ],
      "metadata": {
        "id": "go4_kmZmyVSx",
        "colab": {
          "base_uri": "https://localhost:8080/"
        },
        "outputId": "c1f5d12b-84c1-43de-9e3d-45b94264400b"
      },
      "execution_count": null,
      "outputs": [
        {
          "output_type": "stream",
          "name": "stdout",
          "text": [
            "Enter the first two terms of an arithmetic series:     23, 25\n",
            "Enter the value of n for nth term: 3\n",
            "The 3th term of the series is 27\n"
          ]
        }
      ]
    },
    {
      "cell_type": "markdown",
      "source": [
        "### Q9:- Given 2 fractions, find the sum of those 2 fractions.Take the numerator and denominator values of the fractions from the user."
      ],
      "metadata": {
        "id": "QgyRX_es1oum"
      }
    },
    {
      "cell_type": "code",
      "source": [
        "# Write your code here\n",
        "num1, deno1 = input('Enter the value of numerator and denominator of the first fraction: ').split(', ')\n",
        "num2, deno2 = input('Enter the value of numerator and denominator of the second fraction: ').split(', ')\n",
        "\n",
        "num1, deno1 = int(num1), int(deno1)\n",
        "num2, deno2 = int(num2), int(deno2)\n",
        "\n",
        "def sum_fracs(n1, d1, n2, d2):\n",
        "  dino = find_lcm(d1, d2)\n",
        "  return (((n1*dino/d1) + n2*(dino/d2))/dino)\n",
        "\n",
        "sum_fracs(num1, deno1, num2, deno2)\n",
        "\n",
        "\n",
        "\n"
      ],
      "metadata": {
        "id": "X05xqFS1yW16",
        "colab": {
          "base_uri": "https://localhost:8080/"
        },
        "outputId": "e39659be-d17f-4175-90e3-7d63840a8fc6"
      },
      "execution_count": null,
      "outputs": [
        {
          "name": "stdout",
          "output_type": "stream",
          "text": [
            "Enter the value of numerator and denominator of the first fraction: 5, 2\n",
            "Enter the value of numerator and denominator of the second fraction: 2, 3\n"
          ]
        },
        {
          "output_type": "execute_result",
          "data": {
            "text/plain": [
              "3.1666666666666665"
            ]
          },
          "metadata": {},
          "execution_count": 45
        }
      ]
    },
    {
      "cell_type": "code",
      "source": [
        "def find_lcm(num1, num2):\n",
        "  n1, n2 = min(num1, num2), max(num1, num2)\n",
        "  temp = n1\n",
        "  while True:\n",
        "    if n1%n2 == 0:\n",
        "      return n1\n",
        "    n1+=temp\n",
        "\n",
        "find_lcm(12, 60)\n"
      ],
      "metadata": {
        "colab": {
          "base_uri": "https://localhost:8080/"
        },
        "id": "iRLjX2UHeJxQ",
        "outputId": "3316d0e6-2912-49dc-95ee-470208c6f600"
      },
      "execution_count": null,
      "outputs": [
        {
          "output_type": "execute_result",
          "data": {
            "text/plain": [
              "60"
            ]
          },
          "metadata": {},
          "execution_count": 41
        }
      ]
    },
    {
      "cell_type": "markdown",
      "source": [
        "### Q10:- Given the height, width and breadth of a milk tank, you have to find out how many glasses of milk can be obtained? Assume all the inputs are provided by the user.\n",
        "\n",
        "\n",
        "\n",
        "Input:<br>\n",
        "Dimensions of the milk tank<br>\n",
        "H = 20cm, L = 20cm, B = 20cm\n",
        "<br><br>\n",
        "Dimensions of the glass<br>\n",
        "h = 3cm, r = 1cm"
      ],
      "metadata": {
        "id": "eaql38ln13u7"
      }
    },
    {
      "cell_type": "code",
      "source": [
        "# Write your code here\n",
        "th, tl, tb = input('Enter the dimensions of the milk tank: ').split(', ')\n",
        "gh, gr = input('Enter the dimensions of the milk glass: ').split(', ')\n",
        "pi = 22/7\n",
        "\n",
        "th, tl, tb = int(th), int(tl), int(tb)\n",
        "gh, gr = int(gh), int(gr)\n",
        "\n",
        "print((th*tl*tb)/(pi * gr**2 * gh))"
      ],
      "metadata": {
        "id": "FePZqno74eWv",
        "colab": {
          "base_uri": "https://localhost:8080/"
        },
        "outputId": "1a19b9c5-df0b-4cdb-dacd-aee736b511fe"
      },
      "execution_count": null,
      "outputs": [
        {
          "output_type": "stream",
          "name": "stdout",
          "text": [
            "Enter the dimensions of the milk tank: 20, 20, 20\n",
            "Enter the dimensions of the milk glass: 3, 1\n",
            "848.4848484848485\n"
          ]
        }
      ]
    },
    {
      "cell_type": "code",
      "source": [],
      "metadata": {
        "id": "U5JdnKXLi7Xm"
      },
      "execution_count": null,
      "outputs": []
    }
  ]
}