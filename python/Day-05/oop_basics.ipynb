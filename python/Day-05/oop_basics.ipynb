{
  "nbformat": 4,
  "nbformat_minor": 0,
  "metadata": {
    "colab": {
      "provenance": []
    },
    "kernelspec": {
      "name": "python3",
      "display_name": "Python 3"
    },
    "language_info": {
      "name": "python"
    }
  },
  "cells": [
    {
      "cell_type": "code",
      "execution_count": null,
      "metadata": {
        "id": "zmgzHbl1jlmV"
      },
      "outputs": [],
      "source": [
        "class User:\n",
        "  def __init__(self, name, account_number, balance):\n",
        "    self.name = name\n",
        "    self.account_number = account_number\n",
        "    self.balance = balance\n",
        "    self.pin = None\n",
        "\n",
        "\n",
        "class AtmMachine(User):\n",
        "  def __init__(self, name, account_number, money=15000) -> None:\n",
        "    super().__init__(name, account_number, money)\n",
        "\n",
        "  def __str__(self):\n",
        "    return self.name\n",
        "  def set_pin(self):\n",
        "    run = True\n",
        "    while run:\n",
        "      try:\n",
        "        self.pin = int(input('Enter a new pin(4 digits): ').strip())\n",
        "      except Exception as e:\n",
        "        print('Invalid pin. Please try again')\n",
        "      else:\n",
        "        if len(str(self.pin)) == 4:\n",
        "          run = False\n",
        "        else:\n",
        "          print('Enter a 4 digit number')\n",
        "    print('Your pin has been successfully set.')\n",
        "\n",
        "  def validate_pin(self):\n",
        "    stop = False\n",
        "    count = 0\n",
        "    while not stop:\n",
        "      try:\n",
        "        if count > 2:\n",
        "          return False\n",
        "        count += 1\n",
        "        pin = int(input('Enter your pin'))\n",
        "\n",
        "      except Exception as e:\n",
        "        print('Pin you entered was not numeric. Enter again')\n",
        "      else:\n",
        "        if pin == self.pin:\n",
        "          return True\n",
        "        print('Your pin was incorrect. Enter again.')\n",
        "\n",
        "  def withdraw_money(self, with_amount):\n",
        "    if not self.pin:\n",
        "      print('You haven\\'t set up a pin. Create a new pin.')\n",
        "      self.set_pin()\n",
        "\n",
        "    if self.validate_pin():\n",
        "      self.balance -= with_amount\n",
        "      self.get_receipt(with_amount)\n",
        "    else:\n",
        "      print('You\\'r account is temporarily suspended incorrect pins more than 3 times.\\nTry again later.')\n",
        "\n",
        "  def get_receipt(self, amount):\n",
        "    print(f'The amount withdrawn is {amount}')\n",
        "    print(f\"Amount left in your account ({self.account_number}), is {self.balance}\")\n",
        "    print(f\"Thanks for using the atm\")\n",
        "\n"
      ]
    },
    {
      "cell_type": "code",
      "source": [
        "user = AtmMachine(\n",
        "    **{'name':'aayush', 'account_number': 718895900, 'money': 50000}\n",
        "    )\n"
      ],
      "metadata": {
        "colab": {
          "base_uri": "https://localhost:8080/"
        },
        "id": "ytT-Mc-l0Jiw",
        "outputId": "509807c3-3d5b-48b4-80d0-b2e788e37742"
      },
      "execution_count": null,
      "outputs": [
        {
          "output_type": "stream",
          "name": "stdout",
          "text": [
            "<__main__.AtmMachine object at 0x7b0ccc7deb00>\n"
          ]
        }
      ]
    },
    {
      "cell_type": "code",
      "source": [
        "user2 = AtmMachine(\n",
        "    **{'name':'harry', 'account_number': 813475905, 'money': 100000}\n",
        "    )\n"
      ],
      "metadata": {
        "colab": {
          "base_uri": "https://localhost:8080/"
        },
        "id": "Iy-uu3MG0g9w",
        "outputId": "e67fa28e-bab5-4252-f650-956a081653d1"
      },
      "execution_count": null,
      "outputs": [
        {
          "output_type": "stream",
          "name": "stdout",
          "text": [
            "<__main__.AtmMachine object at 0x7b0ccc7dc0d0>\n"
          ]
        }
      ]
    },
    {
      "cell_type": "code",
      "source": [
        "user.name"
      ],
      "metadata": {
        "colab": {
          "base_uri": "https://localhost:8080/",
          "height": 36
        },
        "id": "idhnFIUHwcuz",
        "outputId": "e92bad39-827e-4aed-a2dd-7232662eb8d7"
      },
      "execution_count": null,
      "outputs": [
        {
          "output_type": "execute_result",
          "data": {
            "text/plain": [
              "'aayush'"
            ],
            "application/vnd.google.colaboratory.intrinsic+json": {
              "type": "string"
            }
          },
          "metadata": {},
          "execution_count": 98
        }
      ]
    },
    {
      "cell_type": "code",
      "source": [
        "user.balance"
      ],
      "metadata": {
        "colab": {
          "base_uri": "https://localhost:8080/"
        },
        "id": "c1S3AAO5wcsO",
        "outputId": "d903650e-1521-4f44-a11d-863e0b05c867"
      },
      "execution_count": null,
      "outputs": [
        {
          "output_type": "execute_result",
          "data": {
            "text/plain": [
              "50000"
            ]
          },
          "metadata": {},
          "execution_count": 99
        }
      ]
    },
    {
      "cell_type": "code",
      "source": [
        "user.account_number"
      ],
      "metadata": {
        "colab": {
          "base_uri": "https://localhost:8080/"
        },
        "id": "5BU3OP99nS8C",
        "outputId": "12233808-3bde-4ec9-d655-32b7f4f960f1"
      },
      "execution_count": null,
      "outputs": [
        {
          "output_type": "execute_result",
          "data": {
            "text/plain": [
              "718895900"
            ]
          },
          "metadata": {},
          "execution_count": 100
        }
      ]
    },
    {
      "cell_type": "code",
      "source": [
        "user.withdraw_money(with_amount=23000)"
      ],
      "metadata": {
        "colab": {
          "base_uri": "https://localhost:8080/"
        },
        "id": "5hBEZcwhnZ00",
        "outputId": "2805ac19-d8f7-4977-e523-f3e59c092375"
      },
      "execution_count": null,
      "outputs": [
        {
          "output_type": "stream",
          "name": "stdout",
          "text": [
            "Enter your pin4567\n",
            "The amount withdrawn is 23000\n",
            "Amount left in your account (718895900), is 27000\n",
            "Thanks for using the atm\n"
          ]
        }
      ]
    },
    {
      "cell_type": "code",
      "source": [
        " user.pin"
      ],
      "metadata": {
        "colab": {
          "base_uri": "https://localhost:8080/"
        },
        "id": "0rgBPy7Qz-Os",
        "outputId": "2cf844a2-1695-426e-877f-390312af6ad7"
      },
      "execution_count": null,
      "outputs": [
        {
          "output_type": "execute_result",
          "data": {
            "text/plain": [
              "4567"
            ]
          },
          "metadata": {},
          "execution_count": 89
        }
      ]
    },
    {
      "cell_type": "code",
      "source": [
        "user.balance"
      ],
      "metadata": {
        "colab": {
          "base_uri": "https://localhost:8080/"
        },
        "id": "SSjwur980AP5",
        "outputId": "9b325892-6436-4d99-b76d-d243a60e76b5"
      },
      "execution_count": null,
      "outputs": [
        {
          "output_type": "execute_result",
          "data": {
            "text/plain": [
              "27000"
            ]
          },
          "metadata": {},
          "execution_count": 90
        }
      ]
    },
    {
      "cell_type": "code",
      "source": [
        "user2.name"
      ],
      "metadata": {
        "colab": {
          "base_uri": "https://localhost:8080/",
          "height": 36
        },
        "id": "5hfmBnPB0vZL",
        "outputId": "bd4d3003-c952-4285-c320-214d0d9705ff"
      },
      "execution_count": null,
      "outputs": [
        {
          "output_type": "execute_result",
          "data": {
            "text/plain": [
              "'harry'"
            ],
            "application/vnd.google.colaboratory.intrinsic+json": {
              "type": "string"
            }
          },
          "metadata": {},
          "execution_count": 91
        }
      ]
    },
    {
      "cell_type": "code",
      "source": [
        "user2.set_pin()"
      ],
      "metadata": {
        "colab": {
          "base_uri": "https://localhost:8080/"
        },
        "id": "dicvvO7v0xt7",
        "outputId": "9745eb7a-0e5a-4832-bbda-adec27f8726f"
      },
      "execution_count": null,
      "outputs": [
        {
          "output_type": "stream",
          "name": "stdout",
          "text": [
            "Enter a new pin(4 digits): 5678\n",
            "Your pin has been successfully set.\n"
          ]
        }
      ]
    },
    {
      "cell_type": "code",
      "source": [
        "user2.withdraw_money(10000)"
      ],
      "metadata": {
        "colab": {
          "base_uri": "https://localhost:8080/"
        },
        "id": "-chWlI0P1ITs",
        "outputId": "1c1c0255-6ae5-427f-9ca5-7040b0889367"
      },
      "execution_count": null,
      "outputs": [
        {
          "output_type": "stream",
          "name": "stdout",
          "text": [
            "Enter your pin5678\n",
            "The amount withdrawn is 10000\n",
            "Amount left in your account (813475905), is 90000\n",
            "Thanks for using the atm\n"
          ]
        }
      ]
    },
    {
      "cell_type": "code",
      "source": [
        "user2.balance"
      ],
      "metadata": {
        "colab": {
          "base_uri": "https://localhost:8080/"
        },
        "id": "xgnnbTwL1WAV",
        "outputId": "587f2b9f-302b-4ffb-8817-703a67be1e91"
      },
      "execution_count": null,
      "outputs": [
        {
          "output_type": "execute_result",
          "data": {
            "text/plain": [
              "90000"
            ]
          },
          "metadata": {},
          "execution_count": 94
        }
      ]
    },
    {
      "cell_type": "code",
      "source": [
        "class Atm:\n",
        "  #constructor\n",
        "  def __init__(self):\n",
        "    self.pin = ''\n",
        "    self.balance = 0\n",
        "    self.menu()\n",
        "\n",
        "  def menu(self):\n",
        "    user_input = int(input(\"\"\"\n",
        "    Hi, how can I help you?\n",
        "    1. Press 1 to create pin\n",
        "    2. Press 2 to change pin\n",
        "    3. Press 3 to check balance\n",
        "    4. Press 4 to withdraw\n",
        "    5. Anything else to exit\n",
        "    \"\"\"))\n",
        "\n",
        "    if user_input == 1:\n",
        "      self.create_pin()\n",
        "\n",
        "    elif user_input == 2:\n",
        "      self.change_pin()\n",
        "\n",
        "    elif user_input == 3:\n",
        "      self.check_balance()\n",
        "\n",
        "    elif user_input == 4:\n",
        "      self.withdraw()\n",
        "\n",
        "  def create_pin(self):\n",
        "    user_pin = self.intake()\n",
        "    balance = self.intake(inp='balance')\n",
        "    self.pin = user_pin\n",
        "    self.balance = balance\n",
        "    print('Pin creation successfull.')\n",
        "    self.menu()\n",
        "\n",
        "  def intake(self, inp='pin'):\n",
        "    print(self.pin)\n",
        "    return int(input(f'Enter your {inp}: '))\n",
        "\n",
        "  def check_balance(self):\n",
        "    if self.intake() == self.pin:\n",
        "      print(f'Tero current paisa: {self.balance}')\n",
        "    else:\n",
        "      print('chor sala')\n",
        "    self.menu()\n",
        "\n",
        "  def change_pin(self):\n",
        "    exist_pin = self.intake()\n",
        "    if exist_pin == self.pin:\n",
        "      new_pin = self.intake()\n",
        "      self.pin = new_pin\n",
        "      print('Pin change successfull.')\n",
        "    else:\n",
        "      print('galat pin haalis mula.')\n",
        "    self.menu()\n",
        "\n",
        "  def withdraw(self):\n",
        "    if self.intake() == self.pin:\n",
        "      amount = int(input('Enter amount to withdraw'))\n",
        "      if amount <= self.balance:\n",
        "        self.balance -= amount\n",
        "        print(f'You have withdrawn Rs{amount}. Your balance is {self.balance}')\n",
        "      else:\n",
        "        print('Not enough balance')\n",
        "    else:\n",
        "      print('Wrong pin entered')\n",
        "    self.menu()"
      ],
      "metadata": {
        "id": "EjyzvxMs1i8F"
      },
      "execution_count": null,
      "outputs": []
    },
    {
      "cell_type": "code",
      "source": [
        "obj = Atm()"
      ],
      "metadata": {
        "colab": {
          "base_uri": "https://localhost:8080/"
        },
        "id": "fWtNwhfUjVL2",
        "outputId": "15dd6687-c363-4240-a94a-31cb87b0b626"
      },
      "execution_count": null,
      "outputs": [
        {
          "name": "stdout",
          "output_type": "stream",
          "text": [
            "\n",
            "    Hi, how can I help you?\n",
            "    1. Press 1 to create pin\n",
            "    2. Press 2 to change pin\n",
            "    3. Press 3 to check balance\n",
            "    4. Press 4 to withdraw\n",
            "    5. Anything else to exit\n",
            "    1\n",
            "\n",
            "Enter your pin: 1234\n",
            "\n",
            "Enter your balance: 5222\n",
            "Pin creation successfull.\n",
            "\n",
            "    Hi, how can I help you?\n",
            "    1. Press 1 to create pin\n",
            "    2. Press 2 to change pin\n",
            "    3. Press 3 to check balance\n",
            "    4. Press 4 to withdraw\n",
            "    5. Anything else to exit\n",
            "    4\n",
            "1234\n",
            "Enter your pin: 1234\n",
            "Enter amount to withdraw5000\n",
            "You have withdrawn Rs5000. Your balance is 222\n",
            "\n",
            "    Hi, how can I help you?\n",
            "    1. Press 1 to create pin\n",
            "    2. Press 2 to change pin\n",
            "    3. Press 3 to check balance\n",
            "    4. Press 4 to withdraw\n",
            "    5. Anything else to exit\n",
            "    6\n"
          ]
        }
      ]
    },
    {
      "cell_type": "code",
      "source": [
        "obj.pin"
      ],
      "metadata": {
        "colab": {
          "base_uri": "https://localhost:8080/",
          "height": 36
        },
        "id": "8AOF9cumofyL",
        "outputId": "3ac58ca7-c13f-416b-9c1f-b4862edb9343"
      },
      "execution_count": null,
      "outputs": [
        {
          "output_type": "execute_result",
          "data": {
            "text/plain": [
              "'1234'"
            ],
            "application/vnd.google.colaboratory.intrinsic+json": {
              "type": "string"
            }
          },
          "metadata": {},
          "execution_count": 26
        }
      ]
    },
    {
      "cell_type": "code",
      "source": [
        "obj.change_pin()"
      ],
      "metadata": {
        "colab": {
          "base_uri": "https://localhost:8080/"
        },
        "id": "VHSHs6QQoG-U",
        "outputId": "35552de6-11fd-46d7-e16b-15bd7746b2c9"
      },
      "execution_count": null,
      "outputs": [
        {
          "output_type": "stream",
          "name": "stdout",
          "text": [
            "Enter existing pin1234\n",
            "You entered the wrong pin.\n"
          ]
        }
      ]
    },
    {
      "cell_type": "code",
      "source": [
        "1 == '1'"
      ],
      "metadata": {
        "colab": {
          "base_uri": "https://localhost:8080/"
        },
        "id": "VbeknEIwloiN",
        "outputId": "3c58b705-df69-4f1b-e57f-9714b6893d00"
      },
      "execution_count": null,
      "outputs": [
        {
          "output_type": "execute_result",
          "data": {
            "text/plain": [
              "False"
            ]
          },
          "metadata": {},
          "execution_count": 28
        }
      ]
    },
    {
      "cell_type": "code",
      "source": [
        "1 == 1"
      ],
      "metadata": {
        "colab": {
          "base_uri": "https://localhost:8080/"
        },
        "id": "JzQ12kAKovZf",
        "outputId": "c3c63039-0bd0-4fee-e097-e45b32636c5d"
      },
      "execution_count": null,
      "outputs": [
        {
          "output_type": "execute_result",
          "data": {
            "text/plain": [
              "True"
            ]
          },
          "metadata": {},
          "execution_count": 29
        }
      ]
    },
    {
      "cell_type": "code",
      "source": [
        "class Fraction:\n",
        "  def __init__(self, x, y):\n",
        "    self.num = x\n",
        "    self.den = y\n",
        "  def __str__(self):\n",
        "    return f'{self.num}/{self.den}'\n",
        "\n",
        "  def __add__(self, other):\n",
        "    upp_half = self.num * other.den + other.num * self.den\n",
        "    deno = self.den * other.den\n",
        "    return f\"{upp_half}/{deno}\"\n",
        "\n",
        "  def __sub__(self, other):\n",
        "    new_num = self.num * other.den - other.num * self.den\n",
        "    new_deno = self.den * other.den\n",
        "    return '{}/{}'.format(new_num, new_deno)"
      ],
      "metadata": {
        "id": "RFZliOZQowVn"
      },
      "execution_count": null,
      "outputs": []
    },
    {
      "cell_type": "code",
      "source": [
        "f1 = Fraction(3, 4)\n",
        "print(f1)"
      ],
      "metadata": {
        "colab": {
          "base_uri": "https://localhost:8080/"
        },
        "id": "eH6BNiYv1tOK",
        "outputId": "1156925c-4f09-45b9-f254-b5591e46afc1"
      },
      "execution_count": null,
      "outputs": [
        {
          "output_type": "stream",
          "name": "stdout",
          "text": [
            "3/4\n"
          ]
        }
      ]
    },
    {
      "cell_type": "code",
      "source": [
        "f3 = Fraction(2, 3)"
      ],
      "metadata": {
        "id": "EMey7rQz-Wun"
      },
      "execution_count": null,
      "outputs": []
    },
    {
      "cell_type": "code",
      "source": [
        "f2 = Fraction(1, 2)\n",
        "f1 + f2"
      ],
      "metadata": {
        "colab": {
          "base_uri": "https://localhost:8080/",
          "height": 36
        },
        "id": "3swc1tTr13Vr",
        "outputId": "b24bc1a7-3bd5-4054-e286-3643c0438c46"
      },
      "execution_count": null,
      "outputs": [
        {
          "output_type": "execute_result",
          "data": {
            "text/plain": [
              "'10/8'"
            ],
            "application/vnd.google.colaboratory.intrinsic+json": {
              "type": "string"
            }
          },
          "metadata": {},
          "execution_count": 76
        }
      ]
    },
    {
      "cell_type": "code",
      "source": [
        "f1-f2"
      ],
      "metadata": {
        "colab": {
          "base_uri": "https://localhost:8080/",
          "height": 36
        },
        "id": "uOhe_35z_Qig",
        "outputId": "195f8b05-f833-4480-a4c9-b1a30d3c8505"
      },
      "execution_count": null,
      "outputs": [
        {
          "output_type": "execute_result",
          "data": {
            "text/plain": [
              "'2/8'"
            ],
            "application/vnd.google.colaboratory.intrinsic+json": {
              "type": "string"
            }
          },
          "metadata": {},
          "execution_count": 77
        }
      ]
    },
    {
      "cell_type": "code",
      "source": [
        "[1, 2] + [2, 3]"
      ],
      "metadata": {
        "colab": {
          "base_uri": "https://localhost:8080/"
        },
        "id": "PerGTMlq9a9O",
        "outputId": "0b84dac5-39f9-45e2-983e-725cbb2868dc"
      },
      "execution_count": null,
      "outputs": [
        {
          "output_type": "execute_result",
          "data": {
            "text/plain": [
              "[1, 2, 2, 3]"
            ]
          },
          "metadata": {},
          "execution_count": 58
        }
      ]
    },
    {
      "cell_type": "code",
      "source": [
        "[1, 2, 3] + [2, 4, 5]+[2, 43, 5]"
      ],
      "metadata": {
        "colab": {
          "base_uri": "https://localhost:8080/"
        },
        "id": "3-gt9xJ2-fY0",
        "outputId": "af36b42d-f73b-4a21-9ba9-69db7b117bbe"
      },
      "execution_count": null,
      "outputs": [
        {
          "output_type": "execute_result",
          "data": {
            "text/plain": [
              "[1, 2, 3, 2, 4, 5, 2, 43, 5]"
            ]
          },
          "metadata": {},
          "execution_count": 59
        }
      ]
    },
    {
      "cell_type": "code",
      "source": [
        "'ab'+'cd'+'ef'"
      ],
      "metadata": {
        "colab": {
          "base_uri": "https://localhost:8080/",
          "height": 36
        },
        "id": "L1SKUeYw-jXs",
        "outputId": "2d26d0ef-5d67-415f-c44b-32f75fe14d11"
      },
      "execution_count": null,
      "outputs": [
        {
          "output_type": "execute_result",
          "data": {
            "text/plain": [
              "'abcdef'"
            ],
            "application/vnd.google.colaboratory.intrinsic+json": {
              "type": "string"
            }
          },
          "metadata": {},
          "execution_count": 67
        }
      ]
    },
    {
      "cell_type": "code",
      "source": [],
      "metadata": {
        "id": "KLPYNxOV_ff7"
      },
      "execution_count": null,
      "outputs": []
    }
  ]
}