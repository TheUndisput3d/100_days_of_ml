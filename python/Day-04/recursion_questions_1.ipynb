{
  "cells": [
    {
      "cell_type": "code",
      "execution_count": null,
      "metadata": {
        "colab": {
          "base_uri": "https://localhost:8080/"
        },
        "id": "NQnqMdXL9HDS",
        "outputId": "5619628e-0d75-4aa8-fc00-81033f514316"
      },
      "outputs": [
        {
          "name": "stdout",
          "output_type": "stream",
          "text": [
            "5\n",
            "4\n",
            "3\n",
            "2\n",
            "1\n"
          ]
        }
      ],
      "source": [
        "n = 5\n",
        "def print_n(n):\n",
        "  print(n)\n",
        "  if n != 1:\n",
        "    print_n(n-1)\n",
        "print_n(n)"
      ]
    },
    {
      "cell_type": "code",
      "execution_count": null,
      "metadata": {
        "colab": {
          "base_uri": "https://localhost:8080/"
        },
        "id": "eayi-PWSL1AL",
        "outputId": "93610a40-b0cb-49df-e1dc-8584fb078b12"
      },
      "outputs": [
        {
          "name": "stdout",
          "output_type": "stream",
          "text": [
            "5\n",
            "4\n",
            "3\n",
            "2\n",
            "1\n"
          ]
        }
      ],
      "source": [
        "def print_n(n):\n",
        "  if n==0:\n",
        "    return\n",
        "  print(n)\n",
        "  print_n(n-1)\n",
        "print_n(5)"
      ]
    },
    {
      "cell_type": "code",
      "execution_count": null,
      "metadata": {
        "colab": {
          "base_uri": "https://localhost:8080/"
        },
        "id": "ZEeHDEfcL_ay",
        "outputId": "9a7619d8-24ba-4070-891e-b9c686fdd54b"
      },
      "outputs": [
        {
          "name": "stdout",
          "output_type": "stream",
          "text": [
            "1\n",
            "2\n",
            "3\n",
            "4\n",
            "5\n"
          ]
        }
      ],
      "source": [
        "def print_n(n):\n",
        "  if n==0:\n",
        "    return\n",
        "  print_n(n-1)\n",
        "  print(n)\n",
        "print_n(5)"
      ]
    },
    {
      "cell_type": "code",
      "execution_count": null,
      "metadata": {
        "id": "hWv5gEFpMseD"
      },
      "outputs": [],
      "source": []
    },
    {
      "cell_type": "code",
      "execution_count": null,
      "metadata": {
        "colab": {
          "base_uri": "https://localhost:8080/"
        },
        "id": "No0T9CLf-FoQ",
        "outputId": "b65209eb-6cfd-40c8-b56d-c4875cebd893"
      },
      "outputs": [
        {
          "name": "stdout",
          "output_type": "stream",
          "text": [
            "1\n"
          ]
        }
      ],
      "source": [
        "print(1)"
      ]
    },
    {
      "cell_type": "code",
      "execution_count": null,
      "metadata": {
        "colab": {
          "base_uri": "https://localhost:8080/"
        },
        "id": "M0I7a1eF-WzQ",
        "outputId": "9fab1bcb-9a4c-4604-dcdb-6ac6ba7ad19c"
      },
      "outputs": [
        {
          "name": "stdout",
          "output_type": "stream",
          "text": [
            "1\n",
            "2\n",
            "3\n",
            "4\n",
            "5\n"
          ]
        }
      ],
      "source": [
        "def print_n(n):\n",
        "  if n != 1:\n",
        "    print_n(n-1)\n",
        "  print(n)\n",
        "\n",
        "print_n(n)"
      ]
    },
    {
      "cell_type": "code",
      "execution_count": null,
      "metadata": {
        "colab": {
          "base_uri": "https://localhost:8080/",
          "height": 36
        },
        "id": "6MadFqlZNOjL",
        "outputId": "7940d597-41d5-4962-8a09-f5009618e55e"
      },
      "outputs": [
        {
          "data": {
            "application/vnd.google.colaboratory.intrinsic+json": {
              "type": "string"
            },
            "text/plain": [
              "'cannot calculate factorial of negative number'"
            ]
          },
          "execution_count": 41,
          "metadata": {},
          "output_type": "execute_result"
        }
      ],
      "source": [
        "def fact(n):\n",
        "  if n <0:\n",
        "    return 'cannot calculate factorial of negative number'\n",
        "  if n <= 1:\n",
        "    return 1\n",
        "  return n * fact(n-1)\n",
        "fact(-5)"
      ]
    },
    {
      "cell_type": "code",
      "execution_count": null,
      "metadata": {
        "colab": {
          "base_uri": "https://localhost:8080/"
        },
        "id": "pmmV0q8ROBxn",
        "outputId": "316e78c3-bc34-46c0-b33d-858596855c9f"
      },
      "outputs": [
        {
          "data": {
            "text/plain": [
              "15"
            ]
          },
          "execution_count": 42,
          "metadata": {},
          "output_type": "execute_result"
        }
      ],
      "source": [
        "def sum(n):\n",
        "  if n < 2:\n",
        "    return 1\n",
        "  return n + sum(n-1)\n",
        "sum(5)"
      ]
    },
    {
      "cell_type": "code",
      "execution_count": 1,
      "metadata": {
        "colab": {
          "base_uri": "https://localhost:8080/"
        },
        "id": "aYW0HVIkPCMa",
        "outputId": "ed39c3d3-28d3-4367-df7f-b7cd2e598b84"
      },
      "outputs": [
        {
          "output_type": "execute_result",
          "data": {
            "text/plain": [
              "15"
            ]
          },
          "metadata": {},
          "execution_count": 1
        }
      ],
      "source": [
        "#sum of digits of a num using recursion\n",
        "def sum_digits(num):\n",
        "  n = str(num)\n",
        "  n_g = len(n)\n",
        "  if num==0:\n",
        "    return num\n",
        "  n_s = n[0] + '0'*(n_g-1)\n",
        "  return num//int(n_s.replace(n[0], '1')) + sum_digits(num-int(n_s))\n",
        "\n",
        "sum_digits(5523)\n"
      ]
    },
    {
      "cell_type": "code",
      "execution_count": null,
      "metadata": {
        "colab": {
          "base_uri": "https://localhost:8080/"
        },
        "id": "DTInyEvF_TSv",
        "outputId": "41483a34-91bd-4669-b285-18270b2d20e1"
      },
      "outputs": [
        {
          "name": "stdout",
          "output_type": "stream",
          "text": [
            "Hello world\n",
            "Hello world\n",
            "Hello world\n",
            "Hello world\n",
            "Hello world\n",
            "Hello world\n",
            "Hello world\n",
            "Hello world\n",
            "Hello world\n",
            "Hello world\n"
          ]
        }
      ],
      "source": [
        "def message(n):\n",
        "  print('Hello world')\n",
        "  if n == 1:\n",
        "    return\n",
        "  message(n-1)\n",
        "message(3)\n"
      ]
    },
    {
      "cell_type": "code",
      "execution_count": null,
      "metadata": {
        "colab": {
          "base_uri": "https://localhost:8080/"
        },
        "id": "mDTMsM-P_cLn",
        "outputId": "8cd3e7dd-f9b1-486d-b9f0-534cb09a66f6"
      },
      "outputs": [
        {
          "data": {
            "text/plain": [
              "3"
            ]
          },
          "execution_count": 21,
          "metadata": {},
          "output_type": "execute_result"
        }
      ],
      "source": [
        "def fibo(num):\n",
        "  if num < 2:\n",
        "    return num\n",
        "  return fibo(num-1) + fibo(num-2)\n",
        "fibo(4)"
      ]
    },
    {
      "cell_type": "code",
      "execution_count": null,
      "metadata": {
        "id": "MCgmWgnECHS5"
      },
      "outputs": [],
      "source": []
    }
  ],
  "metadata": {
    "colab": {
      "provenance": []
    },
    "kernelspec": {
      "display_name": "Python 3",
      "name": "python3"
    },
    "language_info": {
      "name": "python"
    }
  },
  "nbformat": 4,
  "nbformat_minor": 0
}