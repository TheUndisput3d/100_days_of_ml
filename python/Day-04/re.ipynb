{
  "nbformat": 4,
  "nbformat_minor": 0,
  "metadata": {
    "colab": {
      "provenance": []
    },
    "kernelspec": {
      "name": "python3",
      "display_name": "Python 3"
    },
    "language_info": {
      "name": "python"
    }
  },
  "cells": [
    {
      "cell_type": "code",
      "source": [
        "import re\n"
      ],
      "metadata": {
        "id": "tEdbh2H9aU17"
      },
      "execution_count": null,
      "outputs": []
    },
    {
      "cell_type": "code",
      "source": [
        "a = '\\taayush'\n",
        "print(a)"
      ],
      "metadata": {
        "colab": {
          "base_uri": "https://localhost:8080/"
        },
        "id": "4x943td0ab0I",
        "outputId": "eece56aa-80b6-485e-f529-dc4374e8b94a"
      },
      "execution_count": null,
      "outputs": [
        {
          "output_type": "stream",
          "name": "stdout",
          "text": [
            "\taayush\n"
          ]
        }
      ]
    },
    {
      "cell_type": "markdown",
      "source": [
        "### Snippets\n",
        "\n",
        ".       - Any Character Except New Line\n",
        "\n",
        "\\d      - Digit (0-9)\n",
        "\n",
        "\\D      - Not a Digit (0-9)\n",
        "\n",
        "\\w      - Word Character (a-z, A-Z, 0-9, _)\n",
        "\n",
        "\\W      - Not a Word Character\n",
        "\n",
        "\\s      - Whitespace (space, tab, newline)\n",
        "\n",
        "\\S      - Not Whitespace (space, tab, newline)\n",
        "\n",
        "\n",
        "\n",
        "\n",
        "\n",
        "\n",
        "\\b      - Word Boundary\n",
        "\n",
        "\\B      - Not a Word Boundary\n",
        "\n",
        "^       - Beginning of a String\n",
        "\n",
        "$       - End of a String\n",
        "\n",
        "\n",
        "\n",
        "\n",
        "\n",
        "[]      - Matches Characters in brackets\n",
        "[^ ]    - Matches Characters NOT in brackets\n",
        "\n",
        "|       - Either Or\n",
        "\n",
        "\n",
        "( )     - Group\n",
        "\n",
        "Quantifiers:\n",
        "* *       - 0 or More\n",
        "\n",
        "* +       - 1 or More\n",
        "\n",
        "?       - 0 or One\n",
        "\n",
        "{3}     - Exact Number\n",
        "\n",
        "{3,4}   - Range of Numbers (Minimum, Maximum)\n",
        "\n",
        "\n",
        "#### Sample Regexs ####\n",
        "\n",
        "[a-zA-Z0-9_.+-]+@[a-zA-Z0-9-]+\\.[a-zA-Z0-9-.]+\n"
      ],
      "metadata": {
        "id": "a-Ca1FTufTAs"
      }
    },
    {
      "cell_type": "code",
      "source": [
        "\n",
        "# .       - Any Character Except New Line\n",
        "# \\d      - Digit (0-9)\n",
        "# \\D      - Not a Digit (0-9)\n",
        "# \\w      - Word Character (a-z, A-Z, 0-9, _)\n",
        "# \\W      - Not a Word Character\n",
        "# \\s      - Whitespace (space, tab, newline)\n",
        "# \\S      - Not Whitespace (space, tab, newline)\n",
        "\n",
        "# \\b      - Word Boundary\n",
        "# \\B      - Not a Word Boundary\n",
        "# ^       - Beginning of a String\n",
        "# $       - End of a String\n",
        "\n",
        "# []      - Matches Characters in brackets\n",
        "# [^ ]    - Matches Characters NOT in brackets\n",
        "# |       - Either Or\n",
        "# ( )     - Group\n",
        "\n",
        "# Quantifiers:\n",
        "# *       - 0 or More\n",
        "# +       - 1 or More\n",
        "# ?       - 0 or One\n",
        "# {3}     - Exact Number\n",
        "# {3,4}   - Range of Numbers (Minimum, Maximum)\n",
        "\n",
        "\n",
        "#### Sample Regexs ####\n",
        "\n",
        "# [a-zA-Z0-9_.+-]+@[a-zA-Z0-9-]+\\.[a-zA-Z0-9-.]+"
      ],
      "metadata": {
        "id": "iFOtCCfWpEZP"
      },
      "execution_count": null,
      "outputs": []
    },
    {
      "cell_type": "code",
      "source": [
        "s = 'aayush'\n",
        "s[0:2]"
      ],
      "metadata": {
        "colab": {
          "base_uri": "https://localhost:8080/",
          "height": 36
        },
        "id": "j_SGNr24hYca",
        "outputId": "f290c37c-fc29-4227-a7f9-1dc104b3535d"
      },
      "execution_count": null,
      "outputs": [
        {
          "output_type": "execute_result",
          "data": {
            "text/plain": [
              "'aa'"
            ],
            "application/vnd.google.colaboratory.intrinsic+json": {
              "type": "string"
            }
          },
          "metadata": {},
          "execution_count": 38
        }
      ]
    },
    {
      "cell_type": "markdown",
      "source": [
        "### Search for literal characters"
      ],
      "metadata": {
        "id": "FZAS5PPdof5j"
      }
    },
    {
      "cell_type": "markdown",
      "source": [
        "- for eg: literal 'abc' being searched below in `demo_str`"
      ],
      "metadata": {
        "id": "FsLdrqAgojH2"
      }
    },
    {
      "cell_type": "code",
      "source": [
        "demo_str = 'abc what up abcdefg abcis awesome.'\n"
      ],
      "metadata": {
        "id": "a2H2wJs7oXV-"
      },
      "execution_count": null,
      "outputs": []
    },
    {
      "cell_type": "code",
      "source": [
        "pattern = re.compile(r'abc') # it takes the pattern to search\n",
        "matches = pattern.finditer(demo_str) # arg for finditer is the string to search in\n",
        "for i in matches:\n",
        "  print(i)"
      ],
      "metadata": {
        "colab": {
          "base_uri": "https://localhost:8080/"
        },
        "id": "HT_SZZRJocQe",
        "outputId": "9103d1d3-3636-415d-e68f-92850eb09ec5"
      },
      "execution_count": null,
      "outputs": [
        {
          "output_type": "stream",
          "name": "stdout",
          "text": [
            "<re.Match object; span=(0, 3), match='abc'>\n",
            "<re.Match object; span=(12, 15), match='abc'>\n",
            "<re.Match object; span=(20, 23), match='abc'>\n"
          ]
        }
      ]
    },
    {
      "cell_type": "code",
      "source": [
        "text_to_search = '''\n",
        "abcdefghijklmnopqurtuvwxyz\n",
        "ABCDEFGHIJKLMNOPQRSTUVWXYZ\n",
        "1234567890 1\n",
        "\n",
        "Ha Ha\\Ha\n",
        "\n",
        "MetaCharacters (Need to be escaped):\n",
        ". ^ $ * + ? { } [ ] \\ | ( )\n",
        "\n",
        "coreyms.com\n",
        "\n",
        "321-555-4321\n",
        "123.555.1234\n",
        "123*555*1234\n",
        "123$555$1234\n",
        "800-555-1234\n",
        "900-555-1234\n",
        "\n",
        "Mr. Schafer\n",
        "Mr Smith\n",
        "Ms Davis\n",
        "Mrs. Robinson\n",
        "Mr. T\n",
        "\n",
        "cat\n",
        "mat\n",
        "pat\n",
        "bat\n",
        "\n",
        "*\n",
        "+\n",
        ".\n",
        "'''\n"
      ],
      "metadata": {
        "id": "YefScdC0T-fz"
      },
      "execution_count": null,
      "outputs": []
    },
    {
      "cell_type": "markdown",
      "source": [
        "### Anchors don't match any characters but rather invisible positions before or after characters\n",
        "- can be used in  conjunction with other characters we're searching for\n",
        "###following are `anchors`:\n",
        "\n",
        "* \\b      - Word Boundary\n",
        "* \\B      - Not a Word Boundary\n",
        "* ^       - Beginning of a String\n",
        "* $       - End of a String"
      ],
      "metadata": {
        "id": "A5hmI9Cln8A7"
      }
    },
    {
      "cell_type": "code",
      "source": [
        "demo_str = 'abc what up abcdefg abcis awesome.'\n",
        "pattern = re.compile(r'\\b') # it takes the pattern to search\n",
        "matches = pattern.finditer(text_to_search) # arg for finditer is the string to search in\n",
        "for i in matches:\n",
        "  print(i)"
      ],
      "metadata": {
        "colab": {
          "base_uri": "https://localhost:8080/"
        },
        "id": "0LTtwTpmmbGk",
        "outputId": "907e67b3-61a3-4741-cb1a-1749e90c45fa"
      },
      "execution_count": null,
      "outputs": [
        {
          "output_type": "stream",
          "name": "stdout",
          "text": [
            "<re.Match object; span=(1, 1), match=''>\n",
            "<re.Match object; span=(27, 27), match=''>\n",
            "<re.Match object; span=(28, 28), match=''>\n",
            "<re.Match object; span=(54, 54), match=''>\n",
            "<re.Match object; span=(55, 55), match=''>\n",
            "<re.Match object; span=(65, 65), match=''>\n",
            "<re.Match object; span=(66, 66), match=''>\n",
            "<re.Match object; span=(67, 67), match=''>\n",
            "<re.Match object; span=(69, 69), match=''>\n",
            "<re.Match object; span=(71, 71), match=''>\n",
            "<re.Match object; span=(72, 72), match=''>\n",
            "<re.Match object; span=(74, 74), match=''>\n",
            "<re.Match object; span=(75, 75), match=''>\n",
            "<re.Match object; span=(77, 77), match=''>\n",
            "<re.Match object; span=(79, 79), match=''>\n",
            "<re.Match object; span=(93, 93), match=''>\n",
            "<re.Match object; span=(95, 95), match=''>\n",
            "<re.Match object; span=(99, 99), match=''>\n",
            "<re.Match object; span=(100, 100), match=''>\n",
            "<re.Match object; span=(102, 102), match=''>\n",
            "<re.Match object; span=(103, 103), match=''>\n",
            "<re.Match object; span=(105, 105), match=''>\n",
            "<re.Match object; span=(106, 106), match=''>\n",
            "<re.Match object; span=(113, 113), match=''>\n",
            "<re.Match object; span=(145, 145), match=''>\n",
            "<re.Match object; span=(152, 152), match=''>\n",
            "<re.Match object; span=(153, 153), match=''>\n",
            "<re.Match object; span=(156, 156), match=''>\n",
            "<re.Match object; span=(158, 158), match=''>\n",
            "<re.Match object; span=(161, 161), match=''>\n",
            "<re.Match object; span=(162, 162), match=''>\n",
            "<re.Match object; span=(165, 165), match=''>\n",
            "<re.Match object; span=(166, 166), match=''>\n",
            "<re.Match object; span=(170, 170), match=''>\n",
            "<re.Match object; span=(171, 171), match=''>\n",
            "<re.Match object; span=(174, 174), match=''>\n",
            "<re.Match object; span=(175, 175), match=''>\n",
            "<re.Match object; span=(178, 178), match=''>\n",
            "<re.Match object; span=(179, 179), match=''>\n",
            "<re.Match object; span=(183, 183), match=''>\n",
            "<re.Match object; span=(184, 184), match=''>\n",
            "<re.Match object; span=(187, 187), match=''>\n",
            "<re.Match object; span=(188, 188), match=''>\n",
            "<re.Match object; span=(191, 191), match=''>\n",
            "<re.Match object; span=(192, 192), match=''>\n",
            "<re.Match object; span=(196, 196), match=''>\n",
            "<re.Match object; span=(197, 197), match=''>\n",
            "<re.Match object; span=(200, 200), match=''>\n",
            "<re.Match object; span=(201, 201), match=''>\n",
            "<re.Match object; span=(204, 204), match=''>\n",
            "<re.Match object; span=(205, 205), match=''>\n",
            "<re.Match object; span=(209, 209), match=''>\n",
            "<re.Match object; span=(210, 210), match=''>\n",
            "<re.Match object; span=(213, 213), match=''>\n",
            "<re.Match object; span=(214, 214), match=''>\n",
            "<re.Match object; span=(217, 217), match=''>\n",
            "<re.Match object; span=(218, 218), match=''>\n",
            "<re.Match object; span=(222, 222), match=''>\n",
            "<re.Match object; span=(223, 223), match=''>\n",
            "<re.Match object; span=(226, 226), match=''>\n",
            "<re.Match object; span=(227, 227), match=''>\n",
            "<re.Match object; span=(230, 230), match=''>\n",
            "<re.Match object; span=(231, 231), match=''>\n",
            "<re.Match object; span=(235, 235), match=''>\n",
            "<re.Match object; span=(237, 237), match=''>\n",
            "<re.Match object; span=(239, 239), match=''>\n",
            "<re.Match object; span=(241, 241), match=''>\n",
            "<re.Match object; span=(248, 248), match=''>\n",
            "<re.Match object; span=(249, 249), match=''>\n",
            "<re.Match object; span=(251, 251), match=''>\n",
            "<re.Match object; span=(252, 252), match=''>\n",
            "<re.Match object; span=(257, 257), match=''>\n",
            "<re.Match object; span=(258, 258), match=''>\n",
            "<re.Match object; span=(260, 260), match=''>\n",
            "<re.Match object; span=(261, 261), match=''>\n",
            "<re.Match object; span=(266, 266), match=''>\n",
            "<re.Match object; span=(267, 267), match=''>\n",
            "<re.Match object; span=(270, 270), match=''>\n",
            "<re.Match object; span=(272, 272), match=''>\n",
            "<re.Match object; span=(280, 280), match=''>\n",
            "<re.Match object; span=(281, 281), match=''>\n",
            "<re.Match object; span=(283, 283), match=''>\n",
            "<re.Match object; span=(285, 285), match=''>\n",
            "<re.Match object; span=(286, 286), match=''>\n",
            "<re.Match object; span=(288, 288), match=''>\n",
            "<re.Match object; span=(291, 291), match=''>\n",
            "<re.Match object; span=(292, 292), match=''>\n",
            "<re.Match object; span=(295, 295), match=''>\n",
            "<re.Match object; span=(296, 296), match=''>\n",
            "<re.Match object; span=(299, 299), match=''>\n",
            "<re.Match object; span=(300, 300), match=''>\n",
            "<re.Match object; span=(303, 303), match=''>\n"
          ]
        }
      ]
    },
    {
      "cell_type": "code",
      "source": [
        "demo_str = 'abc what up abcdefg abcis awesome.'\n",
        "pattern = re.compile(r'[0-9-*]+') # it takes the pattern to search\n",
        "matches = pattern.finditer(text_to_search) # arg for finditer is the string to search in\n",
        "for i in matches:\n",
        "  print(i)"
      ],
      "metadata": {
        "colab": {
          "base_uri": "https://localhost:8080/"
        },
        "id": "794MBa41aWL-",
        "outputId": "89b5df99-af5a-4640-c71c-dbe1c4c2e201"
      },
      "execution_count": null,
      "outputs": [
        {
          "output_type": "stream",
          "name": "stdout",
          "text": [
            "<re.Match object; span=(55, 65), match='1234567890'>\n",
            "<re.Match object; span=(66, 67), match='1'>\n",
            "<re.Match object; span=(122, 123), match='*'>\n",
            "<re.Match object; span=(158, 170), match='321-555-4321'>\n",
            "<re.Match object; span=(171, 174), match='123'>\n",
            "<re.Match object; span=(175, 178), match='555'>\n",
            "<re.Match object; span=(179, 183), match='1234'>\n",
            "<re.Match object; span=(184, 196), match='123*555*1234'>\n",
            "<re.Match object; span=(197, 200), match='123'>\n",
            "<re.Match object; span=(201, 204), match='555'>\n",
            "<re.Match object; span=(205, 209), match='1234'>\n",
            "<re.Match object; span=(210, 222), match='800-555-1234'>\n",
            "<re.Match object; span=(223, 235), match='900-555-1234'>\n",
            "<re.Match object; span=(305, 306), match='*'>\n"
          ]
        }
      ]
    },
    {
      "cell_type": "markdown",
      "source": [
        "- matching only this kind of strings `321-555-4321`\n"
      ],
      "metadata": {
        "id": "3kCWfQoLjk2S"
      }
    },
    {
      "cell_type": "code",
      "source": [
        "demo_str = 'abc what up abcdefg abcis awesome.'\n",
        "pattern = re.compile(r'[0-9]+-[0-9]+-[0-9]+') # it takes the pattern to search\n",
        "matches = pattern.finditer(text_to_search) # arg for finditer is the string to search in\n",
        "for i in matches:\n",
        "  print(i)"
      ],
      "metadata": {
        "colab": {
          "base_uri": "https://localhost:8080/"
        },
        "id": "kxHosNIBjiAa",
        "outputId": "f3a35536-6141-41ad-8531-8b447eabe8e8"
      },
      "execution_count": null,
      "outputs": [
        {
          "output_type": "stream",
          "name": "stdout",
          "text": [
            "<re.Match object; span=(158, 170), match='321-555-4321'>\n",
            "<re.Match object; span=(210, 222), match='800-555-1234'>\n",
            "<re.Match object; span=(223, 235), match='900-555-1234'>\n"
          ]
        }
      ]
    },
    {
      "cell_type": "markdown",
      "source": [
        "* doing this in a better way using quantifiers, esp. `{}`,  in this case"
      ],
      "metadata": {
        "id": "nNoPfukLVC75"
      }
    },
    {
      "cell_type": "code",
      "source": [
        "demo_str = 'abc what up abcdefg abcis awesome.'\n",
        "pattern = re.compile(r'\\d{3}-\\d{3}-\\d{4}') # it takes the pattern to search\n",
        "matches = pattern.finditer(text_to_search) # arg for finditer is the string to search in\n",
        "for i in matches:\n",
        "  print(i)"
      ],
      "metadata": {
        "colab": {
          "base_uri": "https://localhost:8080/"
        },
        "id": "mFrDF_6WVGG3",
        "outputId": "234cbf27-918c-4a95-cc48-c6fbc249cad1"
      },
      "execution_count": null,
      "outputs": [
        {
          "output_type": "stream",
          "name": "stdout",
          "text": [
            "<re.Match object; span=(158, 170), match='321-555-4321'>\n",
            "<re.Match object; span=(210, 222), match='800-555-1234'>\n",
            "<re.Match object; span=(223, 235), match='900-555-1234'>\n"
          ]
        }
      ]
    },
    {
      "cell_type": "code",
      "source": [
        "pattern = re.compile(r'[0-9-]+') # it takes the pattern to search\n",
        "matches = pattern.finditer(text_to_search) # arg for finditer is the string to search in\n",
        "for i in matches:\n",
        "  print(i)"
      ],
      "metadata": {
        "colab": {
          "base_uri": "https://localhost:8080/"
        },
        "id": "0J4ZjzBhk3H-",
        "outputId": "664e7954-3fa9-44b4-d644-f365502fbb1b"
      },
      "execution_count": null,
      "outputs": [
        {
          "output_type": "stream",
          "name": "stdout",
          "text": [
            "<re.Match object; span=(55, 65), match='1234567890'>\n",
            "<re.Match object; span=(66, 67), match='1'>\n",
            "<re.Match object; span=(158, 170), match='321-555-4321'>\n",
            "<re.Match object; span=(171, 174), match='123'>\n",
            "<re.Match object; span=(175, 178), match='555'>\n",
            "<re.Match object; span=(179, 183), match='1234'>\n",
            "<re.Match object; span=(184, 187), match='123'>\n",
            "<re.Match object; span=(188, 191), match='555'>\n",
            "<re.Match object; span=(192, 196), match='1234'>\n",
            "<re.Match object; span=(197, 200), match='123'>\n",
            "<re.Match object; span=(201, 204), match='555'>\n",
            "<re.Match object; span=(205, 209), match='1234'>\n",
            "<re.Match object; span=(210, 222), match='800-555-1234'>\n",
            "<re.Match object; span=(223, 235), match='900-555-1234'>\n"
          ]
        }
      ]
    },
    {
      "cell_type": "code",
      "source": [
        "demo_str[12:15]"
      ],
      "metadata": {
        "colab": {
          "base_uri": "https://localhost:8080/",
          "height": 36
        },
        "id": "2Orek8q9bs31",
        "outputId": "f7100ac9-6020-43cd-ab74-e712561b611e"
      },
      "execution_count": null,
      "outputs": [
        {
          "output_type": "execute_result",
          "data": {
            "text/plain": [
              "'abc'"
            ],
            "application/vnd.google.colaboratory.intrinsic+json": {
              "type": "string"
            }
          },
          "metadata": {},
          "execution_count": 47
        }
      ]
    },
    {
      "cell_type": "code",
      "source": [
        "a = 'hello'\n",
        "list(a)\n",
        "a"
      ],
      "metadata": {
        "colab": {
          "base_uri": "https://localhost:8080/",
          "height": 36
        },
        "id": "A9fJGRyFctRr",
        "outputId": "142686f4-f203-44e9-e811-184b897d4951"
      },
      "execution_count": null,
      "outputs": [
        {
          "output_type": "execute_result",
          "data": {
            "text/plain": [
              "'hello'"
            ],
            "application/vnd.google.colaboratory.intrinsic+json": {
              "type": "string"
            }
          },
          "metadata": {},
          "execution_count": 48
        }
      ]
    },
    {
      "cell_type": "code",
      "source": [
        "for i in []:\n",
        "  print(i)"
      ],
      "metadata": {
        "id": "PTsIgjagc7D1"
      },
      "execution_count": null,
      "outputs": []
    },
    {
      "cell_type": "markdown",
      "source": [
        "### Matching the start of the string with (anchor) `^` symbol."
      ],
      "metadata": {
        "id": "5d3rQgmptE64"
      }
    },
    {
      "cell_type": "markdown",
      "source": [],
      "metadata": {
        "id": "PSFKRICju-RO"
      }
    },
    {
      "cell_type": "markdown",
      "source": [
        "- `^`, basically searches for any pattern that comes after it for ex ( `abc` in `^abc`), at the start of the string being searched on."
      ],
      "metadata": {
        "id": "87jyi2X3up1I"
      }
    },
    {
      "cell_type": "markdown",
      "source": [
        "- here we are matching `abc` at the start of the string `demo_str`"
      ],
      "metadata": {
        "id": "BOlTKpsdtNog"
      }
    },
    {
      "cell_type": "markdown",
      "source": [
        "- code below searches for the pattern `abc` at the start of the string `demo_str`."
      ],
      "metadata": {
        "id": "7iP4WhdjtrWj"
      }
    },
    {
      "cell_type": "code",
      "source": [
        "demo_str = 'abc what up abcdefg abcis awesome.'"
      ],
      "metadata": {
        "id": "B7kVKCjxtZYD"
      },
      "execution_count": null,
      "outputs": []
    },
    {
      "cell_type": "code",
      "source": [
        "\n",
        "pattern = re.compile(r'^abc') # it takes the pattern to search\n",
        "matches = pattern.finditer(demo_str) # arg for finditer is the string to search in\n",
        "for i in matches:\n",
        "  print(i)"
      ],
      "metadata": {
        "id": "Kc6LFyM5djaI",
        "colab": {
          "base_uri": "https://localhost:8080/"
        },
        "outputId": "e051188d-56c6-441b-cc56-b5381b10f2a0"
      },
      "execution_count": null,
      "outputs": [
        {
          "output_type": "stream",
          "name": "stdout",
          "text": [
            "<re.Match object; span=(0, 3), match='abc'>\n"
          ]
        }
      ]
    },
    {
      "cell_type": "markdown",
      "source": [
        "- as the start of demo_str contains `abc` matching any other pattern that is not at the start with `^` wont return any match"
      ],
      "metadata": {
        "id": "lhMkVK3Ss3VD"
      }
    },
    {
      "cell_type": "markdown",
      "source": [
        "- here, `what` is not present at the start of `demo_str` so no match is returned."
      ],
      "metadata": {
        "id": "_FTY30d_t7gE"
      }
    },
    {
      "cell_type": "code",
      "source": [
        "pattern = re.compile(r'^what') # it takes the pattern to search\n",
        "matches = pattern.finditer(demo_str) # arg for finditer is the string to search in\n",
        "for i in matches:\n",
        "  print(i)"
      ],
      "metadata": {
        "id": "okVl9ei6toKw"
      },
      "execution_count": null,
      "outputs": []
    },
    {
      "cell_type": "markdown",
      "source": [
        "### Mtching the end of the string with (anchor) `$` symbol\n",
        "\n",
        "\n"
      ],
      "metadata": {
        "id": "7_p6oIkmuvXP"
      }
    },
    {
      "cell_type": "markdown",
      "source": [
        "> code below, matches the literal text `abcis awesome.` that is in the end of string demo_str because of the `$` symbol being used at the end"
      ],
      "metadata": {
        "id": "IJstTOGRvmyg"
      }
    },
    {
      "cell_type": "code",
      "source": [
        "pattern = re.compile(r'abcis awesome.$') # it takes the pattern to search\n",
        "matches = pattern.finditer(demo_str) # arg for finditer is the string to search in\n",
        "for i in matches:\n",
        "  print(i)"
      ],
      "metadata": {
        "colab": {
          "base_uri": "https://localhost:8080/"
        },
        "id": "nWBl-PYgvISa",
        "outputId": "d12ae375-e355-47ef-e0dc-2a37b0e81e01"
      },
      "execution_count": null,
      "outputs": [
        {
          "output_type": "stream",
          "name": "stdout",
          "text": [
            "<re.Match object; span=(20, 34), match='abcis awesome.'>\n"
          ]
        }
      ]
    },
    {
      "cell_type": "markdown",
      "source": [
        "> code below shows\n",
        "- although `abc` is present in demo_str but not at the end it didn't return any match"
      ],
      "metadata": {
        "id": "9LfWcZZywDvs"
      }
    },
    {
      "cell_type": "code",
      "source": [
        "pattern = re.compile(r'abc$') # it takes the pattern to search\n",
        "matches = pattern.finditer(demo_str) # arg for finditer is the string to search in\n",
        "for i in matches:\n",
        "  print(i)"
      ],
      "metadata": {
        "id": "C2EVP4X_vaHj"
      },
      "execution_count": null,
      "outputs": []
    },
    {
      "cell_type": "code",
      "execution_count": null,
      "metadata": {
        "id": "l862AVt8UULq"
      },
      "outputs": [],
      "source": [
        "text_to_search = '''\n",
        "abcdefghijklmnopqurtuvwxyz\n",
        "ABCDEFGHIJKLMNOPQRSTUVWXYZ\n",
        "1234567890 1\n",
        "\n",
        "Ha Ha\\Ha\n",
        "\n",
        "MetaCharacters (Need to be escaped):\n",
        ". ^ $ * + ? { } [ ] \\ | ( )\n",
        "\n",
        "coreyms.com\n",
        "\n",
        "321-555-4321\n",
        "123.555.1234\n",
        "123*555*1234\n",
        "123$555$1234\n",
        "800-555-1234\n",
        "900-555-1234\n",
        "\n",
        "Mr. Schafer\n",
        "Mr Smith\n",
        "Ms Davis\n",
        "Mrs. Robinson\n",
        "Mr. T\n",
        "\n",
        "cat\n",
        "mat\n",
        "pat\n",
        "bat\n",
        "\n",
        "*\n",
        "+\n",
        ".\n",
        "'''\n"
      ]
    },
    {
      "cell_type": "markdown",
      "source": [
        "- `-` is a special char aswell\n",
        "- when used at the beginning or end it works as a literal dash(-) char but when placed between values it'll specify a range of values"
      ],
      "metadata": {
        "id": "eZCfvyG6496W"
      }
    },
    {
      "cell_type": "code",
      "source": [
        "pattern = re.compile(r'[1-5]') # it takes the pattern to search\n",
        "matches = pattern.finditer(text_to_search) # arg for finditer is the string to search in\n",
        "for i in matches:\n",
        "  print(i)"
      ],
      "metadata": {
        "colab": {
          "base_uri": "https://localhost:8080/"
        },
        "id": "D6LHqw_843WO",
        "outputId": "cf6668cf-25cd-4e9d-ccc4-92035f255191"
      },
      "execution_count": null,
      "outputs": [
        {
          "output_type": "stream",
          "name": "stdout",
          "text": [
            "<re.Match object; span=(55, 56), match='1'>\n",
            "<re.Match object; span=(56, 57), match='2'>\n",
            "<re.Match object; span=(57, 58), match='3'>\n",
            "<re.Match object; span=(58, 59), match='4'>\n",
            "<re.Match object; span=(59, 60), match='5'>\n",
            "<re.Match object; span=(66, 67), match='1'>\n",
            "<re.Match object; span=(158, 159), match='3'>\n",
            "<re.Match object; span=(159, 160), match='2'>\n",
            "<re.Match object; span=(160, 161), match='1'>\n",
            "<re.Match object; span=(162, 163), match='5'>\n",
            "<re.Match object; span=(163, 164), match='5'>\n",
            "<re.Match object; span=(164, 165), match='5'>\n",
            "<re.Match object; span=(166, 167), match='4'>\n",
            "<re.Match object; span=(167, 168), match='3'>\n",
            "<re.Match object; span=(168, 169), match='2'>\n",
            "<re.Match object; span=(169, 170), match='1'>\n",
            "<re.Match object; span=(171, 172), match='1'>\n",
            "<re.Match object; span=(172, 173), match='2'>\n",
            "<re.Match object; span=(173, 174), match='3'>\n",
            "<re.Match object; span=(175, 176), match='5'>\n",
            "<re.Match object; span=(176, 177), match='5'>\n",
            "<re.Match object; span=(177, 178), match='5'>\n",
            "<re.Match object; span=(179, 180), match='1'>\n",
            "<re.Match object; span=(180, 181), match='2'>\n",
            "<re.Match object; span=(181, 182), match='3'>\n",
            "<re.Match object; span=(182, 183), match='4'>\n",
            "<re.Match object; span=(184, 185), match='1'>\n",
            "<re.Match object; span=(185, 186), match='2'>\n",
            "<re.Match object; span=(186, 187), match='3'>\n",
            "<re.Match object; span=(188, 189), match='5'>\n",
            "<re.Match object; span=(189, 190), match='5'>\n",
            "<re.Match object; span=(190, 191), match='5'>\n",
            "<re.Match object; span=(192, 193), match='1'>\n",
            "<re.Match object; span=(193, 194), match='2'>\n",
            "<re.Match object; span=(194, 195), match='3'>\n",
            "<re.Match object; span=(195, 196), match='4'>\n",
            "<re.Match object; span=(197, 198), match='1'>\n",
            "<re.Match object; span=(198, 199), match='2'>\n",
            "<re.Match object; span=(199, 200), match='3'>\n",
            "<re.Match object; span=(201, 202), match='5'>\n",
            "<re.Match object; span=(202, 203), match='5'>\n",
            "<re.Match object; span=(203, 204), match='5'>\n",
            "<re.Match object; span=(205, 206), match='1'>\n",
            "<re.Match object; span=(206, 207), match='2'>\n",
            "<re.Match object; span=(207, 208), match='3'>\n",
            "<re.Match object; span=(208, 209), match='4'>\n",
            "<re.Match object; span=(214, 215), match='5'>\n",
            "<re.Match object; span=(215, 216), match='5'>\n",
            "<re.Match object; span=(216, 217), match='5'>\n",
            "<re.Match object; span=(218, 219), match='1'>\n",
            "<re.Match object; span=(219, 220), match='2'>\n",
            "<re.Match object; span=(220, 221), match='3'>\n",
            "<re.Match object; span=(221, 222), match='4'>\n",
            "<re.Match object; span=(227, 228), match='5'>\n",
            "<re.Match object; span=(228, 229), match='5'>\n",
            "<re.Match object; span=(229, 230), match='5'>\n",
            "<re.Match object; span=(231, 232), match='1'>\n",
            "<re.Match object; span=(232, 233), match='2'>\n",
            "<re.Match object; span=(233, 234), match='3'>\n",
            "<re.Match object; span=(234, 235), match='4'>\n"
          ]
        }
      ]
    },
    {
      "cell_type": "markdown",
      "source": [
        "> Inside `character-sets` or `[]`, special characters like ('.', '*', '+') behave literally"
      ],
      "metadata": {
        "id": "o2W3SoBy5yIi"
      }
    },
    {
      "cell_type": "markdown",
      "source": [
        "> `[^]` a ^ symbol inside `[]` negates whatever is inside\n",
        "- For eg in code below it matches every char except for a lower or a uppercase letters"
      ],
      "metadata": {
        "id": "WehIOcXy6cod"
      }
    },
    {
      "cell_type": "code",
      "source": [
        "pattern = re.compile(r'[^A-Za-z]') # it takes the pattern to search\n",
        "matches = pattern.finditer(text_to_search) # arg for finditer is the string to search in\n",
        "for i in matches:\n",
        "  print(i)"
      ],
      "metadata": {
        "colab": {
          "base_uri": "https://localhost:8080/"
        },
        "id": "MvGAxPEW5fsp",
        "outputId": "f5bf9855-c388-4696-9246-5fe7edccb867"
      },
      "execution_count": null,
      "outputs": [
        {
          "output_type": "stream",
          "name": "stdout",
          "text": [
            "<re.Match object; span=(0, 1), match='\\n'>\n",
            "<re.Match object; span=(27, 28), match='\\n'>\n",
            "<re.Match object; span=(54, 55), match='\\n'>\n",
            "<re.Match object; span=(55, 56), match='1'>\n",
            "<re.Match object; span=(56, 57), match='2'>\n",
            "<re.Match object; span=(57, 58), match='3'>\n",
            "<re.Match object; span=(58, 59), match='4'>\n",
            "<re.Match object; span=(59, 60), match='5'>\n",
            "<re.Match object; span=(60, 61), match='6'>\n",
            "<re.Match object; span=(61, 62), match='7'>\n",
            "<re.Match object; span=(62, 63), match='8'>\n",
            "<re.Match object; span=(63, 64), match='9'>\n",
            "<re.Match object; span=(64, 65), match='0'>\n",
            "<re.Match object; span=(65, 66), match=' '>\n",
            "<re.Match object; span=(66, 67), match='1'>\n",
            "<re.Match object; span=(67, 68), match='\\n'>\n",
            "<re.Match object; span=(68, 69), match='\\n'>\n",
            "<re.Match object; span=(71, 72), match=' '>\n",
            "<re.Match object; span=(74, 75), match='\\\\'>\n",
            "<re.Match object; span=(77, 78), match='\\n'>\n",
            "<re.Match object; span=(78, 79), match='\\n'>\n",
            "<re.Match object; span=(93, 94), match=' '>\n",
            "<re.Match object; span=(94, 95), match='('>\n",
            "<re.Match object; span=(99, 100), match=' '>\n",
            "<re.Match object; span=(102, 103), match=' '>\n",
            "<re.Match object; span=(105, 106), match=' '>\n",
            "<re.Match object; span=(113, 114), match=')'>\n",
            "<re.Match object; span=(114, 115), match=':'>\n",
            "<re.Match object; span=(115, 116), match='\\n'>\n",
            "<re.Match object; span=(116, 117), match='.'>\n",
            "<re.Match object; span=(117, 118), match=' '>\n",
            "<re.Match object; span=(118, 119), match='^'>\n",
            "<re.Match object; span=(119, 120), match=' '>\n",
            "<re.Match object; span=(120, 121), match='$'>\n",
            "<re.Match object; span=(121, 122), match=' '>\n",
            "<re.Match object; span=(122, 123), match='*'>\n",
            "<re.Match object; span=(123, 124), match=' '>\n",
            "<re.Match object; span=(124, 125), match='+'>\n",
            "<re.Match object; span=(125, 126), match=' '>\n",
            "<re.Match object; span=(126, 127), match='?'>\n",
            "<re.Match object; span=(127, 128), match=' '>\n",
            "<re.Match object; span=(128, 129), match='{'>\n",
            "<re.Match object; span=(129, 130), match=' '>\n",
            "<re.Match object; span=(130, 131), match='}'>\n",
            "<re.Match object; span=(131, 132), match=' '>\n",
            "<re.Match object; span=(132, 133), match='['>\n",
            "<re.Match object; span=(133, 134), match=' '>\n",
            "<re.Match object; span=(134, 135), match=']'>\n",
            "<re.Match object; span=(135, 136), match=' '>\n",
            "<re.Match object; span=(136, 137), match='\\\\'>\n",
            "<re.Match object; span=(137, 138), match=' '>\n",
            "<re.Match object; span=(138, 139), match='|'>\n",
            "<re.Match object; span=(139, 140), match=' '>\n",
            "<re.Match object; span=(140, 141), match='('>\n",
            "<re.Match object; span=(141, 142), match=' '>\n",
            "<re.Match object; span=(142, 143), match=')'>\n",
            "<re.Match object; span=(143, 144), match='\\n'>\n",
            "<re.Match object; span=(144, 145), match='\\n'>\n",
            "<re.Match object; span=(152, 153), match='.'>\n",
            "<re.Match object; span=(156, 157), match='\\n'>\n",
            "<re.Match object; span=(157, 158), match='\\n'>\n",
            "<re.Match object; span=(158, 159), match='3'>\n",
            "<re.Match object; span=(159, 160), match='2'>\n",
            "<re.Match object; span=(160, 161), match='1'>\n",
            "<re.Match object; span=(161, 162), match='-'>\n",
            "<re.Match object; span=(162, 163), match='5'>\n",
            "<re.Match object; span=(163, 164), match='5'>\n",
            "<re.Match object; span=(164, 165), match='5'>\n",
            "<re.Match object; span=(165, 166), match='-'>\n",
            "<re.Match object; span=(166, 167), match='4'>\n",
            "<re.Match object; span=(167, 168), match='3'>\n",
            "<re.Match object; span=(168, 169), match='2'>\n",
            "<re.Match object; span=(169, 170), match='1'>\n",
            "<re.Match object; span=(170, 171), match='\\n'>\n",
            "<re.Match object; span=(171, 172), match='1'>\n",
            "<re.Match object; span=(172, 173), match='2'>\n",
            "<re.Match object; span=(173, 174), match='3'>\n",
            "<re.Match object; span=(174, 175), match='.'>\n",
            "<re.Match object; span=(175, 176), match='5'>\n",
            "<re.Match object; span=(176, 177), match='5'>\n",
            "<re.Match object; span=(177, 178), match='5'>\n",
            "<re.Match object; span=(178, 179), match='.'>\n",
            "<re.Match object; span=(179, 180), match='1'>\n",
            "<re.Match object; span=(180, 181), match='2'>\n",
            "<re.Match object; span=(181, 182), match='3'>\n",
            "<re.Match object; span=(182, 183), match='4'>\n",
            "<re.Match object; span=(183, 184), match='\\n'>\n",
            "<re.Match object; span=(184, 185), match='1'>\n",
            "<re.Match object; span=(185, 186), match='2'>\n",
            "<re.Match object; span=(186, 187), match='3'>\n",
            "<re.Match object; span=(187, 188), match='*'>\n",
            "<re.Match object; span=(188, 189), match='5'>\n",
            "<re.Match object; span=(189, 190), match='5'>\n",
            "<re.Match object; span=(190, 191), match='5'>\n",
            "<re.Match object; span=(191, 192), match='*'>\n",
            "<re.Match object; span=(192, 193), match='1'>\n",
            "<re.Match object; span=(193, 194), match='2'>\n",
            "<re.Match object; span=(194, 195), match='3'>\n",
            "<re.Match object; span=(195, 196), match='4'>\n",
            "<re.Match object; span=(196, 197), match='\\n'>\n",
            "<re.Match object; span=(197, 198), match='1'>\n",
            "<re.Match object; span=(198, 199), match='2'>\n",
            "<re.Match object; span=(199, 200), match='3'>\n",
            "<re.Match object; span=(200, 201), match='$'>\n",
            "<re.Match object; span=(201, 202), match='5'>\n",
            "<re.Match object; span=(202, 203), match='5'>\n",
            "<re.Match object; span=(203, 204), match='5'>\n",
            "<re.Match object; span=(204, 205), match='$'>\n",
            "<re.Match object; span=(205, 206), match='1'>\n",
            "<re.Match object; span=(206, 207), match='2'>\n",
            "<re.Match object; span=(207, 208), match='3'>\n",
            "<re.Match object; span=(208, 209), match='4'>\n",
            "<re.Match object; span=(209, 210), match='\\n'>\n",
            "<re.Match object; span=(210, 211), match='8'>\n",
            "<re.Match object; span=(211, 212), match='0'>\n",
            "<re.Match object; span=(212, 213), match='0'>\n",
            "<re.Match object; span=(213, 214), match='-'>\n",
            "<re.Match object; span=(214, 215), match='5'>\n",
            "<re.Match object; span=(215, 216), match='5'>\n",
            "<re.Match object; span=(216, 217), match='5'>\n",
            "<re.Match object; span=(217, 218), match='-'>\n",
            "<re.Match object; span=(218, 219), match='1'>\n",
            "<re.Match object; span=(219, 220), match='2'>\n",
            "<re.Match object; span=(220, 221), match='3'>\n",
            "<re.Match object; span=(221, 222), match='4'>\n",
            "<re.Match object; span=(222, 223), match='\\n'>\n",
            "<re.Match object; span=(223, 224), match='9'>\n",
            "<re.Match object; span=(224, 225), match='0'>\n",
            "<re.Match object; span=(225, 226), match='0'>\n",
            "<re.Match object; span=(226, 227), match='-'>\n",
            "<re.Match object; span=(227, 228), match='5'>\n",
            "<re.Match object; span=(228, 229), match='5'>\n",
            "<re.Match object; span=(229, 230), match='5'>\n",
            "<re.Match object; span=(230, 231), match='-'>\n",
            "<re.Match object; span=(231, 232), match='1'>\n",
            "<re.Match object; span=(232, 233), match='2'>\n",
            "<re.Match object; span=(233, 234), match='3'>\n",
            "<re.Match object; span=(234, 235), match='4'>\n",
            "<re.Match object; span=(235, 236), match='\\n'>\n",
            "<re.Match object; span=(236, 237), match='\\n'>\n",
            "<re.Match object; span=(239, 240), match='.'>\n",
            "<re.Match object; span=(240, 241), match=' '>\n",
            "<re.Match object; span=(248, 249), match='\\n'>\n",
            "<re.Match object; span=(251, 252), match=' '>\n",
            "<re.Match object; span=(257, 258), match='\\n'>\n",
            "<re.Match object; span=(260, 261), match=' '>\n",
            "<re.Match object; span=(266, 267), match='\\n'>\n",
            "<re.Match object; span=(270, 271), match='.'>\n",
            "<re.Match object; span=(271, 272), match=' '>\n",
            "<re.Match object; span=(280, 281), match='\\n'>\n",
            "<re.Match object; span=(283, 284), match='.'>\n",
            "<re.Match object; span=(284, 285), match=' '>\n",
            "<re.Match object; span=(286, 287), match='\\n'>\n",
            "<re.Match object; span=(287, 288), match='\\n'>\n",
            "<re.Match object; span=(291, 292), match='\\n'>\n",
            "<re.Match object; span=(295, 296), match='\\n'>\n",
            "<re.Match object; span=(299, 300), match='\\n'>\n",
            "<re.Match object; span=(303, 304), match='\\n'>\n",
            "<re.Match object; span=(304, 305), match='\\n'>\n",
            "<re.Match object; span=(305, 306), match='*'>\n",
            "<re.Match object; span=(306, 307), match='\\n'>\n",
            "<re.Match object; span=(307, 308), match='+'>\n",
            "<re.Match object; span=(308, 309), match='\\n'>\n",
            "<re.Match object; span=(309, 310), match='.'>\n",
            "<re.Match object; span=(310, 311), match='\\n'>\n"
          ]
        }
      ]
    },
    {
      "cell_type": "code",
      "source": [
        "pattern = re.compile(r'\\d\\d\\d\\d') # it takes the pattern to search\n",
        "matches = pattern.finditer(text_to_search) # arg for finditer is the string to search in\n",
        "for i in matches:\n",
        "  print(i)"
      ],
      "metadata": {
        "colab": {
          "base_uri": "https://localhost:8080/"
        },
        "id": "D6r6BQM51GnS",
        "outputId": "e0a3b428-6f7b-43c3-dcb4-c76352a40987"
      },
      "execution_count": null,
      "outputs": [
        {
          "output_type": "stream",
          "name": "stdout",
          "text": [
            "<re.Match object; span=(55, 59), match='1234'>\n",
            "<re.Match object; span=(59, 63), match='5678'>\n",
            "<re.Match object; span=(166, 170), match='4321'>\n",
            "<re.Match object; span=(179, 183), match='1234'>\n",
            "<re.Match object; span=(192, 196), match='1234'>\n",
            "<re.Match object; span=(205, 209), match='1234'>\n",
            "<re.Match object; span=(218, 222), match='1234'>\n",
            "<re.Match object; span=(231, 235), match='1234'>\n"
          ]
        }
      ]
    },
    {
      "cell_type": "code",
      "source": [
        "pattern = re.compile(r'\\d\\d\\d.\\d\\d\\d.\\d\\d\\d\\d') # it takes the pattern to search\n",
        "matches = pattern.finditer(text_to_search) # arg for finditer is the string to search in\n",
        "for i in matches:\n",
        "  print(i)"
      ],
      "metadata": {
        "colab": {
          "base_uri": "https://localhost:8080/"
        },
        "id": "-qHySfas1N2q",
        "outputId": "379f2457-2571-403a-a10c-61fb934efc4b"
      },
      "execution_count": null,
      "outputs": [
        {
          "output_type": "stream",
          "name": "stdout",
          "text": [
            "<re.Match object; span=(158, 170), match='321-555-4321'>\n",
            "<re.Match object; span=(171, 183), match='123.555.1234'>\n",
            "<re.Match object; span=(184, 196), match='123*555*1234'>\n",
            "<re.Match object; span=(197, 209), match='123$555$1234'>\n",
            "<re.Match object; span=(210, 222), match='800-555-1234'>\n",
            "<re.Match object; span=(223, 235), match='900-555-1234'>\n"
          ]
        }
      ]
    },
    {
      "cell_type": "markdown",
      "source": [
        "- matching only numbers separated by `-` or `*`"
      ],
      "metadata": {
        "id": "rEYly7rM2cz2"
      }
    },
    {
      "cell_type": "code",
      "source": [
        "pattern = re.compile(r'\\d\\d\\d[-*]\\d\\d\\d[-*]\\d\\d\\d\\d') # it takes the pattern to search\n",
        "matches = pattern.finditer(text_to_search) # arg for finditer is the string to search in\n",
        "for i in matches:\n",
        "  print(i)"
      ],
      "metadata": {
        "colab": {
          "base_uri": "https://localhost:8080/"
        },
        "id": "sZJOfjEh2j-a",
        "outputId": "444125fc-4a71-4024-e2aa-82c7292a0754"
      },
      "execution_count": null,
      "outputs": [
        {
          "output_type": "stream",
          "name": "stdout",
          "text": [
            "<re.Match object; span=(158, 170), match='321-555-4321'>\n",
            "<re.Match object; span=(184, 196), match='123*555*1234'>\n",
            "<re.Match object; span=(210, 222), match='800-555-1234'>\n",
            "<re.Match object; span=(223, 235), match='900-555-1234'>\n"
          ]
        }
      ]
    },
    {
      "cell_type": "code",
      "source": [
        "pattern = re.compile(r'\\d\\d\\d[*.]\\d\\d\\d[*.]\\d\\d\\d\\d')\n",
        "matches = pattern.finditer(text_to_search)\n",
        "for match in matches:\n",
        "  print(match)"
      ],
      "metadata": {
        "colab": {
          "base_uri": "https://localhost:8080/"
        },
        "id": "vGWDCfM930M2",
        "outputId": "2c8c48e5-9fb0-4941-bb0f-03c5862ad1cb"
      },
      "execution_count": null,
      "outputs": [
        {
          "output_type": "stream",
          "name": "stdout",
          "text": [
            "<re.Match object; span=(171, 183), match='123.555.1234'>\n",
            "<re.Match object; span=(184, 196), match='123*555*1234'>\n"
          ]
        }
      ]
    },
    {
      "cell_type": "code",
      "source": [
        "# starts with 800 or 900\n",
        "\n",
        "pattern = re.compile(r'[89]00[-*]\\d\\d\\d[-*]\\d\\d\\d\\d') # it takes the pattern to search\n",
        "matches = pattern.finditer(text_to_search) # arg for finditer is the string to search in\n",
        "for i in matches:\n",
        "  print(i)"
      ],
      "metadata": {
        "colab": {
          "base_uri": "https://localhost:8080/"
        },
        "id": "uzDyHM4c2w67",
        "outputId": "1e17ad64-527e-4751-f085-3be07bc99705"
      },
      "execution_count": null,
      "outputs": [
        {
          "output_type": "stream",
          "name": "stdout",
          "text": [
            "<re.Match object; span=(210, 222), match='800-555-1234'>\n",
            "<re.Match object; span=(223, 235), match='900-555-1234'>\n"
          ]
        }
      ]
    },
    {
      "cell_type": "code",
      "source": [
        "pattern = re.compile(r'[89]00[-.]\\d\\d\\d[-.]\\d\\d\\d\\d')\n",
        "\n",
        "with open('/content/data.txt', 'r') as f:\n",
        "  file_contents = f.read()\n",
        "  matches = pattern.finditer(file_contents)\n",
        "  for match in matches:\n",
        "    print(match)\n",
        "\n"
      ],
      "metadata": {
        "colab": {
          "base_uri": "https://localhost:8080/"
        },
        "id": "MwtVHDzu0nb-",
        "outputId": "4d8ade9e-ebbc-424d-b20a-e1b570c59198"
      },
      "execution_count": null,
      "outputs": [
        {
          "output_type": "stream",
          "name": "stdout",
          "text": [
            "<re.Match object; span=(102, 114), match='800-555-5669'>\n",
            "<re.Match object; span=(281, 293), match='900-555-9340'>\n",
            "<re.Match object; span=(467, 479), match='800-555-6771'>\n",
            "<re.Match object; span=(1091, 1103), match='900-555-3205'>\n",
            "<re.Match object; span=(1439, 1451), match='800-555-6089'>\n",
            "<re.Match object; span=(1790, 1802), match='800-555-7100'>\n",
            "<re.Match object; span=(2051, 2063), match='900-555-5118'>\n",
            "<re.Match object; span=(2826, 2838), match='900-555-5428'>\n",
            "<re.Match object; span=(3284, 3296), match='800-555-8810'>\n",
            "<re.Match object; span=(3971, 3983), match='900-555-9598'>\n",
            "<re.Match object; span=(4945, 4957), match='800-555-2420'>\n",
            "<re.Match object; span=(5566, 5578), match='900-555-3567'>\n",
            "<re.Match object; span=(6189, 6201), match='800-555-3216'>\n",
            "<re.Match object; span=(6889, 6901), match='900-555-7755'>\n",
            "<re.Match object; span=(7864, 7876), match='800-555-1372'>\n",
            "<re.Match object; span=(8741, 8753), match='900-555-6426'>\n"
          ]
        }
      ]
    },
    {
      "cell_type": "code",
      "source": [
        "pattern = re.compile(r'[^b]at')\n",
        "matches = pattern.finditer(text_to_search)\n",
        "for match in matches:\n",
        "  print(match)"
      ],
      "metadata": {
        "colab": {
          "base_uri": "https://localhost:8080/"
        },
        "id": "KH4svkEB00Mu",
        "outputId": "463f873b-a16d-45d9-e35a-872a5f3e7692"
      },
      "execution_count": null,
      "outputs": [
        {
          "output_type": "stream",
          "name": "stdout",
          "text": [
            "<re.Match object; span=(288, 291), match='cat'>\n",
            "<re.Match object; span=(292, 295), match='mat'>\n",
            "<re.Match object; span=(296, 299), match='pat'>\n"
          ]
        }
      ]
    },
    {
      "cell_type": "code",
      "source": [
        "text_to_search = '''\n",
        "abcdefghijklmnopqurtuvwxyz\n",
        "ABCDEFGHIJKLMNOPQRSTUVWXYZ\n",
        "1234567890 1\n",
        "\n",
        "Ha Ha\\Ha\n",
        "\n",
        "MetaCharacters (Need to be escaped):\n",
        ". ^ $ * + ? { } [ ] \\ | ( )\n",
        "\n",
        "coreyms.com\n",
        "\n",
        "321-555-4321\n",
        "123.555.1234\n",
        "123*555*1234\n",
        "123$555$1234\n",
        "800-555-1234\n",
        "900-555-1234\n",
        "\n",
        "Mr. Schafer\n",
        "Mr Smith\n",
        "Ms Davis\n",
        "Mrs. Robinson\n",
        "Mr. T\n",
        "\n",
        "cat\n",
        "mat\n",
        "pat\n",
        "bat\n",
        "\n",
        "*\n",
        "+\n",
        ".\n",
        "'''\n"
      ],
      "metadata": {
        "id": "S61V34yU9bkc"
      },
      "execution_count": null,
      "outputs": []
    },
    {
      "cell_type": "code",
      "source": [
        "pattern = re.compile(r'(Mr|Ms|Mrs)\\.?\\s[A-Z]\\w*')\n",
        "matches = pattern.finditer(text_to_search)\n",
        "for match in matches:\n",
        "  print(match)"
      ],
      "metadata": {
        "colab": {
          "base_uri": "https://localhost:8080/"
        },
        "id": "q5uFgOFOCbzu",
        "outputId": "495d9e4f-52f6-4377-b0ac-19d899b2fe2a"
      },
      "execution_count": null,
      "outputs": [
        {
          "output_type": "stream",
          "name": "stdout",
          "text": [
            "<re.Match object; span=(237, 248), match='Mr. Schafer'>\n",
            "<re.Match object; span=(249, 257), match='Mr Smith'>\n",
            "<re.Match object; span=(258, 266), match='Ms Davis'>\n",
            "<re.Match object; span=(267, 280), match='Mrs. Robinson'>\n",
            "<re.Match object; span=(281, 286), match='Mr. T'>\n"
          ]
        }
      ]
    },
    {
      "cell_type": "markdown",
      "source": [
        "### Using `findall` instead of `finditer`\n",
        "> `findall` returns the matches as a list of strings\n",
        "- If there are groups in the pattern, it'll only return those groups\n",
        "- more than 1 group will be returned as a list of tuples\n",
        "- if there are no groups, it'll return all of the matches in a list of strings."
      ],
      "metadata": {
        "id": "DqpoW_5SsP1J"
      }
    },
    {
      "cell_type": "markdown",
      "source": [
        "- Ex of printing all of the matches using `findall`."
      ],
      "metadata": {
        "id": "fasmEeUXtHXV"
      }
    },
    {
      "cell_type": "code",
      "source": [
        "pattern = re.compile(r'[^b]at')\n",
        "matches = pattern.findall(text_to_search)\n",
        "print(f\"type: {type(matches)}\")\n",
        "print(f\"matches: {matches}\")\n",
        "for match in matches:\n",
        "  print(match)"
      ],
      "metadata": {
        "colab": {
          "base_uri": "https://localhost:8080/"
        },
        "id": "UE65OuyZtR6g",
        "outputId": "2219382b-2770-4f01-df4e-7487de23d74a"
      },
      "execution_count": null,
      "outputs": [
        {
          "output_type": "stream",
          "name": "stdout",
          "text": [
            "type: <class 'list'>\n",
            "matches: ['cat', 'mat', 'pat']\n",
            "cat\n",
            "mat\n",
            "pat\n"
          ]
        }
      ]
    },
    {
      "cell_type": "code",
      "source": [
        "pattern = re.compile(r'\\d{3}.\\d{3}.\\d{3}')\n",
        "matches = pattern.findall(text_to_search)\n",
        "for match in matches:\n",
        "  print(match)"
      ],
      "metadata": {
        "colab": {
          "base_uri": "https://localhost:8080/"
        },
        "id": "2du-7se0ysFn",
        "outputId": "d5858ae8-bb57-467b-e854-57e236d3a612"
      },
      "execution_count": null,
      "outputs": [
        {
          "output_type": "stream",
          "name": "stdout",
          "text": [
            "321-555-432\n",
            "123.555.123\n",
            "123*555*123\n",
            "123$555$123\n",
            "800-555-123\n",
            "900-555-123\n"
          ]
        }
      ]
    },
    {
      "cell_type": "code",
      "source": [
        "import re\n",
        "\n",
        "# Regex pattern\n",
        "pattern = r'\\d{3,4}'\n",
        "\n",
        "# Input strings\n",
        "strings = [\n",
        "    '321-555-4321',\n",
        "    '123.555.1234',\n",
        "    '123*555*1234',\n",
        "    '123$555$1234',\n",
        "    '800-555-1234',\n",
        "    '900-555-1234',\n",
        "    '12345'\n",
        "]\n",
        "\n",
        "# Find matches for each string\n",
        "for s in strings:\n",
        "    matches = re.findall(pattern, s)\n",
        "    print(f\"Matches in '{s}': {matches}\")\n"
      ],
      "metadata": {
        "colab": {
          "base_uri": "https://localhost:8080/"
        },
        "id": "TYNFpjBIw_wT",
        "outputId": "9597687b-f1fb-4e61-ce44-68973cc9b993"
      },
      "execution_count": null,
      "outputs": [
        {
          "output_type": "stream",
          "name": "stdout",
          "text": [
            "Matches in '321-555-4321': ['321', '555', '4321']\n",
            "Matches in '123.555.1234': ['123', '555', '1234']\n",
            "Matches in '123*555*1234': ['123', '555', '1234']\n",
            "Matches in '123$555$1234': ['123', '555', '1234']\n",
            "Matches in '800-555-1234': ['800', '555', '1234']\n",
            "Matches in '900-555-1234': ['900', '555', '1234']\n",
            "Matches in '12345': ['1234']\n"
          ]
        }
      ]
    },
    {
      "cell_type": "code",
      "source": [
        "pattern = re.compile(r'\\d{3,4}')\n",
        "matches = pattern.findall(text_to_search)\n",
        "for match in matches:\n",
        "  print(match)"
      ],
      "metadata": {
        "colab": {
          "base_uri": "https://localhost:8080/"
        },
        "id": "00VXdIUIubYV",
        "outputId": "e2f4fc50-cce3-4ae1-ddd5-d8baf94cd86b"
      },
      "execution_count": null,
      "outputs": [
        {
          "output_type": "stream",
          "name": "stdout",
          "text": [
            "1234\n",
            "5678\n",
            "321\n",
            "555\n",
            "4321\n",
            "123\n",
            "555\n",
            "1234\n",
            "123\n",
            "555\n",
            "1234\n",
            "123\n",
            "555\n",
            "1234\n",
            "800\n",
            "555\n",
            "1234\n",
            "900\n",
            "555\n",
            "1234\n"
          ]
        }
      ]
    },
    {
      "cell_type": "code",
      "source": [
        "pattern = re.compile(r'(Mr|Ms|Mrs)\\.?\\s([A-Z]\\w*)')\n",
        "matches = pattern.findall(text_to_search)\n",
        "for match in matches:\n",
        "  print(match)"
      ],
      "metadata": {
        "colab": {
          "base_uri": "https://localhost:8080/"
        },
        "id": "E7hSQlzhsPe3",
        "outputId": "744fe400-3ab5-44d8-82ab-0895313448fc"
      },
      "execution_count": null,
      "outputs": [
        {
          "output_type": "stream",
          "name": "stdout",
          "text": [
            "('Mr', 'Schafer')\n",
            "('Mr', 'Smith')\n",
            "('Ms', 'Davis')\n",
            "('Mrs', 'Robinson')\n",
            "('Mr', 'T')\n"
          ]
        }
      ]
    },
    {
      "cell_type": "code",
      "source": [
        "import re\n",
        "\n",
        "emails = '''\n",
        "CoreyMSchafer@gmail.com\n",
        "corey.schafer@university.edu\n",
        "corey-321-schafer@my-work.net\n",
        "\n",
        "'''\n",
        "\n",
        "pattern = re.compile(r'[a-zA-Z0-9.-]+@[a-zA-Z-]+\\.(com|edu|net)')\n",
        "# pattern = re.compile(r'[A-Za-z]+@.+\\.(com|edu|net)')\n",
        "\n",
        "matches = pattern.finditer(emails)\n",
        "\n",
        "for match in matches:\n",
        "    print(match)"
      ],
      "metadata": {
        "colab": {
          "base_uri": "https://localhost:8080/"
        },
        "id": "aCQrXjE6ChdW",
        "outputId": "b8935b0b-06f1-4985-8314-0ac585032158"
      },
      "execution_count": null,
      "outputs": [
        {
          "output_type": "stream",
          "name": "stdout",
          "text": [
            "<re.Match object; span=(1, 24), match='CoreyMSchafer@gmail.com'>\n",
            "<re.Match object; span=(25, 53), match='corey.schafer@university.edu'>\n",
            "<re.Match object; span=(54, 83), match='corey-321-schafer@my-work.net'>\n"
          ]
        }
      ]
    },
    {
      "cell_type": "code",
      "source": [
        "# regular exp for matching emails from the internet\n",
        "pattern = re.compile(r'[a-zA-Z0-9_.+-]+@[a-zA-Z0-9-]+\\.[a-zA-Z0-9-.]+')\n",
        "\n",
        "matches = pattern.finditer(emails)\n",
        "\n",
        "for match in matches:\n",
        "    print(match)"
      ],
      "metadata": {
        "id": "KWkGhsV9Jz5V",
        "colab": {
          "base_uri": "https://localhost:8080/"
        },
        "outputId": "d297b28b-afab-433d-b03c-96ef8e53ee3a"
      },
      "execution_count": null,
      "outputs": [
        {
          "output_type": "stream",
          "name": "stdout",
          "text": [
            "<re.Match object; span=(1, 24), match='CoreyMSchafer@gmail.com'>\n",
            "<re.Match object; span=(25, 53), match='corey.schafer@university.edu'>\n",
            "<re.Match object; span=(54, 83), match='corey-321-schafer@my-work.net'>\n"
          ]
        }
      ]
    },
    {
      "cell_type": "code",
      "source": [
        "urls = '''\n",
        "https://www.google.com\n",
        "http://coreyms.com\n",
        "https://youtube.com\n",
        "https://www.nasa.gov\n",
        "'''"
      ],
      "metadata": {
        "id": "BFXQWt-wnXgS"
      },
      "execution_count": null,
      "outputs": []
    },
    {
      "cell_type": "markdown",
      "source": [
        "### Capture Groups"
      ],
      "metadata": {
        "id": "bM_D-STOqtMg"
      }
    },
    {
      "cell_type": "code",
      "source": [
        "pattern = re.compile(r'https?://(www\\.)?(\\w+)(\\.\\w+)')\n",
        "matches = pattern.finditer(urls)\n",
        "for match in matches:\n",
        "  # print(match.group(2) + match.group(3))\n",
        "  print(match.group(2))"
      ],
      "metadata": {
        "colab": {
          "base_uri": "https://localhost:8080/"
        },
        "id": "xxhXJ1SToHX-",
        "outputId": "1ba7ab13-f546-4d85-b139-50e39fa48536"
      },
      "execution_count": null,
      "outputs": [
        {
          "output_type": "stream",
          "name": "stdout",
          "text": [
            "google\n",
            "coreyms\n",
            "youtube\n",
            "nasa\n"
          ]
        }
      ]
    },
    {
      "cell_type": "code",
      "source": [
        "pattern = re.compile(r'https?://(www\\.)?(\\w+)(\\.\\w+)')\n",
        "subbed_urls = pattern.sub(r'\\2\\3', urls)\n",
        "print(subbed_urls)"
      ],
      "metadata": {
        "colab": {
          "base_uri": "https://localhost:8080/"
        },
        "id": "-VtQG0YDo2U6",
        "outputId": "e02f8afb-eb90-4377-95fe-241d50216593"
      },
      "execution_count": null,
      "outputs": [
        {
          "output_type": "stream",
          "name": "stdout",
          "text": [
            "\n",
            "google.com\n",
            "coreyms.com\n",
            "youtube.com\n",
            "nasa.gov\n",
            "\n"
          ]
        }
      ]
    },
    {
      "cell_type": "markdown",
      "source": [
        "`match`"
      ],
      "metadata": {
        "id": "g7JeW4i9rie8"
      }
    },
    {
      "cell_type": "code",
      "source": [
        "sentence = 'Start a sentence and then bring it to an end'\n",
        "pattern = re.compile(r'Start')\n",
        "mtch = pattern.match(sentence)\n",
        "print(mtch)"
      ],
      "metadata": {
        "colab": {
          "base_uri": "https://localhost:8080/"
        },
        "id": "fNjcSrkWzQXL",
        "outputId": "74c5c254-ac8c-4720-faef-406aaf7d7c7f"
      },
      "execution_count": null,
      "outputs": [
        {
          "output_type": "stream",
          "name": "stdout",
          "text": [
            "<re.Match object; span=(0, 5), match='Start'>\n"
          ]
        }
      ]
    },
    {
      "cell_type": "markdown",
      "source": [
        "`search`"
      ],
      "metadata": {
        "id": "IoD7cAd47OoJ"
      }
    },
    {
      "cell_type": "markdown",
      "source": [
        "> `search` returns the first match and returns nothing if it doesn't find a match"
      ],
      "metadata": {
        "id": "kKT8kcz97nPl"
      }
    },
    {
      "cell_type": "code",
      "source": [
        "sentence = 'Start a sentence and then bring it to and end'\n",
        "pattern = re.compile(r'and')\n",
        "mtch = pattern.search(sentence)\n",
        "print(mtch)"
      ],
      "metadata": {
        "colab": {
          "base_uri": "https://localhost:8080/"
        },
        "id": "moOyMIl44BgC",
        "outputId": "20207f08-f37d-4e83-ac6a-aa30a693c2d1"
      },
      "execution_count": null,
      "outputs": [
        {
          "output_type": "stream",
          "name": "stdout",
          "text": [
            "<re.Match object; span=(17, 20), match='and'>\n"
          ]
        }
      ]
    },
    {
      "cell_type": "markdown",
      "source": [
        "### Flags"
      ],
      "metadata": {
        "id": "to7O_CrL78aC"
      }
    },
    {
      "cell_type": "markdown",
      "source": [
        "> `re.IGNORECASE` Flag:\n",
        "- if we want to match a word, but match it whether it was uppercase, lowecase, or a mixture of both"
      ],
      "metadata": {
        "id": "pSPxqUVM8L2o"
      }
    },
    {
      "cell_type": "code",
      "source": [
        "sentence = 'Start a sentence and then bring it to and end'\n",
        "pattern = re.compile(r'start', re.IGNORECASE)\n",
        "mtch = pattern.search(sentence)\n",
        "print(mtch)"
      ],
      "metadata": {
        "colab": {
          "base_uri": "https://localhost:8080/"
        },
        "id": "sHXJdX3o7ha5",
        "outputId": "66175579-3797-4260-9ce2-d7c371a60a4a"
      },
      "execution_count": null,
      "outputs": [
        {
          "output_type": "stream",
          "name": "stdout",
          "text": [
            "<re.Match object; span=(0, 5), match='Start'>\n"
          ]
        }
      ]
    },
    {
      "cell_type": "code",
      "source": [],
      "metadata": {
        "id": "E2vbwiKd8C4c"
      },
      "execution_count": null,
      "outputs": []
    }
  ]
}